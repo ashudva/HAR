{
 "cells": [
  {
   "cell_type": "code",
   "execution_count": 5,
   "metadata": {},
   "outputs": [],
   "source": [
    "library(tensorflow)\n",
    "library(tidyverse)\n",
    "library(ggridges)\n",
    "library(knitr)\n",
    "library(rmarkdown)"
   ]
  },
  {
   "cell_type": "code",
   "execution_count": 17,
   "metadata": {},
   "outputs": [
    {
     "data": {
      "text/plain": [
       "\n",
       "\n",
       " Number   Label              \n",
       "--------  -------------------\n",
       "   1      WALKING            \n",
       "   2      WALKING_UPSTAIRS   \n",
       "   3      WALKING_DOWNSTAIRS \n",
       "   4      SITTING            \n",
       "   5      STANDING           \n",
       "   6      LAYING             "
      ]
     },
     "metadata": {},
     "output_type": "display_data"
    }
   ],
   "source": [
    "activity_labels <- read.table(\n",
    "    \"data//activity_labels.txt\",\n",
    "    col.names = c(\"Number\", \"Label\"))\n",
    "\n",
    "activity_labels %>%\n",
    "    kable(format = \"pandoc\",\n",
    "          align = c(\"c\", \"l\"))"
   ]
  },
  {
   "cell_type": "code",
   "execution_count": 22,
   "metadata": {},
   "outputs": [
    {
     "data": {
      "text/plain": [
       "\n",
       "\n",
       " Number   Feature           \n",
       "--------  ------------------\n",
       "   1      tBodyAcc-mean()-X \n",
       "   2      tBodyAcc-mean()-Y \n",
       "   3      tBodyAcc-mean()-Z \n",
       "   4      tBodyAcc-std()-X  \n",
       "   5      tBodyAcc-std()-Y  \n",
       "   6      tBodyAcc-std()-Z  \n",
       "   7      tBodyAcc-mad()-X  \n",
       "   8      tBodyAcc-mad()-Y  \n",
       "   9      tBodyAcc-mad()-Z  \n",
       "   10     tBodyAcc-max()-X  "
      ]
     },
     "metadata": {},
     "output_type": "display_data"
    }
   ],
   "source": [
    "features <- read.table(\n",
    "    \"data/features.txt\",\n",
    "    col.names = c(\"Number\", \"Feature\"))\n",
    "\n",
    "features %>%\n",
    "    head(10) %>%\n",
    "    kable(format = \"pandoc\",\n",
    "          align = c(\"c\", \"l\"))"
   ]
  },
  {
   "cell_type": "code",
   "execution_count": 28,
   "metadata": {},
   "outputs": [],
   "source": [
    "# Reading & Visualize data\n",
    "train_x <- read.table(\"data//train/X_train.txt\")\n",
    "train_y <- read.table(\"data//train/y_train.txt\")"
   ]
  },
  {
   "cell_type": "code",
   "execution_count": 46,
   "metadata": {},
   "outputs": [
    {
     "data": {
      "text/html": [
       "<table>\n",
       "<thead><tr><th scope=col>V1</th><th scope=col>V2</th><th scope=col>V3</th><th scope=col>V4</th><th scope=col>V5</th><th scope=col>V6</th><th scope=col>V7</th><th scope=col>V8</th><th scope=col>V9</th><th scope=col>V10</th><th scope=col>...</th><th scope=col>V552</th><th scope=col>V553</th><th scope=col>V554</th><th scope=col>V555</th><th scope=col>V556</th><th scope=col>V557</th><th scope=col>V558</th><th scope=col>V559</th><th scope=col>V560</th><th scope=col>V561</th></tr></thead>\n",
       "<tbody>\n",
       "\t<tr><td>0.2885845   </td><td>-0.02029417 </td><td>-0.1329051  </td><td>-0.9952786  </td><td>-0.9831106  </td><td>-0.9135264  </td><td>-0.9951121  </td><td>-0.9831846  </td><td>-0.9235270  </td><td>-0.9347238  </td><td>...         </td><td>-0.07432303 </td><td>-0.2986764  </td><td>-0.7103041  </td><td>-0.11275434 </td><td> 0.030400372</td><td>-0.4647614  </td><td>-0.01844588 </td><td>-0.8412468  </td><td>0.1799406   </td><td>-0.05862692 </td></tr>\n",
       "\t<tr><td>0.2784188   </td><td>-0.01641057 </td><td>-0.1235202  </td><td>-0.9982453  </td><td>-0.9753002  </td><td>-0.9603220  </td><td>-0.9988072  </td><td>-0.9749144  </td><td>-0.9576862  </td><td>-0.9430675  </td><td>...         </td><td> 0.15807454 </td><td>-0.5950509  </td><td>-0.8614993  </td><td> 0.05347695 </td><td>-0.007434566</td><td>-0.7326262  </td><td> 0.70351059 </td><td>-0.8447876  </td><td>0.1802889   </td><td>-0.05431672 </td></tr>\n",
       "\t<tr><td>0.2796531   </td><td>-0.01946716 </td><td>-0.1134617  </td><td>-0.9953796  </td><td>-0.9671870  </td><td>-0.9789440  </td><td>-0.9965199  </td><td>-0.9636684  </td><td>-0.9774686  </td><td>-0.9386916  </td><td>...         </td><td> 0.41450281 </td><td>-0.3907482  </td><td>-0.7601037  </td><td>-0.11855926 </td><td> 0.177899480</td><td> 0.1006992  </td><td> 0.80852908 </td><td>-0.8489335  </td><td>0.1806373   </td><td>-0.04911782 </td></tr>\n",
       "\t<tr><td>0.2791739   </td><td>-0.02620065 </td><td>-0.1232826  </td><td>-0.9960915  </td><td>-0.9834027  </td><td>-0.9906751  </td><td>-0.9970995  </td><td>-0.9827498  </td><td>-0.9893025  </td><td>-0.9386916  </td><td>...         </td><td> 0.40457253 </td><td>-0.1172902  </td><td>-0.4828445  </td><td>-0.03678797 </td><td>-0.012892494</td><td> 0.6400110  </td><td>-0.48536645 </td><td>-0.8486494  </td><td>0.1819348   </td><td>-0.04766318 </td></tr>\n",
       "\t<tr><td>0.2766288   </td><td>-0.01656965 </td><td>-0.1153619  </td><td>-0.9981386  </td><td>-0.9808173  </td><td>-0.9904816  </td><td>-0.9983211  </td><td>-0.9796719  </td><td>-0.9904411  </td><td>-0.9424691  </td><td>...         </td><td> 0.08775301 </td><td>-0.3514709  </td><td>-0.6992052  </td><td> 0.12332005 </td><td> 0.122541960</td><td> 0.6935783  </td><td>-0.61597061 </td><td>-0.8478653  </td><td>0.1851512   </td><td>-0.04389225 </td></tr>\n",
       "\t<tr><td>0.2771988   </td><td>-0.01009785 </td><td>-0.1051373  </td><td>-0.9973350  </td><td>-0.9904868  </td><td>-0.9954200  </td><td>-0.9976274  </td><td>-0.9902177  </td><td>-0.9955489  </td><td>-0.9424691  </td><td>...         </td><td> 0.01995331 </td><td>-0.5454101  </td><td>-0.8446193  </td><td> 0.08263215 </td><td>-0.143439010</td><td> 0.2750408  </td><td>-0.36822404 </td><td>-0.8496316  </td><td>0.1848225   </td><td>-0.04212638 </td></tr>\n",
       "</tbody>\n",
       "</table>\n"
      ],
      "text/latex": [
       "\\begin{tabular}{r|lllllllllllllllllllllllllllllllllllllllllllllllllllllllllllllllllllllllllllllllllllllllllllllllllllllllllllllllllllllllllllllllllllllllllllllllllllllllllllllllllllllllllllllllllllllllllllllllllllllllllllllllllllllllllllllllllllllllllllllllllllllllllllllllllllllllllllllllllllllllllllllllllllllllllllllllllllllllllllllllllllllllllllllllllllllllllllllllllllllllllllllllllllllllllllllllllllllllllllllllllllllllllllllllllllllllllllllllllllllllllllllllllllllllllllllllllllllllllllllllllllllllllllllllllllllllllllllllllllllllllllllllllllllllllllllllllllllllllllllllll}\n",
       " V1 & V2 & V3 & V4 & V5 & V6 & V7 & V8 & V9 & V10 & ... & V552 & V553 & V554 & V555 & V556 & V557 & V558 & V559 & V560 & V561\\\\\n",
       "\\hline\n",
       "\t 0.2885845    & -0.02029417  & -0.1329051   & -0.9952786   & -0.9831106   & -0.9135264   & -0.9951121   & -0.9831846   & -0.9235270   & -0.9347238   & ...          & -0.07432303  & -0.2986764   & -0.7103041   & -0.11275434  &  0.030400372 & -0.4647614   & -0.01844588  & -0.8412468   & 0.1799406    & -0.05862692 \\\\\n",
       "\t 0.2784188    & -0.01641057  & -0.1235202   & -0.9982453   & -0.9753002   & -0.9603220   & -0.9988072   & -0.9749144   & -0.9576862   & -0.9430675   & ...          &  0.15807454  & -0.5950509   & -0.8614993   &  0.05347695  & -0.007434566 & -0.7326262   &  0.70351059  & -0.8447876   & 0.1802889    & -0.05431672 \\\\\n",
       "\t 0.2796531    & -0.01946716  & -0.1134617   & -0.9953796   & -0.9671870   & -0.9789440   & -0.9965199   & -0.9636684   & -0.9774686   & -0.9386916   & ...          &  0.41450281  & -0.3907482   & -0.7601037   & -0.11855926  &  0.177899480 &  0.1006992   &  0.80852908  & -0.8489335   & 0.1806373    & -0.04911782 \\\\\n",
       "\t 0.2791739    & -0.02620065  & -0.1232826   & -0.9960915   & -0.9834027   & -0.9906751   & -0.9970995   & -0.9827498   & -0.9893025   & -0.9386916   & ...          &  0.40457253  & -0.1172902   & -0.4828445   & -0.03678797  & -0.012892494 &  0.6400110   & -0.48536645  & -0.8486494   & 0.1819348    & -0.04766318 \\\\\n",
       "\t 0.2766288    & -0.01656965  & -0.1153619   & -0.9981386   & -0.9808173   & -0.9904816   & -0.9983211   & -0.9796719   & -0.9904411   & -0.9424691   & ...          &  0.08775301  & -0.3514709   & -0.6992052   &  0.12332005  &  0.122541960 &  0.6935783   & -0.61597061  & -0.8478653   & 0.1851512    & -0.04389225 \\\\\n",
       "\t 0.2771988    & -0.01009785  & -0.1051373   & -0.9973350   & -0.9904868   & -0.9954200   & -0.9976274   & -0.9902177   & -0.9955489   & -0.9424691   & ...          &  0.01995331  & -0.5454101   & -0.8446193   &  0.08263215  & -0.143439010 &  0.2750408   & -0.36822404  & -0.8496316   & 0.1848225    & -0.04212638 \\\\\n",
       "\\end{tabular}\n"
      ],
      "text/markdown": [
       "\n",
       "| V1 | V2 | V3 | V4 | V5 | V6 | V7 | V8 | V9 | V10 | ... | V552 | V553 | V554 | V555 | V556 | V557 | V558 | V559 | V560 | V561 |\n",
       "|---|---|---|---|---|---|---|---|---|---|---|---|---|---|---|---|---|---|---|---|---|\n",
       "| 0.2885845    | -0.02029417  | -0.1329051   | -0.9952786   | -0.9831106   | -0.9135264   | -0.9951121   | -0.9831846   | -0.9235270   | -0.9347238   | ...          | -0.07432303  | -0.2986764   | -0.7103041   | -0.11275434  |  0.030400372 | -0.4647614   | -0.01844588  | -0.8412468   | 0.1799406    | -0.05862692  |\n",
       "| 0.2784188    | -0.01641057  | -0.1235202   | -0.9982453   | -0.9753002   | -0.9603220   | -0.9988072   | -0.9749144   | -0.9576862   | -0.9430675   | ...          |  0.15807454  | -0.5950509   | -0.8614993   |  0.05347695  | -0.007434566 | -0.7326262   |  0.70351059  | -0.8447876   | 0.1802889    | -0.05431672  |\n",
       "| 0.2796531    | -0.01946716  | -0.1134617   | -0.9953796   | -0.9671870   | -0.9789440   | -0.9965199   | -0.9636684   | -0.9774686   | -0.9386916   | ...          |  0.41450281  | -0.3907482   | -0.7601037   | -0.11855926  |  0.177899480 |  0.1006992   |  0.80852908  | -0.8489335   | 0.1806373    | -0.04911782  |\n",
       "| 0.2791739    | -0.02620065  | -0.1232826   | -0.9960915   | -0.9834027   | -0.9906751   | -0.9970995   | -0.9827498   | -0.9893025   | -0.9386916   | ...          |  0.40457253  | -0.1172902   | -0.4828445   | -0.03678797  | -0.012892494 |  0.6400110   | -0.48536645  | -0.8486494   | 0.1819348    | -0.04766318  |\n",
       "| 0.2766288    | -0.01656965  | -0.1153619   | -0.9981386   | -0.9808173   | -0.9904816   | -0.9983211   | -0.9796719   | -0.9904411   | -0.9424691   | ...          |  0.08775301  | -0.3514709   | -0.6992052   |  0.12332005  |  0.122541960 |  0.6935783   | -0.61597061  | -0.8478653   | 0.1851512    | -0.04389225  |\n",
       "| 0.2771988    | -0.01009785  | -0.1051373   | -0.9973350   | -0.9904868   | -0.9954200   | -0.9976274   | -0.9902177   | -0.9955489   | -0.9424691   | ...          |  0.01995331  | -0.5454101   | -0.8446193   |  0.08263215  | -0.143439010 |  0.2750408   | -0.36822404  | -0.8496316   | 0.1848225    | -0.04212638  |\n",
       "\n"
      ],
      "text/plain": [
       "  V1        V2          V3         V4         V5         V6         V7        \n",
       "1 0.2885845 -0.02029417 -0.1329051 -0.9952786 -0.9831106 -0.9135264 -0.9951121\n",
       "2 0.2784188 -0.01641057 -0.1235202 -0.9982453 -0.9753002 -0.9603220 -0.9988072\n",
       "3 0.2796531 -0.01946716 -0.1134617 -0.9953796 -0.9671870 -0.9789440 -0.9965199\n",
       "4 0.2791739 -0.02620065 -0.1232826 -0.9960915 -0.9834027 -0.9906751 -0.9970995\n",
       "5 0.2766288 -0.01656965 -0.1153619 -0.9981386 -0.9808173 -0.9904816 -0.9983211\n",
       "6 0.2771988 -0.01009785 -0.1051373 -0.9973350 -0.9904868 -0.9954200 -0.9976274\n",
       "  V8         V9         V10        ... V552        V553       V554      \n",
       "1 -0.9831846 -0.9235270 -0.9347238 ... -0.07432303 -0.2986764 -0.7103041\n",
       "2 -0.9749144 -0.9576862 -0.9430675 ...  0.15807454 -0.5950509 -0.8614993\n",
       "3 -0.9636684 -0.9774686 -0.9386916 ...  0.41450281 -0.3907482 -0.7601037\n",
       "4 -0.9827498 -0.9893025 -0.9386916 ...  0.40457253 -0.1172902 -0.4828445\n",
       "5 -0.9796719 -0.9904411 -0.9424691 ...  0.08775301 -0.3514709 -0.6992052\n",
       "6 -0.9902177 -0.9955489 -0.9424691 ...  0.01995331 -0.5454101 -0.8446193\n",
       "  V555        V556         V557       V558        V559       V560     \n",
       "1 -0.11275434  0.030400372 -0.4647614 -0.01844588 -0.8412468 0.1799406\n",
       "2  0.05347695 -0.007434566 -0.7326262  0.70351059 -0.8447876 0.1802889\n",
       "3 -0.11855926  0.177899480  0.1006992  0.80852908 -0.8489335 0.1806373\n",
       "4 -0.03678797 -0.012892494  0.6400110 -0.48536645 -0.8486494 0.1819348\n",
       "5  0.12332005  0.122541960  0.6935783 -0.61597061 -0.8478653 0.1851512\n",
       "6  0.08263215 -0.143439010  0.2750408 -0.36822404 -0.8496316 0.1848225\n",
       "  V561       \n",
       "1 -0.05862692\n",
       "2 -0.05431672\n",
       "3 -0.04911782\n",
       "4 -0.04766318\n",
       "5 -0.04389225\n",
       "6 -0.04212638"
      ]
     },
     "metadata": {},
     "output_type": "display_data"
    }
   ],
   "source": [
    "head(train_x)"
   ]
  },
  {
   "cell_type": "code",
   "execution_count": 44,
   "metadata": {},
   "outputs": [
    {
     "data": {
      "text/plain": [
       "\n",
       "\n",
       "|    x     |\n",
       "|:--------:|\n",
       "| STANDING |\n",
       "| STANDING |\n",
       "| STANDING |\n",
       "| STANDING |\n",
       "| STANDING |\n",
       "| STANDING |"
      ]
     },
     "metadata": {},
     "output_type": "display_data"
    }
   ],
   "source": [
    "map_index <- function(x){\n",
    "    activity_labels$Label[x]\n",
    "}\n",
    "\n",
    "results <- sapply(head(train_y)$V1, map_index)\n",
    "kable(results, align = c(\"c\", \"l\"))"
   ]
  }
 ],
 "metadata": {
  "kernelspec": {
   "display_name": "R",
   "language": "R",
   "name": "ir"
  },
  "language_info": {
   "codemirror_mode": "r",
   "file_extension": ".r",
   "mimetype": "text/x-r-source",
   "name": "R",
   "pygments_lexer": "r",
   "version": "3.6.1"
  },
  "toc": {
   "base_numbering": 1,
   "nav_menu": {},
   "number_sections": true,
   "sideBar": true,
   "skip_h1_title": false,
   "title_cell": "Table of Contents",
   "title_sidebar": "Contents",
   "toc_cell": false,
   "toc_position": {},
   "toc_section_display": true,
   "toc_window_display": false
  },
  "varInspector": {
   "cols": {
    "lenName": 16,
    "lenType": 16,
    "lenVar": 40
   },
   "kernels_config": {
    "python": {
     "delete_cmd_postfix": "",
     "delete_cmd_prefix": "del ",
     "library": "var_list.py",
     "varRefreshCmd": "print(var_dic_list())"
    },
    "r": {
     "delete_cmd_postfix": ") ",
     "delete_cmd_prefix": "rm(",
     "library": "var_list.r",
     "varRefreshCmd": "cat(var_dic_list()) "
    }
   },
   "types_to_exclude": [
    "module",
    "function",
    "builtin_function_or_method",
    "instance",
    "_Feature"
   ],
   "window_display": false
  }
 },
 "nbformat": 4,
 "nbformat_minor": 4
}
