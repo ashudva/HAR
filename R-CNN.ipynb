{
 "cells": [
  {
   "cell_type": "code",
   "execution_count": 7,
   "metadata": {},
   "outputs": [],
   "source": [
    "library(tensorflow)\n",
    "library(tidyverse)\n",
    "library(ggridges)\n",
    "library(knitr)\n",
    "library(rmarkdown)"
   ]
  },
  {
   "cell_type": "code",
   "execution_count": 17,
   "metadata": {},
   "outputs": [
    {
     "data": {
      "text/plain": [
       "\n",
       "\n",
       " Number   Label              \n",
       "--------  -------------------\n",
       "   1      WALKING            \n",
       "   2      WALKING_UPSTAIRS   \n",
       "   3      WALKING_DOWNSTAIRS \n",
       "   4      SITTING            \n",
       "   5      STANDING           \n",
       "   6      LAYING             "
      ]
     },
     "metadata": {},
     "output_type": "display_data"
    },
    {
     "data": {
      "text/html": [
       "'data.frame'"
      ],
      "text/latex": [
       "'data.frame'"
      ],
      "text/markdown": [
       "'data.frame'"
      ],
      "text/plain": [
       "[1] \"data.frame\""
      ]
     },
     "metadata": {},
     "output_type": "display_data"
    }
   ],
   "source": [
    "activity_labels <- read.table(\"data//activity_labels.txt\", col.names = c(\"Number\", \"Label\"))\n",
    "activity_tabel <- activity_labels %>% kable(format = \"pandoc\" ,align = c(\"c\", \"l\"))\n",
    "activity_tabel"
   ]
  },
  {
   "cell_type": "code",
   "execution_count": 28,
   "metadata": {},
   "outputs": [
    {
     "data": {
      "text/html": [
       "<table>\n",
       "<thead><tr><th scope=col>Number</th><th scope=col>Feature</th></tr></thead>\n",
       "<tbody>\n",
       "\t<tr><td> 1               </td><td>tBodyAcc-mean()-X</td></tr>\n",
       "\t<tr><td> 2               </td><td>tBodyAcc-mean()-Y</td></tr>\n",
       "\t<tr><td> 3               </td><td>tBodyAcc-mean()-Z</td></tr>\n",
       "\t<tr><td> 4               </td><td>tBodyAcc-std()-X </td></tr>\n",
       "\t<tr><td> 5               </td><td>tBodyAcc-std()-Y </td></tr>\n",
       "\t<tr><td> 6               </td><td>tBodyAcc-std()-Z </td></tr>\n",
       "\t<tr><td> 7               </td><td>tBodyAcc-mad()-X </td></tr>\n",
       "\t<tr><td> 8               </td><td>tBodyAcc-mad()-Y </td></tr>\n",
       "\t<tr><td> 9               </td><td>tBodyAcc-mad()-Z </td></tr>\n",
       "\t<tr><td>10               </td><td>tBodyAcc-max()-X </td></tr>\n",
       "</tbody>\n",
       "</table>\n"
      ],
      "text/latex": [
       "\\begin{tabular}{r|ll}\n",
       " Number & Feature\\\\\n",
       "\\hline\n",
       "\t  1                & tBodyAcc-mean()-X\\\\\n",
       "\t  2                & tBodyAcc-mean()-Y\\\\\n",
       "\t  3                & tBodyAcc-mean()-Z\\\\\n",
       "\t  4                & tBodyAcc-std()-X \\\\\n",
       "\t  5                & tBodyAcc-std()-Y \\\\\n",
       "\t  6                & tBodyAcc-std()-Z \\\\\n",
       "\t  7                & tBodyAcc-mad()-X \\\\\n",
       "\t  8                & tBodyAcc-mad()-Y \\\\\n",
       "\t  9                & tBodyAcc-mad()-Z \\\\\n",
       "\t 10                & tBodyAcc-max()-X \\\\\n",
       "\\end{tabular}\n"
      ],
      "text/markdown": [
       "\n",
       "| Number | Feature |\n",
       "|---|---|\n",
       "|  1                | tBodyAcc-mean()-X |\n",
       "|  2                | tBodyAcc-mean()-Y |\n",
       "|  3                | tBodyAcc-mean()-Z |\n",
       "|  4                | tBodyAcc-std()-X  |\n",
       "|  5                | tBodyAcc-std()-Y  |\n",
       "|  6                | tBodyAcc-std()-Z  |\n",
       "|  7                | tBodyAcc-mad()-X  |\n",
       "|  8                | tBodyAcc-mad()-Y  |\n",
       "|  9                | tBodyAcc-mad()-Z  |\n",
       "| 10                | tBodyAcc-max()-X  |\n",
       "\n"
      ],
      "text/plain": [
       "   Number Feature          \n",
       "1   1     tBodyAcc-mean()-X\n",
       "2   2     tBodyAcc-mean()-Y\n",
       "3   3     tBodyAcc-mean()-Z\n",
       "4   4     tBodyAcc-std()-X \n",
       "5   5     tBodyAcc-std()-Y \n",
       "6   6     tBodyAcc-std()-Z \n",
       "7   7     tBodyAcc-mad()-X \n",
       "8   8     tBodyAcc-mad()-Y \n",
       "9   9     tBodyAcc-mad()-Z \n",
       "10 10     tBodyAcc-max()-X "
      ]
     },
     "metadata": {},
     "output_type": "display_data"
    }
   ],
   "source": [
    "features <- read.table(\"data/features.txt\", col.names = c(\"Number\", \"Feature\"))\n",
    "feat_table <- features %>% kable(format = \"pandoc\", align = c(\"c\", \"l\"))\n",
    "top_n(features, 10, desc(Number))"
   ]
  },
  {
   "cell_type": "code",
   "execution_count": null,
   "metadata": {},
   "outputs": [],
   "source": []
  }
 ],
 "metadata": {
  "kernelspec": {
   "display_name": "R",
   "language": "R",
   "name": "ir"
  },
  "language_info": {
   "codemirror_mode": "r",
   "file_extension": ".r",
   "mimetype": "text/x-r-source",
   "name": "R",
   "pygments_lexer": "r",
   "version": "3.6.1"
  },
  "toc": {
   "base_numbering": 1,
   "nav_menu": {},
   "number_sections": true,
   "sideBar": true,
   "skip_h1_title": false,
   "title_cell": "Table of Contents",
   "title_sidebar": "Contents",
   "toc_cell": false,
   "toc_position": {},
   "toc_section_display": true,
   "toc_window_display": false
  },
  "varInspector": {
   "cols": {
    "lenName": 16,
    "lenType": 16,
    "lenVar": 40
   },
   "kernels_config": {
    "python": {
     "delete_cmd_postfix": "",
     "delete_cmd_prefix": "del ",
     "library": "var_list.py",
     "varRefreshCmd": "print(var_dic_list())"
    },
    "r": {
     "delete_cmd_postfix": ") ",
     "delete_cmd_prefix": "rm(",
     "library": "var_list.r",
     "varRefreshCmd": "cat(var_dic_list()) "
    }
   },
   "types_to_exclude": [
    "module",
    "function",
    "builtin_function_or_method",
    "instance",
    "_Feature"
   ],
   "window_display": false
  }
 },
 "nbformat": 4,
 "nbformat_minor": 4
}
