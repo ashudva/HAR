{
 "cells": [
  {
   "cell_type": "code",
   "execution_count": 1,
   "metadata": {},
   "outputs": [
    {
     "data": {
      "text/html": [
       "'data.frame'"
      ],
      "text/latex": [
       "'data.frame'"
      ],
      "text/markdown": [
       "'data.frame'"
      ],
      "text/plain": [
       "[1] \"data.frame\""
      ]
     },
     "metadata": {},
     "output_type": "display_data"
    },
    {
     "name": "stdout",
     "output_type": "stream",
     "text": [
      "'data.frame':\t51 obs. of  5 variables:\n",
      " $ state     : chr  \"Alabama\" \"Alaska\" \"Arizona\" \"Arkansas\" ...\n",
      " $ abb       : chr  \"AL\" \"AK\" \"AZ\" \"AR\" ...\n",
      " $ region    : Factor w/ 4 levels \"Northeast\",\"South\",..: 2 4 4 2 4 4 1 2 2 2 ...\n",
      " $ population: num  4779736 710231 6392017 2915918 37253956 ...\n",
      " $ total     : num  135 19 232 93 1257 ...\n"
     ]
    },
    {
     "data": {
      "text/html": [
       "<table>\n",
       "<thead><tr><th scope=col>state</th><th scope=col>abb</th><th scope=col>region</th><th scope=col>population</th><th scope=col>total</th></tr></thead>\n",
       "<tbody>\n",
       "\t<tr><td>Alabama   </td><td>AL        </td><td>South     </td><td> 4779736  </td><td> 135      </td></tr>\n",
       "\t<tr><td>Alaska    </td><td>AK        </td><td>West      </td><td>  710231  </td><td>  19      </td></tr>\n",
       "\t<tr><td>Arizona   </td><td>AZ        </td><td>West      </td><td> 6392017  </td><td> 232      </td></tr>\n",
       "\t<tr><td>Arkansas  </td><td>AR        </td><td>South     </td><td> 2915918  </td><td>  93      </td></tr>\n",
       "\t<tr><td>California</td><td>CA        </td><td>West      </td><td>37253956  </td><td>1257      </td></tr>\n",
       "\t<tr><td>Colorado  </td><td>CO        </td><td>West      </td><td> 5029196  </td><td>  65      </td></tr>\n",
       "</tbody>\n",
       "</table>\n"
      ],
      "text/latex": [
       "\\begin{tabular}{r|lllll}\n",
       " state & abb & region & population & total\\\\\n",
       "\\hline\n",
       "\t Alabama    & AL         & South      &  4779736   &  135      \\\\\n",
       "\t Alaska     & AK         & West       &   710231   &   19      \\\\\n",
       "\t Arizona    & AZ         & West       &  6392017   &  232      \\\\\n",
       "\t Arkansas   & AR         & South      &  2915918   &   93      \\\\\n",
       "\t California & CA         & West       & 37253956   & 1257      \\\\\n",
       "\t Colorado   & CO         & West       &  5029196   &   65      \\\\\n",
       "\\end{tabular}\n"
      ],
      "text/markdown": [
       "\n",
       "| state | abb | region | population | total |\n",
       "|---|---|---|---|---|\n",
       "| Alabama    | AL         | South      |  4779736   |  135       |\n",
       "| Alaska     | AK         | West       |   710231   |   19       |\n",
       "| Arizona    | AZ         | West       |  6392017   |  232       |\n",
       "| Arkansas   | AR         | South      |  2915918   |   93       |\n",
       "| California | CA         | West       | 37253956   | 1257       |\n",
       "| Colorado   | CO         | West       |  5029196   |   65       |\n",
       "\n"
      ],
      "text/plain": [
       "  state      abb region population total\n",
       "1 Alabama    AL  South   4779736    135 \n",
       "2 Alaska     AK  West     710231     19 \n",
       "3 Arizona    AZ  West    6392017    232 \n",
       "4 Arkansas   AR  South   2915918     93 \n",
       "5 California CA  West   37253956   1257 \n",
       "6 Colorado   CO  West    5029196     65 "
      ]
     },
     "metadata": {},
     "output_type": "display_data"
    },
    {
     "data": {
      "text/html": [
       "<ol class=list-inline>\n",
       "\t<li>4779736</li>\n",
       "\t<li>710231</li>\n",
       "\t<li>6392017</li>\n",
       "\t<li>2915918</li>\n",
       "\t<li>37253956</li>\n",
       "\t<li>5029196</li>\n",
       "\t<li>3574097</li>\n",
       "\t<li>897934</li>\n",
       "\t<li>601723</li>\n",
       "\t<li>19687653</li>\n",
       "\t<li>9920000</li>\n",
       "\t<li>1360301</li>\n",
       "\t<li>1567582</li>\n",
       "\t<li>12830632</li>\n",
       "\t<li>6483802</li>\n",
       "\t<li>3046355</li>\n",
       "\t<li>2853118</li>\n",
       "\t<li>4339367</li>\n",
       "\t<li>4533372</li>\n",
       "\t<li>1328361</li>\n",
       "\t<li>5773552</li>\n",
       "\t<li>6547629</li>\n",
       "\t<li>9883640</li>\n",
       "\t<li>5303925</li>\n",
       "\t<li>2967297</li>\n",
       "\t<li>5988927</li>\n",
       "\t<li>989415</li>\n",
       "\t<li>1826341</li>\n",
       "\t<li>2700551</li>\n",
       "\t<li>1316470</li>\n",
       "\t<li>8791894</li>\n",
       "\t<li>2059179</li>\n",
       "\t<li>19378102</li>\n",
       "\t<li>9535483</li>\n",
       "\t<li>672591</li>\n",
       "\t<li>11536504</li>\n",
       "\t<li>3751351</li>\n",
       "\t<li>3831074</li>\n",
       "\t<li>12702379</li>\n",
       "\t<li>1052567</li>\n",
       "\t<li>4625364</li>\n",
       "\t<li>814180</li>\n",
       "\t<li>6346105</li>\n",
       "\t<li>25145561</li>\n",
       "\t<li>2763885</li>\n",
       "\t<li>625741</li>\n",
       "\t<li>8001024</li>\n",
       "\t<li>6724540</li>\n",
       "\t<li>1852994</li>\n",
       "\t<li>5686986</li>\n",
       "\t<li>563626</li>\n",
       "</ol>\n"
      ],
      "text/latex": [
       "\\begin{enumerate*}\n",
       "\\item 4779736\n",
       "\\item 710231\n",
       "\\item 6392017\n",
       "\\item 2915918\n",
       "\\item 37253956\n",
       "\\item 5029196\n",
       "\\item 3574097\n",
       "\\item 897934\n",
       "\\item 601723\n",
       "\\item 19687653\n",
       "\\item 9920000\n",
       "\\item 1360301\n",
       "\\item 1567582\n",
       "\\item 12830632\n",
       "\\item 6483802\n",
       "\\item 3046355\n",
       "\\item 2853118\n",
       "\\item 4339367\n",
       "\\item 4533372\n",
       "\\item 1328361\n",
       "\\item 5773552\n",
       "\\item 6547629\n",
       "\\item 9883640\n",
       "\\item 5303925\n",
       "\\item 2967297\n",
       "\\item 5988927\n",
       "\\item 989415\n",
       "\\item 1826341\n",
       "\\item 2700551\n",
       "\\item 1316470\n",
       "\\item 8791894\n",
       "\\item 2059179\n",
       "\\item 19378102\n",
       "\\item 9535483\n",
       "\\item 672591\n",
       "\\item 11536504\n",
       "\\item 3751351\n",
       "\\item 3831074\n",
       "\\item 12702379\n",
       "\\item 1052567\n",
       "\\item 4625364\n",
       "\\item 814180\n",
       "\\item 6346105\n",
       "\\item 25145561\n",
       "\\item 2763885\n",
       "\\item 625741\n",
       "\\item 8001024\n",
       "\\item 6724540\n",
       "\\item 1852994\n",
       "\\item 5686986\n",
       "\\item 563626\n",
       "\\end{enumerate*}\n"
      ],
      "text/markdown": [
       "1. 4779736\n",
       "2. 710231\n",
       "3. 6392017\n",
       "4. 2915918\n",
       "5. 37253956\n",
       "6. 5029196\n",
       "7. 3574097\n",
       "8. 897934\n",
       "9. 601723\n",
       "10. 19687653\n",
       "11. 9920000\n",
       "12. 1360301\n",
       "13. 1567582\n",
       "14. 12830632\n",
       "15. 6483802\n",
       "16. 3046355\n",
       "17. 2853118\n",
       "18. 4339367\n",
       "19. 4533372\n",
       "20. 1328361\n",
       "21. 5773552\n",
       "22. 6547629\n",
       "23. 9883640\n",
       "24. 5303925\n",
       "25. 2967297\n",
       "26. 5988927\n",
       "27. 989415\n",
       "28. 1826341\n",
       "29. 2700551\n",
       "30. 1316470\n",
       "31. 8791894\n",
       "32. 2059179\n",
       "33. 19378102\n",
       "34. 9535483\n",
       "35. 672591\n",
       "36. 11536504\n",
       "37. 3751351\n",
       "38. 3831074\n",
       "39. 12702379\n",
       "40. 1052567\n",
       "41. 4625364\n",
       "42. 814180\n",
       "43. 6346105\n",
       "44. 25145561\n",
       "45. 2763885\n",
       "46. 625741\n",
       "47. 8001024\n",
       "48. 6724540\n",
       "49. 1852994\n",
       "50. 5686986\n",
       "51. 563626\n",
       "\n",
       "\n"
      ],
      "text/plain": [
       " [1]  4779736   710231  6392017  2915918 37253956  5029196  3574097   897934\n",
       " [9]   601723 19687653  9920000  1360301  1567582 12830632  6483802  3046355\n",
       "[17]  2853118  4339367  4533372  1328361  5773552  6547629  9883640  5303925\n",
       "[25]  2967297  5988927   989415  1826341  2700551  1316470  8791894  2059179\n",
       "[33] 19378102  9535483   672591 11536504  3751351  3831074 12702379  1052567\n",
       "[41]  4625364   814180  6346105 25145561  2763885   625741  8001024  6724540\n",
       "[49]  1852994  5686986   563626"
      ]
     },
     "metadata": {},
     "output_type": "display_data"
    },
    {
     "data": {
      "text/html": [
       "<ol class=list-inline>\n",
       "\t<li>'state'</li>\n",
       "\t<li>'abb'</li>\n",
       "\t<li>'region'</li>\n",
       "\t<li>'population'</li>\n",
       "\t<li>'total'</li>\n",
       "</ol>\n"
      ],
      "text/latex": [
       "\\begin{enumerate*}\n",
       "\\item 'state'\n",
       "\\item 'abb'\n",
       "\\item 'region'\n",
       "\\item 'population'\n",
       "\\item 'total'\n",
       "\\end{enumerate*}\n"
      ],
      "text/markdown": [
       "1. 'state'\n",
       "2. 'abb'\n",
       "3. 'region'\n",
       "4. 'population'\n",
       "5. 'total'\n",
       "\n",
       "\n"
      ],
      "text/plain": [
       "[1] \"state\"      \"abb\"        \"region\"     \"population\" \"total\"     "
      ]
     },
     "metadata": {},
     "output_type": "display_data"
    },
    {
     "data": {
      "text/html": [
       "51"
      ],
      "text/latex": [
       "51"
      ],
      "text/markdown": [
       "51"
      ],
      "text/plain": [
       "[1] 51"
      ]
     },
     "metadata": {},
     "output_type": "display_data"
    },
    {
     "data": {
      "text/html": [
       "'numeric'"
      ],
      "text/latex": [
       "'numeric'"
      ],
      "text/markdown": [
       "'numeric'"
      ],
      "text/plain": [
       "[1] \"numeric\""
      ]
     },
     "metadata": {},
     "output_type": "display_data"
    },
    {
     "data": {
      "text/html": [
       "'character'"
      ],
      "text/latex": [
       "'character'"
      ],
      "text/markdown": [
       "'character'"
      ],
      "text/plain": [
       "[1] \"character\""
      ]
     },
     "metadata": {},
     "output_type": "display_data"
    },
    {
     "data": {
      "text/html": [
       "FALSE"
      ],
      "text/latex": [
       "FALSE"
      ],
      "text/markdown": [
       "FALSE"
      ],
      "text/plain": [
       "[1] FALSE"
      ]
     },
     "metadata": {},
     "output_type": "display_data"
    },
    {
     "data": {
      "text/html": [
       "'logical'"
      ],
      "text/latex": [
       "'logical'"
      ],
      "text/markdown": [
       "'logical'"
      ],
      "text/plain": [
       "[1] \"logical\""
      ]
     },
     "metadata": {},
     "output_type": "display_data"
    },
    {
     "data": {
      "text/html": [
       "'factor'"
      ],
      "text/latex": [
       "'factor'"
      ],
      "text/markdown": [
       "'factor'"
      ],
      "text/plain": [
       "[1] \"factor\""
      ]
     },
     "metadata": {},
     "output_type": "display_data"
    },
    {
     "data": {
      "text/html": [
       "<ol class=list-inline>\n",
       "\t<li>'Northeast'</li>\n",
       "\t<li>'South'</li>\n",
       "\t<li>'North Central'</li>\n",
       "\t<li>'West'</li>\n",
       "</ol>\n"
      ],
      "text/latex": [
       "\\begin{enumerate*}\n",
       "\\item 'Northeast'\n",
       "\\item 'South'\n",
       "\\item 'North Central'\n",
       "\\item 'West'\n",
       "\\end{enumerate*}\n"
      ],
      "text/markdown": [
       "1. 'Northeast'\n",
       "2. 'South'\n",
       "3. 'North Central'\n",
       "4. 'West'\n",
       "\n",
       "\n"
      ],
      "text/plain": [
       "[1] \"Northeast\"     \"South\"         \"North Central\" \"West\"         "
      ]
     },
     "metadata": {},
     "output_type": "display_data"
    }
   ],
   "source": [
    "# loading the dslabs package and the murders dataset\n",
    "library(dslabs)\n",
    "data(murders)\n",
    "\n",
    "# determining that the murders dataset is of the \"data frame\" class\n",
    "class(murders)\n",
    "# finding out more about the structure of the object\n",
    "str(murders)\n",
    "# showing the first 6 lines of the dataset\n",
    "head(murders)\n",
    "\n",
    "# using the accessor operator to obtain the population column\n",
    "murders$population\n",
    "# displaying the variable names in the murders dataset\n",
    "names(murders)\n",
    "# determining how many entries are in a vector\n",
    "pop <- murders$population\n",
    "length(pop)\n",
    "# vectors can be of class numeric and character\n",
    "class(pop)\n",
    "class(murders$state)\n",
    "\n",
    "# logical vectors are either TRUE or FALSE\n",
    "z <- 3 == 2\n",
    "z\n",
    "class(z)\n",
    "\n",
    "# factors are another type of class\n",
    "class(murders$region)\n",
    "# obtaining the levels of a factor\n",
    "levels(murders$region)"
   ]
  },
  {
   "cell_type": "code",
   "execution_count": 4,
   "metadata": {},
   "outputs": [
    {
     "name": "stderr",
     "output_type": "stream",
     "text": [
      "Warning message in mean.default(activity):\n",
      "“argument is not numeric or logical: returning NA”"
     ]
    }
   ],
   "source": [
    "if(\"dplyr\" %in% rownames(installed.packages()) == FALSE) {install.packages(\"dplyr\")};library(dplyr)\n",
    "if(\"tidyr\" %in% rownames(installed.packages()) == FALSE) {install.packages(\"tidyr\")};library(tidyr)\n",
    "\n",
    "# If the dataset is not present in the current working directory then download it\n",
    "fileUrl <- \"https://d396qusza40orc.cloudfront.net/getdata%2Fprojectfiles%2FUCI%20HAR%20Dataset.zip\"\n",
    "if (!file.exists(\"UCI HAR Dataset\")) {\n",
    "    if (!file.exists(\"data\")) {\n",
    "        dir.create(\"data\")\n",
    "    }\n",
    "    download.file(fileUrl, destfile=\"data/har.zip\", method=\"curl\")\n",
    "    unzip(\"data/har.zip\", exdir=\"./\")\n",
    "}\n",
    "\n",
    "# ------------------------------------------------------------------------------\n",
    "# Step 1 - Merges the training and the test sets to create one data set.\n",
    "# ------------------------------------------------------------------------------\n",
    "\n",
    "# training data\n",
    "train_x <- read.table(\"UCI HAR Dataset//train/X_train.txt\", nrows=7352, comment.char=\"\")\n",
    "train_sub <- read.table(\"UCI HAR Dataset//train/subject_train.txt\", col.names=c(\"subject\"))\n",
    "train_y <- read.table(\"UCI HAR Dataset/train//y_train.txt\", col.names=c(\"activity\"))\n",
    "train_data <- cbind(train_x, train_sub, train_y)\n",
    "\n",
    "# test data\n",
    "test_x <- read.table(\"UCI HAR Dataset//test/X_test.txt\", nrows=2947, comment.char=\"\")\n",
    "test_sub <- read.table(\"UCI HAR Dataset/test/subject_test.txt\", col.names=c(\"subject\"))\n",
    "test_y <- read.table(\"UCI HAR Dataset/test//y_test.txt\", col.names=c(\"activity\"))\n",
    "test_data <- cbind(test_x, test_sub, test_y)\n",
    "\n",
    "# merge both train and test data\n",
    "data <- rbind(train_data, test_data)\n",
    "\n",
    "# ------------------------------------------------------------------------------\n",
    "# Step 2 - Extracts only the measurements on the mean and standard deviation for each measurement.\n",
    "# ------------------------------------------------------------------------------\n",
    "# read features\n",
    "feature_list <- read.table(\"UCI HAR Dataset//features.txt\", col.names = c(\"id\", \"name\"))\n",
    "features <- c(as.vector(feature_list[, \"name\"]), \"subject\", \"activity\")\n",
    "\n",
    "# filter only features that has mean or std in the name\n",
    "filtered_feature_ids <- grepl(\"mean|std|subject|activity\", features) & !grepl(\"meanFreq\", features)\n",
    "filtered_data = data[, filtered_feature_ids]\n",
    "\n",
    "# ------------------------------------------------------------------------------\n",
    "# Step 3 - Uses descriptive activity names to name the activities in the data set\n",
    "# ------------------------------------------------------------------------------\n",
    "activities <- read.table(\"UCI HAR Dataset//activity_labels.txt\", col.names=c(\"id\", \"name\"))\n",
    "for (i in 1:nrow(activities)) {\n",
    "    filtered_data$activity[filtered_data$activity == activities[i, \"id\"]] <- as.character(activities[i, \"name\"])\n",
    "}\n",
    "\n",
    "# ------------------------------------------------------------------------------\n",
    "# step 4 - Appropriately labels the data set with descriptive variable names.\n",
    "# ------------------------------------------------------------------------------\n",
    "# make feature names more human readble\n",
    "filtered_feature_names <- features[filtered_feature_ids]\n",
    "filtered_feature_names <- gsub(\"\\\\(\\\\)\", \"\", filtered_feature_names)\n",
    "filtered_feature_names <- gsub(\"Acc\", \"-acceleration\", filtered_feature_names)\n",
    "filtered_feature_names <- gsub(\"Mag\", \"-Magnitude\", filtered_feature_names)\n",
    "filtered_feature_names <- gsub(\"^t(.*)$\", \"\\\\1-time\", filtered_feature_names)\n",
    "filtered_feature_names <- gsub(\"^f(.*)$\", \"\\\\1-frequency\", filtered_feature_names)\n",
    "filtered_feature_names <- gsub(\"(Jerk|Gyro)\", \"-\\\\1\", filtered_feature_names)\n",
    "filtered_feature_names <- gsub(\"BodyBody\", \"Body\", filtered_feature_names)\n",
    "filtered_feature_names <- tolower(filtered_feature_names)\n",
    "\n",
    "# assign names to features\n",
    "names(filtered_data) <- filtered_feature_names\n",
    "\n",
    "# ------------------------------------------------------------------------------\n",
    "# step 5 - From the data set in step 4, creates a second, independent tidy data set with the average of each variable for each activity and each subject.\n",
    "# ------------------------------------------------------------------------------\n",
    "tidy_data <- tbl_df(filtered_data) %>%\n",
    "    group_by('subject', 'activity') %>%\n",
    "    summarise_each(funs(mean)) %>%\n",
    "    gather(measurement, mean, -activity, -subject)\n",
    "\n",
    "# Save the data into the file\n",
    "write.table(tidy_data, file=\"tidy_data.txt\", row.name=FALSE)"
   ]
  },
  {
   "cell_type": "code",
   "execution_count": 5,
   "metadata": {
    "scrolled": true
   },
   "outputs": [
    {
     "name": "stdout",
     "output_type": "stream",
     "text": [
      "Classes ‘tbl_df’, ‘tbl’ and 'data.frame':\t68 obs. of  4 variables:\n",
      " $ subject    : num  16.1 16.1 16.1 16.1 16.1 ...\n",
      " $ activity   : num  NA NA NA NA NA NA NA NA NA NA ...\n",
      " $ measurement: chr  \"\\\"subject\\\"\" \"\\\"activity\\\"\" \"body-acceleration-mean-x-time\" \"body-acceleration-mean-y-time\" ...\n",
      " $ mean       : chr  \"subject\" \"activity\" \"0.274347260646063\" \"-0.0177434918458972\" ...\n"
     ]
    }
   ],
   "source": [
    "str(tidy_data)"
   ]
  },
  {
   "cell_type": "code",
   "execution_count": 6,
   "metadata": {},
   "outputs": [
    {
     "data": {
      "text/html": [
       "<ol class=list-inline>\n",
       "\t<li>'subject'</li>\n",
       "\t<li>'activity'</li>\n",
       "\t<li>'measurement'</li>\n",
       "\t<li>'mean'</li>\n",
       "</ol>\n"
      ],
      "text/latex": [
       "\\begin{enumerate*}\n",
       "\\item 'subject'\n",
       "\\item 'activity'\n",
       "\\item 'measurement'\n",
       "\\item 'mean'\n",
       "\\end{enumerate*}\n"
      ],
      "text/markdown": [
       "1. 'subject'\n",
       "2. 'activity'\n",
       "3. 'measurement'\n",
       "4. 'mean'\n",
       "\n",
       "\n"
      ],
      "text/plain": [
       "[1] \"subject\"     \"activity\"    \"measurement\" \"mean\"       "
      ]
     },
     "metadata": {},
     "output_type": "display_data"
    }
   ],
   "source": [
    "names(tidy_data)"
   ]
  },
  {
   "cell_type": "code",
   "execution_count": 7,
   "metadata": {},
   "outputs": [
    {
     "data": {
      "text/html": [
       "68"
      ],
      "text/latex": [
       "68"
      ],
      "text/markdown": [
       "68"
      ],
      "text/plain": [
       "[1] 68"
      ]
     },
     "metadata": {},
     "output_type": "display_data"
    }
   ],
   "source": [
    "length(tidy_data$measurement)"
   ]
  },
  {
   "cell_type": "code",
   "execution_count": 8,
   "metadata": {},
   "outputs": [
    {
     "data": {
      "text/html": [
       "<ol class=list-inline>\n",
       "\t<li>'\"subject\"'</li>\n",
       "\t<li>'\"activity\"'</li>\n",
       "\t<li>'body-acceleration-mean-x-time'</li>\n",
       "\t<li>'body-acceleration-mean-y-time'</li>\n",
       "\t<li>'body-acceleration-mean-z-time'</li>\n",
       "\t<li>'body-acceleration-std-x-time'</li>\n",
       "\t<li>'body-acceleration-std-y-time'</li>\n",
       "\t<li>'body-acceleration-std-z-time'</li>\n",
       "\t<li>'gravity-acceleration-mean-x-time'</li>\n",
       "\t<li>'gravity-acceleration-mean-y-time'</li>\n",
       "\t<li>'gravity-acceleration-mean-z-time'</li>\n",
       "\t<li>'gravity-acceleration-std-x-time'</li>\n",
       "\t<li>'gravity-acceleration-std-y-time'</li>\n",
       "\t<li>'gravity-acceleration-std-z-time'</li>\n",
       "\t<li>'body-acceleration-jerk-mean-x-time'</li>\n",
       "\t<li>'body-acceleration-jerk-mean-y-time'</li>\n",
       "\t<li>'body-acceleration-jerk-mean-z-time'</li>\n",
       "\t<li>'body-acceleration-jerk-std-x-time'</li>\n",
       "\t<li>'body-acceleration-jerk-std-y-time'</li>\n",
       "\t<li>'body-acceleration-jerk-std-z-time'</li>\n",
       "\t<li>'body-gyro-mean-x-time'</li>\n",
       "\t<li>'body-gyro-mean-y-time'</li>\n",
       "\t<li>'body-gyro-mean-z-time'</li>\n",
       "\t<li>'body-gyro-std-x-time'</li>\n",
       "\t<li>'body-gyro-std-y-time'</li>\n",
       "\t<li>'body-gyro-std-z-time'</li>\n",
       "\t<li>'body-gyro-jerk-mean-x-time'</li>\n",
       "\t<li>'body-gyro-jerk-mean-y-time'</li>\n",
       "\t<li>'body-gyro-jerk-mean-z-time'</li>\n",
       "\t<li>'body-gyro-jerk-std-x-time'</li>\n",
       "\t<li>'body-gyro-jerk-std-y-time'</li>\n",
       "\t<li>'body-gyro-jerk-std-z-time'</li>\n",
       "\t<li>'body-acceleration-magnitude-mean-time'</li>\n",
       "\t<li>'body-acceleration-magnitude-std-time'</li>\n",
       "\t<li>'gravity-acceleration-magnitude-mean-time'</li>\n",
       "\t<li>'gravity-acceleration-magnitude-std-time'</li>\n",
       "\t<li>'body-acceleration-jerk-magnitude-mean-time'</li>\n",
       "\t<li>'body-acceleration-jerk-magnitude-std-time'</li>\n",
       "\t<li>'body-gyro-magnitude-mean-time'</li>\n",
       "\t<li>'body-gyro-magnitude-std-time'</li>\n",
       "\t<li>'body-gyro-jerk-magnitude-mean-time'</li>\n",
       "\t<li>'body-gyro-jerk-magnitude-std-time'</li>\n",
       "\t<li>'body-acceleration-mean-x-frequency'</li>\n",
       "\t<li>'body-acceleration-mean-y-frequency'</li>\n",
       "\t<li>'body-acceleration-mean-z-frequency'</li>\n",
       "\t<li>'body-acceleration-std-x-frequency'</li>\n",
       "\t<li>'body-acceleration-std-y-frequency'</li>\n",
       "\t<li>'body-acceleration-std-z-frequency'</li>\n",
       "\t<li>'body-acceleration-jerk-mean-x-frequency'</li>\n",
       "\t<li>'body-acceleration-jerk-mean-y-frequency'</li>\n",
       "\t<li>'body-acceleration-jerk-mean-z-frequency'</li>\n",
       "\t<li>'body-acceleration-jerk-std-x-frequency'</li>\n",
       "\t<li>'body-acceleration-jerk-std-y-frequency'</li>\n",
       "\t<li>'body-acceleration-jerk-std-z-frequency'</li>\n",
       "\t<li>'body-gyro-mean-x-frequency'</li>\n",
       "\t<li>'body-gyro-mean-y-frequency'</li>\n",
       "\t<li>'body-gyro-mean-z-frequency'</li>\n",
       "\t<li>'body-gyro-std-x-frequency'</li>\n",
       "\t<li>'body-gyro-std-y-frequency'</li>\n",
       "\t<li>'body-gyro-std-z-frequency'</li>\n",
       "\t<li>'body-acceleration-magnitude-mean-frequency'</li>\n",
       "\t<li>'body-acceleration-magnitude-std-frequency'</li>\n",
       "\t<li>'body-acceleration-jerk-magnitude-mean-frequency'</li>\n",
       "\t<li>'body-acceleration-jerk-magnitude-std-frequency'</li>\n",
       "\t<li>'body-gyro-magnitude-mean-frequency'</li>\n",
       "\t<li>'body-gyro-magnitude-std-frequency'</li>\n",
       "\t<li>'body-gyro-jerk-magnitude-mean-frequency'</li>\n",
       "\t<li>'body-gyro-jerk-magnitude-std-frequency'</li>\n",
       "</ol>\n"
      ],
      "text/latex": [
       "\\begin{enumerate*}\n",
       "\\item '\"subject\"'\n",
       "\\item '\"activity\"'\n",
       "\\item 'body-acceleration-mean-x-time'\n",
       "\\item 'body-acceleration-mean-y-time'\n",
       "\\item 'body-acceleration-mean-z-time'\n",
       "\\item 'body-acceleration-std-x-time'\n",
       "\\item 'body-acceleration-std-y-time'\n",
       "\\item 'body-acceleration-std-z-time'\n",
       "\\item 'gravity-acceleration-mean-x-time'\n",
       "\\item 'gravity-acceleration-mean-y-time'\n",
       "\\item 'gravity-acceleration-mean-z-time'\n",
       "\\item 'gravity-acceleration-std-x-time'\n",
       "\\item 'gravity-acceleration-std-y-time'\n",
       "\\item 'gravity-acceleration-std-z-time'\n",
       "\\item 'body-acceleration-jerk-mean-x-time'\n",
       "\\item 'body-acceleration-jerk-mean-y-time'\n",
       "\\item 'body-acceleration-jerk-mean-z-time'\n",
       "\\item 'body-acceleration-jerk-std-x-time'\n",
       "\\item 'body-acceleration-jerk-std-y-time'\n",
       "\\item 'body-acceleration-jerk-std-z-time'\n",
       "\\item 'body-gyro-mean-x-time'\n",
       "\\item 'body-gyro-mean-y-time'\n",
       "\\item 'body-gyro-mean-z-time'\n",
       "\\item 'body-gyro-std-x-time'\n",
       "\\item 'body-gyro-std-y-time'\n",
       "\\item 'body-gyro-std-z-time'\n",
       "\\item 'body-gyro-jerk-mean-x-time'\n",
       "\\item 'body-gyro-jerk-mean-y-time'\n",
       "\\item 'body-gyro-jerk-mean-z-time'\n",
       "\\item 'body-gyro-jerk-std-x-time'\n",
       "\\item 'body-gyro-jerk-std-y-time'\n",
       "\\item 'body-gyro-jerk-std-z-time'\n",
       "\\item 'body-acceleration-magnitude-mean-time'\n",
       "\\item 'body-acceleration-magnitude-std-time'\n",
       "\\item 'gravity-acceleration-magnitude-mean-time'\n",
       "\\item 'gravity-acceleration-magnitude-std-time'\n",
       "\\item 'body-acceleration-jerk-magnitude-mean-time'\n",
       "\\item 'body-acceleration-jerk-magnitude-std-time'\n",
       "\\item 'body-gyro-magnitude-mean-time'\n",
       "\\item 'body-gyro-magnitude-std-time'\n",
       "\\item 'body-gyro-jerk-magnitude-mean-time'\n",
       "\\item 'body-gyro-jerk-magnitude-std-time'\n",
       "\\item 'body-acceleration-mean-x-frequency'\n",
       "\\item 'body-acceleration-mean-y-frequency'\n",
       "\\item 'body-acceleration-mean-z-frequency'\n",
       "\\item 'body-acceleration-std-x-frequency'\n",
       "\\item 'body-acceleration-std-y-frequency'\n",
       "\\item 'body-acceleration-std-z-frequency'\n",
       "\\item 'body-acceleration-jerk-mean-x-frequency'\n",
       "\\item 'body-acceleration-jerk-mean-y-frequency'\n",
       "\\item 'body-acceleration-jerk-mean-z-frequency'\n",
       "\\item 'body-acceleration-jerk-std-x-frequency'\n",
       "\\item 'body-acceleration-jerk-std-y-frequency'\n",
       "\\item 'body-acceleration-jerk-std-z-frequency'\n",
       "\\item 'body-gyro-mean-x-frequency'\n",
       "\\item 'body-gyro-mean-y-frequency'\n",
       "\\item 'body-gyro-mean-z-frequency'\n",
       "\\item 'body-gyro-std-x-frequency'\n",
       "\\item 'body-gyro-std-y-frequency'\n",
       "\\item 'body-gyro-std-z-frequency'\n",
       "\\item 'body-acceleration-magnitude-mean-frequency'\n",
       "\\item 'body-acceleration-magnitude-std-frequency'\n",
       "\\item 'body-acceleration-jerk-magnitude-mean-frequency'\n",
       "\\item 'body-acceleration-jerk-magnitude-std-frequency'\n",
       "\\item 'body-gyro-magnitude-mean-frequency'\n",
       "\\item 'body-gyro-magnitude-std-frequency'\n",
       "\\item 'body-gyro-jerk-magnitude-mean-frequency'\n",
       "\\item 'body-gyro-jerk-magnitude-std-frequency'\n",
       "\\end{enumerate*}\n"
      ],
      "text/markdown": [
       "1. '\"subject\"'\n",
       "2. '\"activity\"'\n",
       "3. 'body-acceleration-mean-x-time'\n",
       "4. 'body-acceleration-mean-y-time'\n",
       "5. 'body-acceleration-mean-z-time'\n",
       "6. 'body-acceleration-std-x-time'\n",
       "7. 'body-acceleration-std-y-time'\n",
       "8. 'body-acceleration-std-z-time'\n",
       "9. 'gravity-acceleration-mean-x-time'\n",
       "10. 'gravity-acceleration-mean-y-time'\n",
       "11. 'gravity-acceleration-mean-z-time'\n",
       "12. 'gravity-acceleration-std-x-time'\n",
       "13. 'gravity-acceleration-std-y-time'\n",
       "14. 'gravity-acceleration-std-z-time'\n",
       "15. 'body-acceleration-jerk-mean-x-time'\n",
       "16. 'body-acceleration-jerk-mean-y-time'\n",
       "17. 'body-acceleration-jerk-mean-z-time'\n",
       "18. 'body-acceleration-jerk-std-x-time'\n",
       "19. 'body-acceleration-jerk-std-y-time'\n",
       "20. 'body-acceleration-jerk-std-z-time'\n",
       "21. 'body-gyro-mean-x-time'\n",
       "22. 'body-gyro-mean-y-time'\n",
       "23. 'body-gyro-mean-z-time'\n",
       "24. 'body-gyro-std-x-time'\n",
       "25. 'body-gyro-std-y-time'\n",
       "26. 'body-gyro-std-z-time'\n",
       "27. 'body-gyro-jerk-mean-x-time'\n",
       "28. 'body-gyro-jerk-mean-y-time'\n",
       "29. 'body-gyro-jerk-mean-z-time'\n",
       "30. 'body-gyro-jerk-std-x-time'\n",
       "31. 'body-gyro-jerk-std-y-time'\n",
       "32. 'body-gyro-jerk-std-z-time'\n",
       "33. 'body-acceleration-magnitude-mean-time'\n",
       "34. 'body-acceleration-magnitude-std-time'\n",
       "35. 'gravity-acceleration-magnitude-mean-time'\n",
       "36. 'gravity-acceleration-magnitude-std-time'\n",
       "37. 'body-acceleration-jerk-magnitude-mean-time'\n",
       "38. 'body-acceleration-jerk-magnitude-std-time'\n",
       "39. 'body-gyro-magnitude-mean-time'\n",
       "40. 'body-gyro-magnitude-std-time'\n",
       "41. 'body-gyro-jerk-magnitude-mean-time'\n",
       "42. 'body-gyro-jerk-magnitude-std-time'\n",
       "43. 'body-acceleration-mean-x-frequency'\n",
       "44. 'body-acceleration-mean-y-frequency'\n",
       "45. 'body-acceleration-mean-z-frequency'\n",
       "46. 'body-acceleration-std-x-frequency'\n",
       "47. 'body-acceleration-std-y-frequency'\n",
       "48. 'body-acceleration-std-z-frequency'\n",
       "49. 'body-acceleration-jerk-mean-x-frequency'\n",
       "50. 'body-acceleration-jerk-mean-y-frequency'\n",
       "51. 'body-acceleration-jerk-mean-z-frequency'\n",
       "52. 'body-acceleration-jerk-std-x-frequency'\n",
       "53. 'body-acceleration-jerk-std-y-frequency'\n",
       "54. 'body-acceleration-jerk-std-z-frequency'\n",
       "55. 'body-gyro-mean-x-frequency'\n",
       "56. 'body-gyro-mean-y-frequency'\n",
       "57. 'body-gyro-mean-z-frequency'\n",
       "58. 'body-gyro-std-x-frequency'\n",
       "59. 'body-gyro-std-y-frequency'\n",
       "60. 'body-gyro-std-z-frequency'\n",
       "61. 'body-acceleration-magnitude-mean-frequency'\n",
       "62. 'body-acceleration-magnitude-std-frequency'\n",
       "63. 'body-acceleration-jerk-magnitude-mean-frequency'\n",
       "64. 'body-acceleration-jerk-magnitude-std-frequency'\n",
       "65. 'body-gyro-magnitude-mean-frequency'\n",
       "66. 'body-gyro-magnitude-std-frequency'\n",
       "67. 'body-gyro-jerk-magnitude-mean-frequency'\n",
       "68. 'body-gyro-jerk-magnitude-std-frequency'\n",
       "\n",
       "\n"
      ],
      "text/plain": [
       " [1] \"\\\"subject\\\"\"                                    \n",
       " [2] \"\\\"activity\\\"\"                                   \n",
       " [3] \"body-acceleration-mean-x-time\"                  \n",
       " [4] \"body-acceleration-mean-y-time\"                  \n",
       " [5] \"body-acceleration-mean-z-time\"                  \n",
       " [6] \"body-acceleration-std-x-time\"                   \n",
       " [7] \"body-acceleration-std-y-time\"                   \n",
       " [8] \"body-acceleration-std-z-time\"                   \n",
       " [9] \"gravity-acceleration-mean-x-time\"               \n",
       "[10] \"gravity-acceleration-mean-y-time\"               \n",
       "[11] \"gravity-acceleration-mean-z-time\"               \n",
       "[12] \"gravity-acceleration-std-x-time\"                \n",
       "[13] \"gravity-acceleration-std-y-time\"                \n",
       "[14] \"gravity-acceleration-std-z-time\"                \n",
       "[15] \"body-acceleration-jerk-mean-x-time\"             \n",
       "[16] \"body-acceleration-jerk-mean-y-time\"             \n",
       "[17] \"body-acceleration-jerk-mean-z-time\"             \n",
       "[18] \"body-acceleration-jerk-std-x-time\"              \n",
       "[19] \"body-acceleration-jerk-std-y-time\"              \n",
       "[20] \"body-acceleration-jerk-std-z-time\"              \n",
       "[21] \"body-gyro-mean-x-time\"                          \n",
       "[22] \"body-gyro-mean-y-time\"                          \n",
       "[23] \"body-gyro-mean-z-time\"                          \n",
       "[24] \"body-gyro-std-x-time\"                           \n",
       "[25] \"body-gyro-std-y-time\"                           \n",
       "[26] \"body-gyro-std-z-time\"                           \n",
       "[27] \"body-gyro-jerk-mean-x-time\"                     \n",
       "[28] \"body-gyro-jerk-mean-y-time\"                     \n",
       "[29] \"body-gyro-jerk-mean-z-time\"                     \n",
       "[30] \"body-gyro-jerk-std-x-time\"                      \n",
       "[31] \"body-gyro-jerk-std-y-time\"                      \n",
       "[32] \"body-gyro-jerk-std-z-time\"                      \n",
       "[33] \"body-acceleration-magnitude-mean-time\"          \n",
       "[34] \"body-acceleration-magnitude-std-time\"           \n",
       "[35] \"gravity-acceleration-magnitude-mean-time\"       \n",
       "[36] \"gravity-acceleration-magnitude-std-time\"        \n",
       "[37] \"body-acceleration-jerk-magnitude-mean-time\"     \n",
       "[38] \"body-acceleration-jerk-magnitude-std-time\"      \n",
       "[39] \"body-gyro-magnitude-mean-time\"                  \n",
       "[40] \"body-gyro-magnitude-std-time\"                   \n",
       "[41] \"body-gyro-jerk-magnitude-mean-time\"             \n",
       "[42] \"body-gyro-jerk-magnitude-std-time\"              \n",
       "[43] \"body-acceleration-mean-x-frequency\"             \n",
       "[44] \"body-acceleration-mean-y-frequency\"             \n",
       "[45] \"body-acceleration-mean-z-frequency\"             \n",
       "[46] \"body-acceleration-std-x-frequency\"              \n",
       "[47] \"body-acceleration-std-y-frequency\"              \n",
       "[48] \"body-acceleration-std-z-frequency\"              \n",
       "[49] \"body-acceleration-jerk-mean-x-frequency\"        \n",
       "[50] \"body-acceleration-jerk-mean-y-frequency\"        \n",
       "[51] \"body-acceleration-jerk-mean-z-frequency\"        \n",
       "[52] \"body-acceleration-jerk-std-x-frequency\"         \n",
       "[53] \"body-acceleration-jerk-std-y-frequency\"         \n",
       "[54] \"body-acceleration-jerk-std-z-frequency\"         \n",
       "[55] \"body-gyro-mean-x-frequency\"                     \n",
       "[56] \"body-gyro-mean-y-frequency\"                     \n",
       "[57] \"body-gyro-mean-z-frequency\"                     \n",
       "[58] \"body-gyro-std-x-frequency\"                      \n",
       "[59] \"body-gyro-std-y-frequency\"                      \n",
       "[60] \"body-gyro-std-z-frequency\"                      \n",
       "[61] \"body-acceleration-magnitude-mean-frequency\"     \n",
       "[62] \"body-acceleration-magnitude-std-frequency\"      \n",
       "[63] \"body-acceleration-jerk-magnitude-mean-frequency\"\n",
       "[64] \"body-acceleration-jerk-magnitude-std-frequency\" \n",
       "[65] \"body-gyro-magnitude-mean-frequency\"             \n",
       "[66] \"body-gyro-magnitude-std-frequency\"              \n",
       "[67] \"body-gyro-jerk-magnitude-mean-frequency\"        \n",
       "[68] \"body-gyro-jerk-magnitude-std-frequency\"         "
      ]
     },
     "metadata": {},
     "output_type": "display_data"
    }
   ],
   "source": [
    "tidy_data$measurement"
   ]
  },
  {
   "cell_type": "code",
   "execution_count": null,
   "metadata": {},
   "outputs": [],
   "source": []
  }
 ],
 "metadata": {
  "kernelspec": {
   "display_name": "R",
   "language": "R",
   "name": "ir"
  },
  "language_info": {
   "codemirror_mode": "r",
   "file_extension": ".r",
   "mimetype": "text/x-r-source",
   "name": "R",
   "pygments_lexer": "r",
   "version": "3.6.1"
  },
  "toc": {
   "base_numbering": 1,
   "nav_menu": {},
   "number_sections": true,
   "sideBar": true,
   "skip_h1_title": false,
   "title_cell": "Table of Contents",
   "title_sidebar": "Contents",
   "toc_cell": false,
   "toc_position": {},
   "toc_section_display": true,
   "toc_window_display": false
  },
  "varInspector": {
   "cols": {
    "lenName": 16,
    "lenType": 16,
    "lenVar": 40
   },
   "kernels_config": {
    "python": {
     "delete_cmd_postfix": "",
     "delete_cmd_prefix": "del ",
     "library": "var_list.py",
     "varRefreshCmd": "print(var_dic_list())"
    },
    "r": {
     "delete_cmd_postfix": ") ",
     "delete_cmd_prefix": "rm(",
     "library": "var_list.r",
     "varRefreshCmd": "cat(var_dic_list()) "
    }
   },
   "types_to_exclude": [
    "module",
    "function",
    "builtin_function_or_method",
    "instance",
    "_Feature"
   ],
   "window_display": false
  }
 },
 "nbformat": 4,
 "nbformat_minor": 4
}
