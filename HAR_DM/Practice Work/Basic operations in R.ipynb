{
 "cells": [
  {
   "cell_type": "code",
   "execution_count": 1,
   "metadata": {},
   "outputs": [
    {
     "data": {
      "text/html": [
       "FALSE"
      ],
      "text/latex": [
       "FALSE"
      ],
      "text/markdown": [
       "FALSE"
      ],
      "text/plain": [
       "[1] FALSE"
      ]
     },
     "metadata": {},
     "output_type": "display_data"
    }
   ],
   "source": [
    "z <- c(TRUE, TRUE, TRUE, FALSE)\n",
    "all(z)"
   ]
  },
  {
   "cell_type": "code",
   "execution_count": 6,
   "metadata": {},
   "outputs": [],
   "source": [
    "z[length(z)] <- TRUE"
   ]
  },
  {
   "cell_type": "code",
   "execution_count": 7,
   "metadata": {},
   "outputs": [
    {
     "data": {
      "text/html": [
       "TRUE"
      ],
      "text/latex": [
       "TRUE"
      ],
      "text/markdown": [
       "TRUE"
      ],
      "text/plain": [
       "[1] TRUE"
      ]
     },
     "metadata": {},
     "output_type": "display_data"
    }
   ],
   "source": [
    "all(z)"
   ]
  },
  {
   "cell_type": "code",
   "execution_count": 8,
   "metadata": {},
   "outputs": [
    {
     "data": {
      "text/html": [
       "TRUE"
      ],
      "text/latex": [
       "TRUE"
      ],
      "text/markdown": [
       "TRUE"
      ],
      "text/plain": [
       "[1] TRUE"
      ]
     },
     "metadata": {},
     "output_type": "display_data"
    }
   ],
   "source": [
    "any(z)"
   ]
  },
  {
   "cell_type": "code",
   "execution_count": 9,
   "metadata": {},
   "outputs": [
    {
     "name": "stdout",
     "output_type": "stream",
     "text": [
      "[1] \"No reciprocal for 0.\"\n",
      "[1] \"Vermont\"\n",
      "[1] \"No state has a murder rate that low.\"\n"
     ]
    },
    {
     "data": {
      "text/html": [
       "&lt;NA&gt;"
      ],
      "text/latex": [
       "<NA>"
      ],
      "text/markdown": [
       "&lt;NA&gt;"
      ],
      "text/plain": [
       "[1] NA"
      ]
     },
     "metadata": {},
     "output_type": "display_data"
    },
    {
     "data": {
      "text/html": [
       "0"
      ],
      "text/latex": [
       "0"
      ],
      "text/markdown": [
       "0"
      ],
      "text/plain": [
       "[1] 0"
      ]
     },
     "metadata": {},
     "output_type": "display_data"
    },
    {
     "data": {
      "text/html": [
       "TRUE"
      ],
      "text/latex": [
       "TRUE"
      ],
      "text/markdown": [
       "TRUE"
      ],
      "text/plain": [
       "[1] TRUE"
      ]
     },
     "metadata": {},
     "output_type": "display_data"
    },
    {
     "data": {
      "text/html": [
       "FALSE"
      ],
      "text/latex": [
       "FALSE"
      ],
      "text/markdown": [
       "FALSE"
      ],
      "text/plain": [
       "[1] FALSE"
      ]
     },
     "metadata": {},
     "output_type": "display_data"
    }
   ],
   "source": [
    "# an example showing the general structure of an if-else statement\n",
    "a <- 0\n",
    "if(a!=0){\n",
    "  print(1/a)\n",
    "} else{\n",
    "  print(\"No reciprocal for 0.\")\n",
    "}\n",
    "\n",
    "# an example that tells us which states, if any, have a murder rate less than 0.5\n",
    "library(dslabs)\n",
    "data(murders)\n",
    "murder_rate <- murders$total / murders$population*100000\n",
    "ind <- which.min(murder_rate)\n",
    "if(murder_rate[ind] < 0.5){\n",
    "  print(murders$state[ind]) \n",
    "} else{\n",
    "  print(\"No state has murder rate that low\")\n",
    "}\n",
    "\n",
    "# changing the condition to < 0.25 changes the result\n",
    "if(murder_rate[ind] < 0.25){\n",
    "  print(murders$state[ind]) \n",
    "} else{\n",
    "  print(\"No state has a murder rate that low.\")\n",
    "}\n",
    "\n",
    "# the ifelse() function works similarly to an if-else conditional\n",
    "a <- 0\n",
    "ifelse(a > 0, 1/a, NA)\n",
    "\n",
    "# the ifelse() function is particularly useful on vectors\n",
    "a <- c(0,1,2,-4,5)\n",
    "result <- ifelse(a > 0, 1/a, NA)\n",
    "\n",
    "# the ifelse() function is also helpful for replacing missing values\n",
    "data(na_example)\n",
    "no_nas <- ifelse(is.na(na_example), 0, na_example) \n",
    "sum(is.na(no_nas))\n",
    "\n",
    "# the any() and all() functions evaluate logical vectors\n",
    "z <- c(TRUE, TRUE, FALSE)\n",
    "any(z)\n",
    "all(z)"
   ]
  },
  {
   "cell_type": "code",
   "execution_count": 10,
   "metadata": {},
   "outputs": [
    {
     "data": {
      "text/html": [
       "0.666666666666667"
      ],
      "text/latex": [
       "0.666666666666667"
      ],
      "text/markdown": [
       "0.666666666666667"
      ],
      "text/plain": [
       "[1] 0.6666667"
      ]
     },
     "metadata": {},
     "output_type": "display_data"
    }
   ],
   "source": [
    "avg <- function(x, arithmetic = TRUE) {\n",
    "    n <- length(x)\n",
    "    ifelse(arithmetic, sum(x)/n, prod(x)^(1/n))\n",
    "}\n",
    "\n",
    "avg(z)"
   ]
  },
  {
   "cell_type": "code",
   "execution_count": 11,
   "metadata": {},
   "outputs": [
    {
     "ename": "ERROR",
     "evalue": "Error in parse(text = x, srcfile = src): <text>:19:11: unexpected symbol\n18: my_function <- function(VARIABLE_NAME){\n19:   perform operations\n              ^\n",
     "output_type": "error",
     "traceback": [
      "Error in parse(text = x, srcfile = src): <text>:19:11: unexpected symbol\n18: my_function <- function(VARIABLE_NAME){\n19:   perform operations\n              ^\nTraceback:\n"
     ]
    }
   ],
   "source": [
    "# example of defining a function to compute the average of a vector x\n",
    "avg <- function(x){\n",
    "  s <- sum(x)\n",
    "  n <- length(x)\n",
    "  s/n\n",
    "}\n",
    "\n",
    "# we see that the above function and the pre-built R mean() function are identical\n",
    "x <- 1:100\n",
    "identical(mean(x), avg(x))\n",
    "\n",
    "# variables inside a function are not defined in the workspace\n",
    "s <- 3\n",
    "avg(1:10)\n",
    "s\n",
    "\n",
    "# the general form of a function\n",
    "my_function <- function(VARIABLE_NAME){\n",
    "  perform operations on VARIABLE_NAME and calculate VALUE\n",
    "  VALUE\n",
    "}\n",
    "\n",
    "# functions can have multiple arguments as well as default values\n",
    "avg <- function(x, arithmetic = TRUE){\n",
    "  n <- length(x)\n",
    "  ifelse(arithmetic, sum(x)/n, prod(x)^(1/n))\n",
    "}"
   ]
  },
  {
   "cell_type": "code",
   "execution_count": 14,
   "metadata": {},
   "outputs": [
    {
     "name": "stdout",
     "output_type": "stream",
     "text": [
      "[1] 1\n",
      "[1] 2\n",
      "[1] 3\n",
      "[1] 4\n",
      "[1] 5\n"
     ]
    },
    {
     "data": {
      "text/html": [
       "<table>\n",
       "<thead><tr><th scope=col>s_n</th><th scope=col>formula</th></tr></thead>\n",
       "<tbody>\n",
       "\t<tr><td> 1</td><td> 1</td></tr>\n",
       "\t<tr><td> 3</td><td> 3</td></tr>\n",
       "\t<tr><td> 6</td><td> 6</td></tr>\n",
       "\t<tr><td>10</td><td>10</td></tr>\n",
       "\t<tr><td>15</td><td>15</td></tr>\n",
       "\t<tr><td>21</td><td>21</td></tr>\n",
       "</tbody>\n",
       "</table>\n"
      ],
      "text/latex": [
       "\\begin{tabular}{r|ll}\n",
       " s\\_n & formula\\\\\n",
       "\\hline\n",
       "\t  1 &  1\\\\\n",
       "\t  3 &  3\\\\\n",
       "\t  6 &  6\\\\\n",
       "\t 10 & 10\\\\\n",
       "\t 15 & 15\\\\\n",
       "\t 21 & 21\\\\\n",
       "\\end{tabular}\n"
      ],
      "text/markdown": [
       "\n",
       "| s_n | formula |\n",
       "|---|---|\n",
       "|  1 |  1 |\n",
       "|  3 |  3 |\n",
       "|  6 |  6 |\n",
       "| 10 | 10 |\n",
       "| 15 | 15 |\n",
       "| 21 | 21 |\n",
       "\n"
      ],
      "text/plain": [
       "  s_n formula\n",
       "1  1   1     \n",
       "2  3   3     \n",
       "3  6   6     \n",
       "4 10  10     \n",
       "5 15  15     \n",
       "6 21  21     "
      ]
     },
     "metadata": {},
     "output_type": "display_data"
    },
    {
     "data": {
      "image/png": "[encoded data removed]",
      "text/plain": [
       "plot without title"
      ]
     },
     "metadata": {},
     "output_type": "display_data"
    }
   ],
   "source": [
    "# creating a function that computes the sum of integers 1 through n\n",
    "compute_s_n <- function(n){\n",
    "  x <- 1:n\n",
    "  sum(x)\n",
    "}\n",
    "\n",
    "# a very simple for-loop\n",
    "for(i in 1:5){\n",
    "  print(i)\n",
    "}\n",
    "\n",
    "# a for-loop for our summation\n",
    "m <- 25\n",
    "s_n <- vector(length = m) # create an empty vector\n",
    "for(n in 1:m){\n",
    "  s_n[n] <- compute_s_n(n)\n",
    "}\n",
    "\n",
    "# creating a plot for our summation function\n",
    "n <- 1:m\n",
    "plot(n, s_n)\n",
    "\n",
    "# a table of values comparing our function to the summation formula\n",
    "head(data.frame(s_n = s_n, formula = n*(n+1)/2))\n",
    "\n",
    "# overlaying our function with the summation formula\n",
    "plot(n, s_n)\n",
    "lines(n, n*(n+1)/2)\n",
    "lines(n, n^2)"
   ]
  },
  {
   "cell_type": "code",
   "execution_count": 15,
   "metadata": {},
   "outputs": [
    {
     "data": {
      "text/html": [
       "1862"
      ],
      "text/latex": [
       "1862"
      ],
      "text/markdown": [
       "1862"
      ],
      "text/plain": [
       "[1] 1862"
      ]
     },
     "metadata": {},
     "output_type": "display_data"
    }
   ],
   "source": [
    "library(dslabs)\n",
    "data(heights)\n",
    "sum(ifelse(heights$sex == \"Female\", 1 , 2))"
   ]
  },
  {
   "cell_type": "code",
   "execution_count": 17,
   "metadata": {},
   "outputs": [
    {
     "data": {
      "text/html": [
       "9.65353426471691"
      ],
      "text/latex": [
       "9.65353426471691"
      ],
      "text/markdown": [
       "9.65353426471691"
      ],
      "text/plain": [
       "[1] 9.653534"
      ]
     },
     "metadata": {},
     "output_type": "display_data"
    }
   ],
   "source": [
    "h <- ifelse(heights$height > 72 , heights$height , 0)\n",
    "mean(h)"
   ]
  },
  {
   "cell_type": "code",
   "execution_count": 18,
   "metadata": {},
   "outputs": [
    {
     "data": {
      "text/html": [
       "12"
      ],
      "text/latex": [
       "12"
      ],
      "text/markdown": [
       "12"
      ],
      "text/plain": [
       "[1] 12"
      ]
     },
     "metadata": {},
     "output_type": "display_data"
    }
   ],
   "source": [
    "i_to_f <- function(x){\n",
    "    x / 12 \n",
    "}\n",
    "i_to_f(144)"
   ]
  },
  {
   "cell_type": "code",
   "execution_count": 19,
   "metadata": {},
   "outputs": [
    {
     "data": {
      "text/html": [
       "20"
      ],
      "text/latex": [
       "20"
      ],
      "text/markdown": [
       "20"
      ],
      "text/plain": [
       "[1] 20"
      ]
     },
     "metadata": {},
     "output_type": "display_data"
    }
   ],
   "source": [
    "sum(i_to_f(heights$height) < 5)"
   ]
  },
  {
   "cell_type": "code",
   "execution_count": 20,
   "metadata": {},
   "outputs": [
    {
     "data": {
      "text/html": [
       "<ol class=list-inline>\n",
       "\t<li>1</li>\n",
       "\t<li>2</li>\n",
       "\t<li>6</li>\n",
       "\t<li>24</li>\n",
       "\t<li>120</li>\n",
       "\t<li>720</li>\n",
       "\t<li>5040</li>\n",
       "\t<li>40320</li>\n",
       "\t<li>362880</li>\n",
       "\t<li>3628800</li>\n",
       "</ol>\n"
      ],
      "text/latex": [
       "\\begin{enumerate*}\n",
       "\\item 1\n",
       "\\item 2\n",
       "\\item 6\n",
       "\\item 24\n",
       "\\item 120\n",
       "\\item 720\n",
       "\\item 5040\n",
       "\\item 40320\n",
       "\\item 362880\n",
       "\\item 3628800\n",
       "\\end{enumerate*}\n"
      ],
      "text/markdown": [
       "1. 1\n",
       "2. 2\n",
       "3. 6\n",
       "4. 24\n",
       "5. 120\n",
       "6. 720\n",
       "7. 5040\n",
       "8. 40320\n",
       "9. 362880\n",
       "10. 3628800\n",
       "\n",
       "\n"
      ],
      "text/plain": [
       " [1]       1       2       6      24     120     720    5040   40320  362880\n",
       "[10] 3628800"
      ]
     },
     "metadata": {},
     "output_type": "display_data"
    }
   ],
   "source": [
    "# define a vector of length m\n",
    "m <- 10\n",
    "f_n <- vector(length = m)\n",
    "\n",
    "# make a vector of factorials\n",
    "for(n in 1:m){\n",
    "f_n[n] <- factorial(n)\n",
    "}\n",
    "\n",
    "# inspect f_n\n",
    "f_n"
   ]
  },
  {
   "cell_type": "code",
   "execution_count": null,
   "metadata": {},
   "outputs": [],
   "source": []
  }
 ],
 "metadata": {
  "kernelspec": {
   "display_name": "R",
   "language": "R",
   "name": "ir"
  },
  "language_info": {
   "codemirror_mode": "r",
   "file_extension": ".r",
   "mimetype": "text/x-r-source",
   "name": "R",
   "pygments_lexer": "r",
   "version": "3.6.1"
  },
  "toc": {
   "base_numbering": 1,
   "nav_menu": {},
   "number_sections": true,
   "sideBar": true,
   "skip_h1_title": false,
   "title_cell": "Table of Contents",
   "title_sidebar": "Contents",
   "toc_cell": false,
   "toc_position": {},
   "toc_section_display": true,
   "toc_window_display": false
  },
  "varInspector": {
   "cols": {
    "lenName": 16,
    "lenType": 16,
    "lenVar": 40
   },
   "kernels_config": {
    "python": {
     "delete_cmd_postfix": "",
     "delete_cmd_prefix": "del ",
     "library": "var_list.py",
     "varRefreshCmd": "print(var_dic_list())"
    },
    "r": {
     "delete_cmd_postfix": ") ",
     "delete_cmd_prefix": "rm(",
     "library": "var_list.r",
     "varRefreshCmd": "cat(var_dic_list()) "
    }
   },
   "types_to_exclude": [
    "module",
    "function",
    "builtin_function_or_method",
    "instance",
    "_Feature"
   ],
   "window_display": false
  }
 },
 "nbformat": 4,
 "nbformat_minor": 4
}
