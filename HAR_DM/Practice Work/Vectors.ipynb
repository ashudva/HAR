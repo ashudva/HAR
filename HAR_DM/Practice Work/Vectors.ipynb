{
 "cells": [
  {
   "cell_type": "code",
   "execution_count": 3,
   "metadata": {},
   "outputs": [
    {
     "data": {
      "text/html": [
       "'table'"
      ],
      "text/latex": [
       "'table'"
      ],
      "text/markdown": [
       "'table'"
      ],
      "text/plain": [
       "[1] \"table\""
      ]
     },
     "metadata": {},
     "output_type": "display_data"
    }
   ],
   "source": [
    "a <- c(380, 232, 324, 340)\n",
    "b <- c(\"a\", \"b\", \"c\", \"d\")\n",
    "d <- table(a,b)\n",
    "class(d)"
   ]
  },
  {
   "cell_type": "code",
   "execution_count": 4,
   "metadata": {},
   "outputs": [
    {
     "data": {
      "text/html": [
       "<dl class=dl-horizontal>\n",
       "\t<dt>a</dt>\n",
       "\t\t<dd>380</dd>\n",
       "\t<dt>b</dt>\n",
       "\t\t<dd>232</dd>\n",
       "\t<dt>c</dt>\n",
       "\t\t<dd>324</dd>\n",
       "\t<dt>d</dt>\n",
       "\t\t<dd>340</dd>\n",
       "</dl>\n"
      ],
      "text/latex": [
       "\\begin{description*}\n",
       "\\item[a] 380\n",
       "\\item[b] 232\n",
       "\\item[c] 324\n",
       "\\item[d] 340\n",
       "\\end{description*}\n"
      ],
      "text/markdown": [
       "a\n",
       ":   380b\n",
       ":   232c\n",
       ":   324d\n",
       ":   340\n",
       "\n"
      ],
      "text/plain": [
       "  a   b   c   d \n",
       "380 232 324 340 "
      ]
     },
     "metadata": {},
     "output_type": "display_data"
    }
   ],
   "source": [
    "names(a) <- b\n",
    "a"
   ]
  },
  {
   "cell_type": "code",
   "execution_count": 7,
   "metadata": {},
   "outputs": [
    {
     "data": {
      "text/html": [
       "<dl class=dl-horizontal>\n",
       "\t<dt>l</dt>\n",
       "\t\t<dd>12</dd>\n",
       "\t<dt>k</dt>\n",
       "\t\t<dd>32</dd>\n",
       "</dl>\n"
      ],
      "text/latex": [
       "\\begin{description*}\n",
       "\\item[l] 12\n",
       "\\item[k] 32\n",
       "\\end{description*}\n"
      ],
      "text/markdown": [
       "l\n",
       ":   12k\n",
       ":   32\n",
       "\n"
      ],
      "text/plain": [
       " l  k \n",
       "12 32 "
      ]
     },
     "metadata": {},
     "output_type": "display_data"
    }
   ],
   "source": [
    "e = c(\"a\" =50, \"b\"= 60)\n",
    "f = c(l = 12, k=32)\n",
    "f"
   ]
  },
  {
   "cell_type": "code",
   "execution_count": 8,
   "metadata": {},
   "outputs": [
    {
     "data": {
      "text/html": [
       "<dl class=dl-horizontal>\n",
       "\t<dt>a</dt>\n",
       "\t\t<dd>380</dd>\n",
       "\t<dt>b</dt>\n",
       "\t\t<dd>232</dd>\n",
       "\t<dt>c</dt>\n",
       "\t\t<dd>324</dd>\n",
       "</dl>\n"
      ],
      "text/latex": [
       "\\begin{description*}\n",
       "\\item[a] 380\n",
       "\\item[b] 232\n",
       "\\item[c] 324\n",
       "\\end{description*}\n"
      ],
      "text/markdown": [
       "a\n",
       ":   380b\n",
       ":   232c\n",
       ":   324\n",
       "\n"
      ],
      "text/plain": [
       "  a   b   c \n",
       "380 232 324 "
      ]
     },
     "metadata": {},
     "output_type": "display_data"
    }
   ],
   "source": [
    "a[1:3]"
   ]
  },
  {
   "cell_type": "code",
   "execution_count": 11,
   "metadata": {},
   "outputs": [
    {
     "data": {
      "text/html": [
       "<dl class=dl-horizontal>\n",
       "\t<dt>b</dt>\n",
       "\t\t<dd>232</dd>\n",
       "\t<dt>c</dt>\n",
       "\t\t<dd>324</dd>\n",
       "</dl>\n"
      ],
      "text/latex": [
       "\\begin{description*}\n",
       "\\item[b] 232\n",
       "\\item[c] 324\n",
       "\\end{description*}\n"
      ],
      "text/markdown": [
       "b\n",
       ":   232c\n",
       ":   324\n",
       "\n"
      ],
      "text/plain": [
       "  b   c \n",
       "232 324 "
      ]
     },
     "metadata": {},
     "output_type": "display_data"
    }
   ],
   "source": [
    "a[c(2,3)]"
   ]
  },
  {
   "cell_type": "code",
   "execution_count": 12,
   "metadata": {},
   "outputs": [
    {
     "data": {
      "text/html": [
       "<strong>b:</strong> 232"
      ],
      "text/latex": [
       "\\textbf{b:} 232"
      ],
      "text/markdown": [
       "**b:** 232"
      ],
      "text/plain": [
       "  b \n",
       "232 "
      ]
     },
     "metadata": {},
     "output_type": "display_data"
    }
   ],
   "source": [
    "a[2]"
   ]
  },
  {
   "cell_type": "code",
   "execution_count": 2,
   "metadata": {},
   "outputs": [
    {
     "data": {
      "text/html": [
       "<ol class=list-inline>\n",
       "\t<li>2</li>\n",
       "\t<li>4</li>\n",
       "\t<li>5</li>\n",
       "\t<li>5</li>\n",
       "\t<li>7</li>\n",
       "\t<li>8</li>\n",
       "\t<li>11</li>\n",
       "\t<li>12</li>\n",
       "\t<li>12</li>\n",
       "\t<li>16</li>\n",
       "\t<li>19</li>\n",
       "\t<li>21</li>\n",
       "\t<li>22</li>\n",
       "\t<li>27</li>\n",
       "\t<li>32</li>\n",
       "\t<li>36</li>\n",
       "\t<li>38</li>\n",
       "\t<li>53</li>\n",
       "\t<li>63</li>\n",
       "\t<li>65</li>\n",
       "\t<li>67</li>\n",
       "\t<li>84</li>\n",
       "\t<li>93</li>\n",
       "\t<li>93</li>\n",
       "\t<li>97</li>\n",
       "\t<li>97</li>\n",
       "\t<li>99</li>\n",
       "\t<li>111</li>\n",
       "\t<li>116</li>\n",
       "\t<li>118</li>\n",
       "\t<li>120</li>\n",
       "\t<li>135</li>\n",
       "\t<li>142</li>\n",
       "\t<li>207</li>\n",
       "\t<li>219</li>\n",
       "\t<li>232</li>\n",
       "\t<li>246</li>\n",
       "\t<li>250</li>\n",
       "\t<li>286</li>\n",
       "\t<li>293</li>\n",
       "\t<li>310</li>\n",
       "\t<li>321</li>\n",
       "\t<li>351</li>\n",
       "\t<li>364</li>\n",
       "\t<li>376</li>\n",
       "\t<li>413</li>\n",
       "\t<li>457</li>\n",
       "\t<li>517</li>\n",
       "\t<li>669</li>\n",
       "\t<li>805</li>\n",
       "\t<li>1257</li>\n",
       "</ol>\n"
      ],
      "text/latex": [
       "\\begin{enumerate*}\n",
       "\\item 2\n",
       "\\item 4\n",
       "\\item 5\n",
       "\\item 5\n",
       "\\item 7\n",
       "\\item 8\n",
       "\\item 11\n",
       "\\item 12\n",
       "\\item 12\n",
       "\\item 16\n",
       "\\item 19\n",
       "\\item 21\n",
       "\\item 22\n",
       "\\item 27\n",
       "\\item 32\n",
       "\\item 36\n",
       "\\item 38\n",
       "\\item 53\n",
       "\\item 63\n",
       "\\item 65\n",
       "\\item 67\n",
       "\\item 84\n",
       "\\item 93\n",
       "\\item 93\n",
       "\\item 97\n",
       "\\item 97\n",
       "\\item 99\n",
       "\\item 111\n",
       "\\item 116\n",
       "\\item 118\n",
       "\\item 120\n",
       "\\item 135\n",
       "\\item 142\n",
       "\\item 207\n",
       "\\item 219\n",
       "\\item 232\n",
       "\\item 246\n",
       "\\item 250\n",
       "\\item 286\n",
       "\\item 293\n",
       "\\item 310\n",
       "\\item 321\n",
       "\\item 351\n",
       "\\item 364\n",
       "\\item 376\n",
       "\\item 413\n",
       "\\item 457\n",
       "\\item 517\n",
       "\\item 669\n",
       "\\item 805\n",
       "\\item 1257\n",
       "\\end{enumerate*}\n"
      ],
      "text/markdown": [
       "1. 2\n",
       "2. 4\n",
       "3. 5\n",
       "4. 5\n",
       "5. 7\n",
       "6. 8\n",
       "7. 11\n",
       "8. 12\n",
       "9. 12\n",
       "10. 16\n",
       "11. 19\n",
       "12. 21\n",
       "13. 22\n",
       "14. 27\n",
       "15. 32\n",
       "16. 36\n",
       "17. 38\n",
       "18. 53\n",
       "19. 63\n",
       "20. 65\n",
       "21. 67\n",
       "22. 84\n",
       "23. 93\n",
       "24. 93\n",
       "25. 97\n",
       "26. 97\n",
       "27. 99\n",
       "28. 111\n",
       "29. 116\n",
       "30. 118\n",
       "31. 120\n",
       "32. 135\n",
       "33. 142\n",
       "34. 207\n",
       "35. 219\n",
       "36. 232\n",
       "37. 246\n",
       "38. 250\n",
       "39. 286\n",
       "40. 293\n",
       "41. 310\n",
       "42. 321\n",
       "43. 351\n",
       "44. 364\n",
       "45. 376\n",
       "46. 413\n",
       "47. 457\n",
       "48. 517\n",
       "49. 669\n",
       "50. 805\n",
       "51. 1257\n",
       "\n",
       "\n"
      ],
      "text/plain": [
       " [1]    2    4    5    5    7    8   11   12   12   16   19   21   22   27   32\n",
       "[16]   36   38   53   63   65   67   84   93   93   97   97   99  111  116  118\n",
       "[31]  120  135  142  207  219  232  246  250  286  293  310  321  351  364  376\n",
       "[46]  413  457  517  669  805 1257"
      ]
     },
     "metadata": {},
     "output_type": "display_data"
    },
    {
     "data": {
      "text/html": [
       "<ol class=list-inline>\n",
       "\t<li>31</li>\n",
       "\t<li>4</li>\n",
       "\t<li>15</li>\n",
       "\t<li>92</li>\n",
       "\t<li>65</li>\n",
       "</ol>\n"
      ],
      "text/latex": [
       "\\begin{enumerate*}\n",
       "\\item 31\n",
       "\\item 4\n",
       "\\item 15\n",
       "\\item 92\n",
       "\\item 65\n",
       "\\end{enumerate*}\n"
      ],
      "text/markdown": [
       "1. 31\n",
       "2. 4\n",
       "3. 15\n",
       "4. 92\n",
       "5. 65\n",
       "\n",
       "\n"
      ],
      "text/plain": [
       "[1] 31  4 15 92 65"
      ]
     },
     "metadata": {},
     "output_type": "display_data"
    },
    {
     "data": {
      "text/html": [
       "<ol class=list-inline>\n",
       "\t<li>4</li>\n",
       "\t<li>15</li>\n",
       "\t<li>31</li>\n",
       "\t<li>65</li>\n",
       "\t<li>92</li>\n",
       "</ol>\n"
      ],
      "text/latex": [
       "\\begin{enumerate*}\n",
       "\\item 4\n",
       "\\item 15\n",
       "\\item 31\n",
       "\\item 65\n",
       "\\item 92\n",
       "\\end{enumerate*}\n"
      ],
      "text/markdown": [
       "1. 4\n",
       "2. 15\n",
       "3. 31\n",
       "4. 65\n",
       "5. 92\n",
       "\n",
       "\n"
      ],
      "text/plain": [
       "[1]  4 15 31 65 92"
      ]
     },
     "metadata": {},
     "output_type": "display_data"
    },
    {
     "data": {
      "text/html": [
       "<ol class=list-inline>\n",
       "\t<li>4</li>\n",
       "\t<li>15</li>\n",
       "\t<li>31</li>\n",
       "\t<li>65</li>\n",
       "\t<li>92</li>\n",
       "</ol>\n"
      ],
      "text/latex": [
       "\\begin{enumerate*}\n",
       "\\item 4\n",
       "\\item 15\n",
       "\\item 31\n",
       "\\item 65\n",
       "\\item 92\n",
       "\\end{enumerate*}\n"
      ],
      "text/markdown": [
       "1. 4\n",
       "2. 15\n",
       "3. 31\n",
       "4. 65\n",
       "5. 92\n",
       "\n",
       "\n"
      ],
      "text/plain": [
       "[1]  4 15 31 65 92"
      ]
     },
     "metadata": {},
     "output_type": "display_data"
    },
    {
     "data": {
      "text/html": [
       "<ol class=list-inline>\n",
       "\t<li>2</li>\n",
       "\t<li>3</li>\n",
       "\t<li>1</li>\n",
       "\t<li>5</li>\n",
       "\t<li>4</li>\n",
       "</ol>\n"
      ],
      "text/latex": [
       "\\begin{enumerate*}\n",
       "\\item 2\n",
       "\\item 3\n",
       "\\item 1\n",
       "\\item 5\n",
       "\\item 4\n",
       "\\end{enumerate*}\n"
      ],
      "text/markdown": [
       "1. 2\n",
       "2. 3\n",
       "3. 1\n",
       "4. 5\n",
       "5. 4\n",
       "\n",
       "\n"
      ],
      "text/plain": [
       "[1] 2 3 1 5 4"
      ]
     },
     "metadata": {},
     "output_type": "display_data"
    },
    {
     "data": {
      "text/html": [
       "<ol class=list-inline>\n",
       "\t<li>'Alabama'</li>\n",
       "\t<li>'Alaska'</li>\n",
       "\t<li>'Arizona'</li>\n",
       "\t<li>'Arkansas'</li>\n",
       "\t<li>'California'</li>\n",
       "\t<li>'Colorado'</li>\n",
       "\t<li>'Connecticut'</li>\n",
       "\t<li>'Delaware'</li>\n",
       "\t<li>'District of Columbia'</li>\n",
       "\t<li>'Florida'</li>\n",
       "</ol>\n"
      ],
      "text/latex": [
       "\\begin{enumerate*}\n",
       "\\item 'Alabama'\n",
       "\\item 'Alaska'\n",
       "\\item 'Arizona'\n",
       "\\item 'Arkansas'\n",
       "\\item 'California'\n",
       "\\item 'Colorado'\n",
       "\\item 'Connecticut'\n",
       "\\item 'Delaware'\n",
       "\\item 'District of Columbia'\n",
       "\\item 'Florida'\n",
       "\\end{enumerate*}\n"
      ],
      "text/markdown": [
       "1. 'Alabama'\n",
       "2. 'Alaska'\n",
       "3. 'Arizona'\n",
       "4. 'Arkansas'\n",
       "5. 'California'\n",
       "6. 'Colorado'\n",
       "7. 'Connecticut'\n",
       "8. 'Delaware'\n",
       "9. 'District of Columbia'\n",
       "10. 'Florida'\n",
       "\n",
       "\n"
      ],
      "text/plain": [
       " [1] \"Alabama\"              \"Alaska\"               \"Arizona\"             \n",
       " [4] \"Arkansas\"             \"California\"           \"Colorado\"            \n",
       " [7] \"Connecticut\"          \"Delaware\"             \"District of Columbia\"\n",
       "[10] \"Florida\"             "
      ]
     },
     "metadata": {},
     "output_type": "display_data"
    },
    {
     "data": {
      "text/html": [
       "<ol class=list-inline>\n",
       "\t<li>'AL'</li>\n",
       "\t<li>'AK'</li>\n",
       "\t<li>'AZ'</li>\n",
       "\t<li>'AR'</li>\n",
       "\t<li>'CA'</li>\n",
       "\t<li>'CO'</li>\n",
       "\t<li>'CT'</li>\n",
       "\t<li>'DE'</li>\n",
       "\t<li>'DC'</li>\n",
       "\t<li>'FL'</li>\n",
       "</ol>\n"
      ],
      "text/latex": [
       "\\begin{enumerate*}\n",
       "\\item 'AL'\n",
       "\\item 'AK'\n",
       "\\item 'AZ'\n",
       "\\item 'AR'\n",
       "\\item 'CA'\n",
       "\\item 'CO'\n",
       "\\item 'CT'\n",
       "\\item 'DE'\n",
       "\\item 'DC'\n",
       "\\item 'FL'\n",
       "\\end{enumerate*}\n"
      ],
      "text/markdown": [
       "1. 'AL'\n",
       "2. 'AK'\n",
       "3. 'AZ'\n",
       "4. 'AR'\n",
       "5. 'CA'\n",
       "6. 'CO'\n",
       "7. 'CT'\n",
       "8. 'DE'\n",
       "9. 'DC'\n",
       "10. 'FL'\n",
       "\n",
       "\n"
      ],
      "text/plain": [
       " [1] \"AL\" \"AK\" \"AZ\" \"AR\" \"CA\" \"CO\" \"CT\" \"DE\" \"DC\" \"FL\""
      ]
     },
     "metadata": {},
     "output_type": "display_data"
    },
    {
     "data": {
      "text/html": [
       "<ol class=list-inline>\n",
       "\t<li>'VT'</li>\n",
       "\t<li>'ND'</li>\n",
       "\t<li>'NH'</li>\n",
       "\t<li>'WY'</li>\n",
       "\t<li>'HI'</li>\n",
       "\t<li>'SD'</li>\n",
       "\t<li>'ME'</li>\n",
       "\t<li>'ID'</li>\n",
       "\t<li>'MT'</li>\n",
       "\t<li>'RI'</li>\n",
       "\t<li>'AK'</li>\n",
       "\t<li>'IA'</li>\n",
       "\t<li>'UT'</li>\n",
       "\t<li>'WV'</li>\n",
       "\t<li>'NE'</li>\n",
       "\t<li>'OR'</li>\n",
       "\t<li>'DE'</li>\n",
       "\t<li>'MN'</li>\n",
       "\t<li>'KS'</li>\n",
       "\t<li>'CO'</li>\n",
       "\t<li>'NM'</li>\n",
       "\t<li>'NV'</li>\n",
       "\t<li>'AR'</li>\n",
       "\t<li>'WA'</li>\n",
       "\t<li>'CT'</li>\n",
       "\t<li>'WI'</li>\n",
       "\t<li>'DC'</li>\n",
       "\t<li>'OK'</li>\n",
       "\t<li>'KY'</li>\n",
       "\t<li>'MA'</li>\n",
       "\t<li>'MS'</li>\n",
       "\t<li>'AL'</li>\n",
       "\t<li>'IN'</li>\n",
       "\t<li>'SC'</li>\n",
       "\t<li>'TN'</li>\n",
       "\t<li>'AZ'</li>\n",
       "\t<li>'NJ'</li>\n",
       "\t<li>'VA'</li>\n",
       "\t<li>'NC'</li>\n",
       "\t<li>'MD'</li>\n",
       "\t<li>'OH'</li>\n",
       "\t<li>'MO'</li>\n",
       "\t<li>'LA'</li>\n",
       "\t<li>'IL'</li>\n",
       "\t<li>'GA'</li>\n",
       "\t<li>'MI'</li>\n",
       "\t<li>'PA'</li>\n",
       "\t<li>'NY'</li>\n",
       "\t<li>'FL'</li>\n",
       "\t<li>'TX'</li>\n",
       "\t<li>'CA'</li>\n",
       "</ol>\n"
      ],
      "text/latex": [
       "\\begin{enumerate*}\n",
       "\\item 'VT'\n",
       "\\item 'ND'\n",
       "\\item 'NH'\n",
       "\\item 'WY'\n",
       "\\item 'HI'\n",
       "\\item 'SD'\n",
       "\\item 'ME'\n",
       "\\item 'ID'\n",
       "\\item 'MT'\n",
       "\\item 'RI'\n",
       "\\item 'AK'\n",
       "\\item 'IA'\n",
       "\\item 'UT'\n",
       "\\item 'WV'\n",
       "\\item 'NE'\n",
       "\\item 'OR'\n",
       "\\item 'DE'\n",
       "\\item 'MN'\n",
       "\\item 'KS'\n",
       "\\item 'CO'\n",
       "\\item 'NM'\n",
       "\\item 'NV'\n",
       "\\item 'AR'\n",
       "\\item 'WA'\n",
       "\\item 'CT'\n",
       "\\item 'WI'\n",
       "\\item 'DC'\n",
       "\\item 'OK'\n",
       "\\item 'KY'\n",
       "\\item 'MA'\n",
       "\\item 'MS'\n",
       "\\item 'AL'\n",
       "\\item 'IN'\n",
       "\\item 'SC'\n",
       "\\item 'TN'\n",
       "\\item 'AZ'\n",
       "\\item 'NJ'\n",
       "\\item 'VA'\n",
       "\\item 'NC'\n",
       "\\item 'MD'\n",
       "\\item 'OH'\n",
       "\\item 'MO'\n",
       "\\item 'LA'\n",
       "\\item 'IL'\n",
       "\\item 'GA'\n",
       "\\item 'MI'\n",
       "\\item 'PA'\n",
       "\\item 'NY'\n",
       "\\item 'FL'\n",
       "\\item 'TX'\n",
       "\\item 'CA'\n",
       "\\end{enumerate*}\n"
      ],
      "text/markdown": [
       "1. 'VT'\n",
       "2. 'ND'\n",
       "3. 'NH'\n",
       "4. 'WY'\n",
       "5. 'HI'\n",
       "6. 'SD'\n",
       "7. 'ME'\n",
       "8. 'ID'\n",
       "9. 'MT'\n",
       "10. 'RI'\n",
       "11. 'AK'\n",
       "12. 'IA'\n",
       "13. 'UT'\n",
       "14. 'WV'\n",
       "15. 'NE'\n",
       "16. 'OR'\n",
       "17. 'DE'\n",
       "18. 'MN'\n",
       "19. 'KS'\n",
       "20. 'CO'\n",
       "21. 'NM'\n",
       "22. 'NV'\n",
       "23. 'AR'\n",
       "24. 'WA'\n",
       "25. 'CT'\n",
       "26. 'WI'\n",
       "27. 'DC'\n",
       "28. 'OK'\n",
       "29. 'KY'\n",
       "30. 'MA'\n",
       "31. 'MS'\n",
       "32. 'AL'\n",
       "33. 'IN'\n",
       "34. 'SC'\n",
       "35. 'TN'\n",
       "36. 'AZ'\n",
       "37. 'NJ'\n",
       "38. 'VA'\n",
       "39. 'NC'\n",
       "40. 'MD'\n",
       "41. 'OH'\n",
       "42. 'MO'\n",
       "43. 'LA'\n",
       "44. 'IL'\n",
       "45. 'GA'\n",
       "46. 'MI'\n",
       "47. 'PA'\n",
       "48. 'NY'\n",
       "49. 'FL'\n",
       "50. 'TX'\n",
       "51. 'CA'\n",
       "\n",
       "\n"
      ],
      "text/plain": [
       " [1] \"VT\" \"ND\" \"NH\" \"WY\" \"HI\" \"SD\" \"ME\" \"ID\" \"MT\" \"RI\" \"AK\" \"IA\" \"UT\" \"WV\" \"NE\"\n",
       "[16] \"OR\" \"DE\" \"MN\" \"KS\" \"CO\" \"NM\" \"NV\" \"AR\" \"WA\" \"CT\" \"WI\" \"DC\" \"OK\" \"KY\" \"MA\"\n",
       "[31] \"MS\" \"AL\" \"IN\" \"SC\" \"TN\" \"AZ\" \"NJ\" \"VA\" \"NC\" \"MD\" \"OH\" \"MO\" \"LA\" \"IL\" \"GA\"\n",
       "[46] \"MI\" \"PA\" \"NY\" \"FL\" \"TX\" \"CA\""
      ]
     },
     "metadata": {},
     "output_type": "display_data"
    },
    {
     "data": {
      "text/html": [
       "1257"
      ],
      "text/latex": [
       "1257"
      ],
      "text/markdown": [
       "1257"
      ],
      "text/plain": [
       "[1] 1257"
      ]
     },
     "metadata": {},
     "output_type": "display_data"
    },
    {
     "data": {
      "text/html": [
       "'California'"
      ],
      "text/latex": [
       "'California'"
      ],
      "text/markdown": [
       "'California'"
      ],
      "text/plain": [
       "[1] \"California\""
      ]
     },
     "metadata": {},
     "output_type": "display_data"
    },
    {
     "data": {
      "text/html": [
       "<ol class=list-inline>\n",
       "\t<li>31</li>\n",
       "\t<li>4</li>\n",
       "\t<li>15</li>\n",
       "\t<li>92</li>\n",
       "\t<li>65</li>\n",
       "</ol>\n"
      ],
      "text/latex": [
       "\\begin{enumerate*}\n",
       "\\item 31\n",
       "\\item 4\n",
       "\\item 15\n",
       "\\item 92\n",
       "\\item 65\n",
       "\\end{enumerate*}\n"
      ],
      "text/markdown": [
       "1. 31\n",
       "2. 4\n",
       "3. 15\n",
       "4. 92\n",
       "5. 65\n",
       "\n",
       "\n"
      ],
      "text/plain": [
       "[1] 31  4 15 92 65"
      ]
     },
     "metadata": {},
     "output_type": "display_data"
    },
    {
     "data": {
      "text/html": [
       "<ol class=list-inline>\n",
       "\t<li>3</li>\n",
       "\t<li>1</li>\n",
       "\t<li>2</li>\n",
       "\t<li>5</li>\n",
       "\t<li>4</li>\n",
       "</ol>\n"
      ],
      "text/latex": [
       "\\begin{enumerate*}\n",
       "\\item 3\n",
       "\\item 1\n",
       "\\item 2\n",
       "\\item 5\n",
       "\\item 4\n",
       "\\end{enumerate*}\n"
      ],
      "text/markdown": [
       "1. 3\n",
       "2. 1\n",
       "3. 2\n",
       "4. 5\n",
       "5. 4\n",
       "\n",
       "\n"
      ],
      "text/plain": [
       "[1] 3 1 2 5 4"
      ]
     },
     "metadata": {},
     "output_type": "display_data"
    }
   ],
   "source": [
    "library(dslabs)\n",
    "data(murders)\n",
    "sort(murders$total)\n",
    "\n",
    "x <- c(31, 4, 15, 92, 65)\n",
    "x\n",
    "sort(x)    # puts elements in order\n",
    "\n",
    "index <- order(x)    # returns index that will put x in order\n",
    "x[index]    # rearranging by this index puts elements in order\n",
    "order(x)\n",
    "\n",
    "murders$state[1:10]\n",
    "murders$abb[1:10]\n",
    "\n",
    "index <- order(murders$total)\n",
    "murders$abb[index]    # order abbreviations by total murders\n",
    "\n",
    "max(murders$total)    # highest number of total murders\n",
    "i_max <- which.max(murders$total)    # index with highest number of murders\n",
    "murders$state[i_max]    # state name with highest number of total murders\n",
    "\n",
    "x <- c(31, 4, 15, 92, 65)\n",
    "x\n",
    "rank(x)    # returns ranks (smallest to largest)"
   ]
  },
  {
   "cell_type": "code",
   "execution_count": 4,
   "metadata": {},
   "outputs": [
    {
     "data": {
      "text/html": [
       "<table>\n",
       "<thead><tr><th scope=col>name</th><th scope=col>distance</th><th scope=col>time</th><th scope=col>speed</th></tr></thead>\n",
       "<tbody>\n",
       "\t<tr><td>Mandi    </td><td>0.8      </td><td>0.1666667</td><td>4.8      </td></tr>\n",
       "\t<tr><td>Amy      </td><td>3.1      </td><td>0.5000000</td><td>6.2      </td></tr>\n",
       "\t<tr><td>Nicole   </td><td>2.8      </td><td>0.6666667</td><td>4.2      </td></tr>\n",
       "\t<tr><td>Olivia   </td><td>4.0      </td><td>0.8333333</td><td>4.8      </td></tr>\n",
       "</tbody>\n",
       "</table>\n"
      ],
      "text/latex": [
       "\\begin{tabular}{r|llll}\n",
       " name & distance & time & speed\\\\\n",
       "\\hline\n",
       "\t Mandi     & 0.8       & 0.1666667 & 4.8      \\\\\n",
       "\t Amy       & 3.1       & 0.5000000 & 6.2      \\\\\n",
       "\t Nicole    & 2.8       & 0.6666667 & 4.2      \\\\\n",
       "\t Olivia    & 4.0       & 0.8333333 & 4.8      \\\\\n",
       "\\end{tabular}\n"
      ],
      "text/markdown": [
       "\n",
       "| name | distance | time | speed |\n",
       "|---|---|---|---|\n",
       "| Mandi     | 0.8       | 0.1666667 | 4.8       |\n",
       "| Amy       | 3.1       | 0.5000000 | 6.2       |\n",
       "| Nicole    | 2.8       | 0.6666667 | 4.2       |\n",
       "| Olivia    | 4.0       | 0.8333333 | 4.8       |\n",
       "\n"
      ],
      "text/plain": [
       "  name   distance time      speed\n",
       "1 Mandi  0.8      0.1666667 4.8  \n",
       "2 Amy    3.1      0.5000000 6.2  \n",
       "3 Nicole 2.8      0.6666667 4.2  \n",
       "4 Olivia 4.0      0.8333333 4.8  "
      ]
     },
     "metadata": {},
     "output_type": "display_data"
    }
   ],
   "source": [
    "name <- c(\"Mandi\", \"Amy\", \"Nicole\", \"Olivia\")\n",
    "distance <- c(0.8, 3.1, 2.8, 4.0)\n",
    "time <- c(10, 30, 40, 50)\n",
    "time <- time / 60 \n",
    "dataframe <- data.frame(\"name\" = name, \"distance\" = distance, \"time\" = time, speed = distance/time)\n",
    "dataframe"
   ]
  },
  {
   "cell_type": "code",
   "execution_count": 5,
   "metadata": {
    "scrolled": true
   },
   "outputs": [
    {
     "data": {
      "text/html": [
       "Amy\n",
       "<details>\n",
       "\t<summary style=display:list-item;cursor:pointer>\n",
       "\t\t<strong>Levels</strong>:\n",
       "\t</summary>\n",
       "\t<ol class=list-inline>\n",
       "\t\t<li>'Amy'</li>\n",
       "\t\t<li>'Mandi'</li>\n",
       "\t\t<li>'Nicole'</li>\n",
       "\t\t<li>'Olivia'</li>\n",
       "\t</ol>\n",
       "</details>"
      ],
      "text/latex": [
       "Amy\n",
       "\\emph{Levels}: \\begin{enumerate*}\n",
       "\\item 'Amy'\n",
       "\\item 'Mandi'\n",
       "\\item 'Nicole'\n",
       "\\item 'Olivia'\n",
       "\\end{enumerate*}\n"
      ],
      "text/markdown": [
       "Amy\n",
       "**Levels**: 1. 'Amy'\n",
       "2. 'Mandi'\n",
       "3. 'Nicole'\n",
       "4. 'Olivia'\n",
       "\n",
       "\n"
      ],
      "text/plain": [
       "[1] Amy\n",
       "Levels: Amy Mandi Nicole Olivia"
      ]
     },
     "metadata": {},
     "output_type": "display_data"
    }
   ],
   "source": [
    "dataframe$name[which.max(dataframe$speed)]"
   ]
  },
  {
   "cell_type": "code",
   "execution_count": 3,
   "metadata": {},
   "outputs": [
    {
     "data": {
      "text/html": [
       "<ol class=list-inline>\n",
       "\t<li>'Hawaii'</li>\n",
       "\t<li>'Iowa'</li>\n",
       "\t<li>'New Hampshire'</li>\n",
       "\t<li>'North Dakota'</li>\n",
       "\t<li>'Vermont'</li>\n",
       "</ol>\n"
      ],
      "text/latex": [
       "\\begin{enumerate*}\n",
       "\\item 'Hawaii'\n",
       "\\item 'Iowa'\n",
       "\\item 'New Hampshire'\n",
       "\\item 'North Dakota'\n",
       "\\item 'Vermont'\n",
       "\\end{enumerate*}\n"
      ],
      "text/markdown": [
       "1. 'Hawaii'\n",
       "2. 'Iowa'\n",
       "3. 'New Hampshire'\n",
       "4. 'North Dakota'\n",
       "5. 'Vermont'\n",
       "\n",
       "\n"
      ],
      "text/plain": [
       "[1] \"Hawaii\"        \"Iowa\"          \"New Hampshire\" \"North Dakota\" \n",
       "[5] \"Vermont\"      "
      ]
     },
     "metadata": {},
     "output_type": "display_data"
    },
    {
     "data": {
      "text/html": [
       "5"
      ],
      "text/latex": [
       "5"
      ],
      "text/markdown": [
       "5"
      ],
      "text/plain": [
       "[1] 5"
      ]
     },
     "metadata": {},
     "output_type": "display_data"
    },
    {
     "data": {
      "text/html": [
       "<ol class=list-inline>\n",
       "\t<li>'Hawaii'</li>\n",
       "\t<li>'Idaho'</li>\n",
       "\t<li>'Oregon'</li>\n",
       "\t<li>'Utah'</li>\n",
       "\t<li>'Wyoming'</li>\n",
       "</ol>\n"
      ],
      "text/latex": [
       "\\begin{enumerate*}\n",
       "\\item 'Hawaii'\n",
       "\\item 'Idaho'\n",
       "\\item 'Oregon'\n",
       "\\item 'Utah'\n",
       "\\item 'Wyoming'\n",
       "\\end{enumerate*}\n"
      ],
      "text/markdown": [
       "1. 'Hawaii'\n",
       "2. 'Idaho'\n",
       "3. 'Oregon'\n",
       "4. 'Utah'\n",
       "5. 'Wyoming'\n",
       "\n",
       "\n"
      ],
      "text/plain": [
       "[1] \"Hawaii\"  \"Idaho\"   \"Oregon\"  \"Utah\"    \"Wyoming\""
      ]
     },
     "metadata": {},
     "output_type": "display_data"
    }
   ],
   "source": [
    "# defining murder rate as before\n",
    "murder_rate <- murders$total / murders$population * 100000\n",
    "# creating a logical vector that specifies if the murder rate in that state is less than or equal to 0.71\n",
    "index <- murder_rate <= 0.71\n",
    "# determining which states have murder rates less than or equal to 0.71\n",
    "murders$state[index]\n",
    "# calculating how many states have a murder rate less than or equal to 0.71\n",
    "sum(index)\n",
    "\n",
    "# creating the two logical vectors representing our conditions\n",
    "west <- murders$region == \"West\"\n",
    "safe <- murder_rate <= 1\n",
    "# defining an index and identifying states with both conditions true\n",
    "index <- safe & west\n",
    "murders$state[index]"
   ]
  },
  {
   "cell_type": "code",
   "execution_count": 4,
   "metadata": {},
   "outputs": [
    {
     "data": {
      "text/html": [
       "<ol class=list-inline>\n",
       "\t<li>2</li>\n",
       "\t<li>4</li>\n",
       "\t<li>5</li>\n",
       "</ol>\n"
      ],
      "text/latex": [
       "\\begin{enumerate*}\n",
       "\\item 2\n",
       "\\item 4\n",
       "\\item 5\n",
       "\\end{enumerate*}\n"
      ],
      "text/markdown": [
       "1. 2\n",
       "2. 4\n",
       "3. 5\n",
       "\n",
       "\n"
      ],
      "text/plain": [
       "[1] 2 4 5"
      ]
     },
     "metadata": {},
     "output_type": "display_data"
    },
    {
     "data": {
      "text/html": [
       "22"
      ],
      "text/latex": [
       "22"
      ],
      "text/markdown": [
       "22"
      ],
      "text/plain": [
       "[1] 22"
      ]
     },
     "metadata": {},
     "output_type": "display_data"
    },
    {
     "data": {
      "text/html": [
       "1.80217907886962"
      ],
      "text/latex": [
       "1.80217907886962"
      ],
      "text/markdown": [
       "1.80217907886962"
      ],
      "text/plain": [
       "[1] 1.802179"
      ]
     },
     "metadata": {},
     "output_type": "display_data"
    },
    {
     "data": {
      "text/html": [
       "<ol class=list-inline>\n",
       "\t<li>33</li>\n",
       "\t<li>10</li>\n",
       "\t<li>44</li>\n",
       "</ol>\n"
      ],
      "text/latex": [
       "\\begin{enumerate*}\n",
       "\\item 33\n",
       "\\item 10\n",
       "\\item 44\n",
       "\\end{enumerate*}\n"
      ],
      "text/markdown": [
       "1. 33\n",
       "2. 10\n",
       "3. 44\n",
       "\n",
       "\n"
      ],
      "text/plain": [
       "[1] 33 10 44"
      ]
     },
     "metadata": {},
     "output_type": "display_data"
    },
    {
     "data": {
      "text/html": [
       "<ol class=list-inline>\n",
       "\t<li>'New York'</li>\n",
       "\t<li>'Florida'</li>\n",
       "\t<li>'Texas'</li>\n",
       "</ol>\n"
      ],
      "text/latex": [
       "\\begin{enumerate*}\n",
       "\\item 'New York'\n",
       "\\item 'Florida'\n",
       "\\item 'Texas'\n",
       "\\end{enumerate*}\n"
      ],
      "text/markdown": [
       "1. 'New York'\n",
       "2. 'Florida'\n",
       "3. 'Texas'\n",
       "\n",
       "\n"
      ],
      "text/plain": [
       "[1] \"New York\" \"Florida\"  \"Texas\"   "
      ]
     },
     "metadata": {},
     "output_type": "display_data"
    },
    {
     "data": {
      "text/html": [
       "<ol class=list-inline>\n",
       "\t<li>2.66795994778023</li>\n",
       "\t<li>3.39806883024604</li>\n",
       "\t<li>3.20136027189849</li>\n",
       "</ol>\n"
      ],
      "text/latex": [
       "\\begin{enumerate*}\n",
       "\\item 2.66795994778023\n",
       "\\item 3.39806883024604\n",
       "\\item 3.20136027189849\n",
       "\\end{enumerate*}\n"
      ],
      "text/markdown": [
       "1. 2.66795994778023\n",
       "2. 3.39806883024604\n",
       "3. 3.20136027189849\n",
       "\n",
       "\n"
      ],
      "text/plain": [
       "[1] 2.667960 3.398069 3.201360"
      ]
     },
     "metadata": {},
     "output_type": "display_data"
    },
    {
     "data": {
      "text/html": [
       "<ol class=list-inline>\n",
       "\t<li>TRUE</li>\n",
       "\t<li>TRUE</li>\n",
       "\t<li>FALSE</li>\n",
       "</ol>\n"
      ],
      "text/latex": [
       "\\begin{enumerate*}\n",
       "\\item TRUE\n",
       "\\item TRUE\n",
       "\\item FALSE\n",
       "\\end{enumerate*}\n"
      ],
      "text/markdown": [
       "1. TRUE\n",
       "2. TRUE\n",
       "3. FALSE\n",
       "\n",
       "\n"
      ],
      "text/plain": [
       "[1]  TRUE  TRUE FALSE"
      ]
     },
     "metadata": {},
     "output_type": "display_data"
    },
    {
     "data": {
      "text/html": [
       "<ol class=list-inline>\n",
       "\t<li>FALSE</li>\n",
       "\t<li>FALSE</li>\n",
       "\t<li>TRUE</li>\n",
       "</ol>\n"
      ],
      "text/latex": [
       "\\begin{enumerate*}\n",
       "\\item FALSE\n",
       "\\item FALSE\n",
       "\\item TRUE\n",
       "\\end{enumerate*}\n"
      ],
      "text/markdown": [
       "1. FALSE\n",
       "2. FALSE\n",
       "3. TRUE\n",
       "\n",
       "\n"
      ],
      "text/plain": [
       "[1] FALSE FALSE  TRUE"
      ]
     },
     "metadata": {},
     "output_type": "display_data"
    }
   ],
   "source": [
    "x <- c(FALSE, TRUE, FALSE, TRUE, TRUE, FALSE)\n",
    "which(x)    # returns indices that are TRUE\n",
    "\n",
    "# to determine the murder rate in Massachusetts we may do the following\n",
    "index <- which(murders$state == \"Massachusetts\")\n",
    "index\n",
    "murder_rate[index]\n",
    "\n",
    "# to obtain the indices and subsequent murder rates of New York, Florida, Texas, we do:\n",
    "index <- match(c(\"New York\", \"Florida\", \"Texas\"), murders$state)\n",
    "index\n",
    "murders$state[index]\n",
    "murder_rate[index]\n",
    "\n",
    "x <- c(\"a\", \"b\", \"c\", \"d\", \"e\")\n",
    "y <- c(\"a\", \"d\", \"f\")\n",
    "y %in% x\n",
    "\n",
    "# to see if Boston, Dakota, and Washington are states\n",
    "c(\"Boston\", \"Dakota\", \"Washington\") %in% murders$state"
   ]
  },
  {
   "cell_type": "code",
   "execution_count": null,
   "metadata": {},
   "outputs": [],
   "source": []
  }
 ],
 "metadata": {
  "kernelspec": {
   "display_name": "R",
   "language": "R",
   "name": "ir"
  },
  "language_info": {
   "codemirror_mode": "r",
   "file_extension": ".r",
   "mimetype": "text/x-r-source",
   "name": "R",
   "pygments_lexer": "r",
   "version": "3.6.1"
  },
  "toc": {
   "base_numbering": 1,
   "nav_menu": {},
   "number_sections": true,
   "sideBar": true,
   "skip_h1_title": false,
   "title_cell": "Table of Contents",
   "title_sidebar": "Contents",
   "toc_cell": false,
   "toc_position": {},
   "toc_section_display": true,
   "toc_window_display": false
  },
  "varInspector": {
   "cols": {
    "lenName": 16,
    "lenType": 16,
    "lenVar": 40
   },
   "kernels_config": {
    "python": {
     "delete_cmd_postfix": "",
     "delete_cmd_prefix": "del ",
     "library": "var_list.py",
     "varRefreshCmd": "print(var_dic_list())"
    },
    "r": {
     "delete_cmd_postfix": ") ",
     "delete_cmd_prefix": "rm(",
     "library": "var_list.r",
     "varRefreshCmd": "cat(var_dic_list()) "
    }
   },
   "types_to_exclude": [
    "module",
    "function",
    "builtin_function_or_method",
    "instance",
    "_Feature"
   ],
   "window_display": false
  }
 },
 "nbformat": 4,
 "nbformat_minor": 4
}
