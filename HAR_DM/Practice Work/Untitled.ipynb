{
 "cells": [
  {
   "cell_type": "code",
   "execution_count": 1,
   "metadata": {},
   "outputs": [],
   "source": [
    "library(dslabs)\n",
    "data(heights)\n",
    "options(digits = 3)   # report 3 significant digits for all answers"
   ]
  },
  {
   "cell_type": "code",
   "execution_count": 3,
   "metadata": {},
   "outputs": [
    {
     "name": "stdout",
     "output_type": "stream",
     "text": [
      "'data.frame':\t1050 obs. of  2 variables:\n",
      " $ sex   : Factor w/ 2 levels \"Female\",\"Male\": 2 2 2 2 2 1 1 1 1 2 ...\n",
      " $ height: num  75 70 68 74 61 65 66 62 66 67 ...\n"
     ]
    }
   ],
   "source": [
    "str(heights)"
   ]
  },
  {
   "cell_type": "code",
   "execution_count": 14,
   "metadata": {},
   "outputs": [
    {
     "data": {
      "text/html": [
       "532"
      ],
      "text/latex": [
       "532"
      ],
      "text/markdown": [
       "532"
      ],
      "text/plain": [
       "[1] 532"
      ]
     },
     "metadata": {},
     "output_type": "display_data"
    },
    {
     "data": {
      "text/html": [
       "532"
      ],
      "text/latex": [
       "532"
      ],
      "text/markdown": [
       "532"
      ],
      "text/plain": [
       "[1] 532"
      ]
     },
     "metadata": {},
     "output_type": "display_data"
    },
    {
     "data": {
      "text/html": [
       "<ol class=list-inline>\n",
       "\t<li>75</li>\n",
       "\t<li>70</li>\n",
       "\t<li>74</li>\n",
       "\t<li>72</li>\n",
       "\t<li>72</li>\n",
       "\t<li>69</li>\n",
       "</ol>\n"
      ],
      "text/latex": [
       "\\begin{enumerate*}\n",
       "\\item 75\n",
       "\\item 70\n",
       "\\item 74\n",
       "\\item 72\n",
       "\\item 72\n",
       "\\item 69\n",
       "\\end{enumerate*}\n"
      ],
      "text/markdown": [
       "1. 75\n",
       "2. 70\n",
       "3. 74\n",
       "4. 72\n",
       "5. 72\n",
       "6. 69\n",
       "\n",
       "\n"
      ],
      "text/plain": [
       "[1] 75 70 74 72 72 69"
      ]
     },
     "metadata": {},
     "output_type": "display_data"
    }
   ],
   "source": [
    "avg <- mean(heights$height)\n",
    "ind <- which(heights$height > avg)\n",
    "length(ind)\n",
    "sum(heights$height > avg)\n",
    "head(heights$height[ind])"
   ]
  },
  {
   "cell_type": "code",
   "execution_count": 16,
   "metadata": {},
   "outputs": [
    {
     "data": {
      "text/html": [
       "31"
      ],
      "text/latex": [
       "31"
      ],
      "text/markdown": [
       "31"
      ],
      "text/plain": [
       "[1] 31"
      ]
     },
     "metadata": {},
     "output_type": "display_data"
    }
   ],
   "source": [
    "sum(heights$height > avg & heights$sex == \"Female\")"
   ]
  },
  {
   "cell_type": "code",
   "execution_count": 17,
   "metadata": {},
   "outputs": [
    {
     "data": {
      "text/html": [
       "0.226666666666667"
      ],
      "text/latex": [
       "0.226666666666667"
      ],
      "text/markdown": [
       "0.226666666666667"
      ],
      "text/plain": [
       "[1] 0.227"
      ]
     },
     "metadata": {},
     "output_type": "display_data"
    }
   ],
   "source": [
    "mean(heights$sex == \"Female\")"
   ]
  },
  {
   "cell_type": "code",
   "execution_count": 20,
   "metadata": {},
   "outputs": [
    {
     "data": {
      "text/html": [
       "50"
      ],
      "text/latex": [
       "50"
      ],
      "text/markdown": [
       "50"
      ],
      "text/plain": [
       "[1] 50"
      ]
     },
     "metadata": {},
     "output_type": "display_data"
    }
   ],
   "source": [
    "min(heights$height)"
   ]
  },
  {
   "cell_type": "code",
   "execution_count": 18,
   "metadata": {},
   "outputs": [
    {
     "data": {
      "text/html": [
       "Male\n",
       "<details>\n",
       "\t<summary style=display:list-item;cursor:pointer>\n",
       "\t\t<strong>Levels</strong>:\n",
       "\t</summary>\n",
       "\t<ol class=list-inline>\n",
       "\t\t<li>'Female'</li>\n",
       "\t\t<li>'Male'</li>\n",
       "\t</ol>\n",
       "</details>"
      ],
      "text/latex": [
       "Male\n",
       "\\emph{Levels}: \\begin{enumerate*}\n",
       "\\item 'Female'\n",
       "\\item 'Male'\n",
       "\\end{enumerate*}\n"
      ],
      "text/markdown": [
       "Male\n",
       "**Levels**: 1. 'Female'\n",
       "2. 'Male'\n",
       "\n",
       "\n"
      ],
      "text/plain": [
       "[1] Male\n",
       "Levels: Female Male"
      ]
     },
     "metadata": {},
     "output_type": "display_data"
    }
   ],
   "source": [
    "heights$sex[which.min(heights$height)]"
   ]
  },
  {
   "cell_type": "markdown",
   "metadata": {},
   "source": [
    "### Use the match() *function* to determine the index of the first individual with the minimum height."
   ]
  },
  {
   "cell_type": "code",
   "execution_count": 21,
   "metadata": {},
   "outputs": [
    {
     "data": {
      "text/html": [
       "1032"
      ],
      "text/latex": [
       "1032"
      ],
      "text/markdown": [
       "1032"
      ],
      "text/plain": [
       "[1] 1032"
      ]
     },
     "metadata": {},
     "output_type": "display_data"
    }
   ],
   "source": [
    "match(min(heights$height), heights$height)"
   ]
  },
  {
   "cell_type": "code",
   "execution_count": 22,
   "metadata": {},
   "outputs": [
    {
     "data": {
      "text/html": [
       "82.6771653543307"
      ],
      "text/latex": [
       "82.6771653543307"
      ],
      "text/markdown": [
       "82.6771653543307"
      ],
      "text/plain": [
       "[1] 82.7"
      ]
     },
     "metadata": {},
     "output_type": "display_data"
    }
   ],
   "source": [
    "max(heights$height)"
   ]
  },
  {
   "cell_type": "code",
   "execution_count": 23,
   "metadata": {},
   "outputs": [
    {
     "data": {
      "text/html": [
       "1017"
      ],
      "text/latex": [
       "1017"
      ],
      "text/markdown": [
       "1017"
      ],
      "text/plain": [
       "[1] 1017"
      ]
     },
     "metadata": {},
     "output_type": "display_data"
    }
   ],
   "source": [
    "match(max(heights$height), heights$height)"
   ]
  },
  {
   "cell_type": "code",
   "execution_count": 24,
   "metadata": {},
   "outputs": [
    {
     "data": {
      "text/html": [
       "82.6771653543307"
      ],
      "text/latex": [
       "82.6771653543307"
      ],
      "text/markdown": [
       "82.6771653543307"
      ],
      "text/plain": [
       "[1] 82.7"
      ]
     },
     "metadata": {},
     "output_type": "display_data"
    }
   ],
   "source": [
    "heights$height[1017]"
   ]
  },
  {
   "cell_type": "markdown",
   "metadata": {},
   "source": [
    "### Write code to create a vector x that includes the integers between the minimum and maximum heights."
   ]
  },
  {
   "cell_type": "code",
   "execution_count": 25,
   "metadata": {},
   "outputs": [],
   "source": [
    "x <- 50:82"
   ]
  },
  {
   "cell_type": "code",
   "execution_count": 26,
   "metadata": {},
   "outputs": [
    {
     "data": {
      "text/html": [
       "3"
      ],
      "text/latex": [
       "3"
      ],
      "text/markdown": [
       "3"
      ],
      "text/plain": [
       "[1] 3"
      ]
     },
     "metadata": {},
     "output_type": "display_data"
    }
   ],
   "source": [
    "# How many of the integers in x are NOT heights in the dataset?\n",
    "sum(!(x %in% heights$height))"
   ]
  },
  {
   "cell_type": "code",
   "execution_count": 27,
   "metadata": {},
   "outputs": [
    {
     "name": "stderr",
     "output_type": "stream",
     "text": [
      "\n",
      "Attaching package: ‘dplyr’\n",
      "\n",
      "The following objects are masked from ‘package:stats’:\n",
      "\n",
      "    filter, lag\n",
      "\n",
      "The following objects are masked from ‘package:base’:\n",
      "\n",
      "    intersect, setdiff, setequal, union\n",
      "\n"
     ]
    },
    {
     "data": {
      "text/html": [
       "162.56"
      ],
      "text/latex": [
       "162.56"
      ],
      "text/markdown": [
       "162.56"
      ],
      "text/plain": [
       "[1] 163"
      ]
     },
     "metadata": {},
     "output_type": "display_data"
    }
   ],
   "source": [
    "library(dplyr)\n",
    "heights2 <- mutate(heights, ht_cm = height * 2.54)\n",
    "heights2$ht_cm[18]"
   ]
  },
  {
   "cell_type": "code",
   "execution_count": 28,
   "metadata": {},
   "outputs": [
    {
     "data": {
      "text/html": [
       "173.540453828202"
      ],
      "text/latex": [
       "173.540453828202"
      ],
      "text/markdown": [
       "173.540453828202"
      ],
      "text/plain": [
       "[1] 174"
      ]
     },
     "metadata": {},
     "output_type": "display_data"
    }
   ],
   "source": [
    "mean(heights2$ht_cm)"
   ]
  },
  {
   "cell_type": "code",
   "execution_count": 30,
   "metadata": {},
   "outputs": [],
   "source": [
    "females <- filter(heights2, sex == \"Female\")"
   ]
  },
  {
   "cell_type": "code",
   "execution_count": 32,
   "metadata": {},
   "outputs": [
    {
     "name": "stdout",
     "output_type": "stream",
     "text": [
      "'data.frame':\t238 obs. of  3 variables:\n",
      " $ sex   : Factor w/ 2 levels \"Female\",\"Male\": 1 1 1 1 1 1 1 1 1 1 ...\n",
      " $ height: num  65 66 62 66 64 60 64 67 66 67 ...\n",
      " $ ht_cm : num  165 168 157 168 163 ...\n"
     ]
    }
   ],
   "source": [
    "str(females)"
   ]
  },
  {
   "cell_type": "code",
   "execution_count": 31,
   "metadata": {},
   "outputs": [
    {
     "data": {
      "text/html": [
       "164.946137596639"
      ],
      "text/latex": [
       "164.946137596639"
      ],
      "text/markdown": [
       "164.946137596639"
      ],
      "text/plain": [
       "[1] 165"
      ]
     },
     "metadata": {},
     "output_type": "display_data"
    }
   ],
   "source": [
    "mean(females$ht_cm)"
   ]
  },
  {
   "cell_type": "code",
   "execution_count": 33,
   "metadata": {},
   "outputs": [
    {
     "data": {
      "text/html": [
       "<table>\n",
       "<thead><tr><th scope=col>region</th><th scope=col>area</th><th scope=col>palmitic</th><th scope=col>palmitoleic</th><th scope=col>stearic</th><th scope=col>oleic</th><th scope=col>linoleic</th><th scope=col>linolenic</th><th scope=col>arachidic</th><th scope=col>eicosenoic</th></tr></thead>\n",
       "<tbody>\n",
       "\t<tr><td>Southern Italy</td><td>North-Apulia  </td><td>10.75         </td><td>0.75          </td><td>2.26          </td><td>78.2          </td><td>6.72          </td><td>0.36          </td><td>0.60          </td><td>0.29          </td></tr>\n",
       "\t<tr><td>Southern Italy</td><td>North-Apulia  </td><td>10.88         </td><td>0.73          </td><td>2.24          </td><td>77.1          </td><td>7.81          </td><td>0.31          </td><td>0.61          </td><td>0.29          </td></tr>\n",
       "\t<tr><td>Southern Italy</td><td>North-Apulia  </td><td> 9.11         </td><td>0.54          </td><td>2.46          </td><td>81.1          </td><td>5.49          </td><td>0.31          </td><td>0.63          </td><td>0.29          </td></tr>\n",
       "\t<tr><td>Southern Italy</td><td>North-Apulia  </td><td> 9.66         </td><td>0.57          </td><td>2.40          </td><td>79.5          </td><td>6.19          </td><td>0.50          </td><td>0.78          </td><td>0.35          </td></tr>\n",
       "\t<tr><td>Southern Italy</td><td>North-Apulia  </td><td>10.51         </td><td>0.67          </td><td>2.59          </td><td>77.7          </td><td>6.72          </td><td>0.50          </td><td>0.80          </td><td>0.46          </td></tr>\n",
       "\t<tr><td>Southern Italy</td><td>North-Apulia  </td><td> 9.11         </td><td>0.49          </td><td>2.68          </td><td>79.2          </td><td>6.78          </td><td>0.51          </td><td>0.70          </td><td>0.44          </td></tr>\n",
       "</tbody>\n",
       "</table>\n"
      ],
      "text/latex": [
       "\\begin{tabular}{r|llllllllll}\n",
       " region & area & palmitic & palmitoleic & stearic & oleic & linoleic & linolenic & arachidic & eicosenoic\\\\\n",
       "\\hline\n",
       "\t Southern Italy & North-Apulia   & 10.75          & 0.75           & 2.26           & 78.2           & 6.72           & 0.36           & 0.60           & 0.29          \\\\\n",
       "\t Southern Italy & North-Apulia   & 10.88          & 0.73           & 2.24           & 77.1           & 7.81           & 0.31           & 0.61           & 0.29          \\\\\n",
       "\t Southern Italy & North-Apulia   &  9.11          & 0.54           & 2.46           & 81.1           & 5.49           & 0.31           & 0.63           & 0.29          \\\\\n",
       "\t Southern Italy & North-Apulia   &  9.66          & 0.57           & 2.40           & 79.5           & 6.19           & 0.50           & 0.78           & 0.35          \\\\\n",
       "\t Southern Italy & North-Apulia   & 10.51          & 0.67           & 2.59           & 77.7           & 6.72           & 0.50           & 0.80           & 0.46          \\\\\n",
       "\t Southern Italy & North-Apulia   &  9.11          & 0.49           & 2.68           & 79.2           & 6.78           & 0.51           & 0.70           & 0.44          \\\\\n",
       "\\end{tabular}\n"
      ],
      "text/markdown": [
       "\n",
       "| region | area | palmitic | palmitoleic | stearic | oleic | linoleic | linolenic | arachidic | eicosenoic |\n",
       "|---|---|---|---|---|---|---|---|---|---|\n",
       "| Southern Italy | North-Apulia   | 10.75          | 0.75           | 2.26           | 78.2           | 6.72           | 0.36           | 0.60           | 0.29           |\n",
       "| Southern Italy | North-Apulia   | 10.88          | 0.73           | 2.24           | 77.1           | 7.81           | 0.31           | 0.61           | 0.29           |\n",
       "| Southern Italy | North-Apulia   |  9.11          | 0.54           | 2.46           | 81.1           | 5.49           | 0.31           | 0.63           | 0.29           |\n",
       "| Southern Italy | North-Apulia   |  9.66          | 0.57           | 2.40           | 79.5           | 6.19           | 0.50           | 0.78           | 0.35           |\n",
       "| Southern Italy | North-Apulia   | 10.51          | 0.67           | 2.59           | 77.7           | 6.72           | 0.50           | 0.80           | 0.46           |\n",
       "| Southern Italy | North-Apulia   |  9.11          | 0.49           | 2.68           | 79.2           | 6.78           | 0.51           | 0.70           | 0.44           |\n",
       "\n"
      ],
      "text/plain": [
       "  region         area         palmitic palmitoleic stearic oleic linoleic\n",
       "1 Southern Italy North-Apulia 10.75    0.75        2.26    78.2  6.72    \n",
       "2 Southern Italy North-Apulia 10.88    0.73        2.24    77.1  7.81    \n",
       "3 Southern Italy North-Apulia  9.11    0.54        2.46    81.1  5.49    \n",
       "4 Southern Italy North-Apulia  9.66    0.57        2.40    79.5  6.19    \n",
       "5 Southern Italy North-Apulia 10.51    0.67        2.59    77.7  6.72    \n",
       "6 Southern Italy North-Apulia  9.11    0.49        2.68    79.2  6.78    \n",
       "  linolenic arachidic eicosenoic\n",
       "1 0.36      0.60      0.29      \n",
       "2 0.31      0.61      0.29      \n",
       "3 0.31      0.63      0.29      \n",
       "4 0.50      0.78      0.35      \n",
       "5 0.50      0.80      0.46      \n",
       "6 0.51      0.70      0.44      "
      ]
     },
     "metadata": {},
     "output_type": "display_data"
    }
   ],
   "source": [
    "library(dslabs)\n",
    "data(olive)\n",
    "head(olive)"
   ]
  },
  {
   "cell_type": "code",
   "execution_count": 36,
   "metadata": {},
   "outputs": [
    {
     "data": {
      "image/png": "[encoded data removed]",
      "text/plain": [
       "plot without title"
      ]
     },
     "metadata": {},
     "output_type": "display_data"
    }
   ],
   "source": [
    "plot((olive$palmitic / sum(select(olive,palmitic,palmitoleic,stearic,oleic,linoleic,linolenic,arachidic,eicosenoic))) * 100, olive$palmitoleic)"
   ]
  },
  {
   "cell_type": "code",
   "execution_count": 37,
   "metadata": {},
   "outputs": [
    {
     "data": {
      "image/png": "[encoded data removed]",
      "text/plain": [
       "plot without title"
      ]
     },
     "metadata": {},
     "output_type": "display_data"
    }
   ],
   "source": [
    "plot(olive$palmitic, olive$palmitoleic)"
   ]
  },
  {
   "cell_type": "code",
   "execution_count": 38,
   "metadata": {},
   "outputs": [
    {
     "data": {
      "image/png": "[encoded data removed]",
      "text/plain": [
       "Plot with title “Histogram of olive$eicosenoic”"
      ]
     },
     "metadata": {},
     "output_type": "display_data"
    }
   ],
   "source": [
    "hist(olive$eicosenoic)"
   ]
  },
  {
   "cell_type": "code",
   "execution_count": 39,
   "metadata": {},
   "outputs": [
    {
     "data": {
      "image/png": "[encoded data removed]",
      "text/plain": [
       "plot without title"
      ]
     },
     "metadata": {},
     "output_type": "display_data"
    }
   ],
   "source": [
    "boxplot(data = olive, palmitic~region)"
   ]
  },
  {
   "cell_type": "code",
   "execution_count": 4,
   "metadata": {},
   "outputs": [
    {
     "data": {
      "image/png": "[encoded data removed]",
      "text/plain": [
       "plot without title"
      ]
     },
     "metadata": {},
     "output_type": "display_data"
    }
   ],
   "source": [
    "boxplot(data = heights, height~sex)"
   ]
  },
  {
   "cell_type": "code",
   "execution_count": 6,
   "metadata": {},
   "outputs": [
    {
     "data": {
      "image/png": "[encoded data removed]",
      "text/plain": [
       "plot without title"
      ]
     },
     "metadata": {},
     "output_type": "display_data"
    }
   ],
   "source": [
    "boxplot(summary(heights$height), xlab = \"Height\", ylab = \"Number\")"
   ]
  },
  {
   "cell_type": "code",
   "execution_count": 7,
   "metadata": {},
   "outputs": [
    {
     "data": {
      "text/plain": [
       "   Min. 1st Qu.  Median    Mean 3rd Qu.    Max. \n",
       "   50.0    66.0    68.5    68.3    71.0    82.7 "
      ]
     },
     "metadata": {},
     "output_type": "display_data"
    }
   ],
   "source": [
    "summary(heights$height)"
   ]
  },
  {
   "cell_type": "code",
   "execution_count": 15,
   "metadata": {},
   "outputs": [
    {
     "data": {
      "text/html": [
       "<dl class=dl-horizontal>\n",
       "\t<dt>1%</dt>\n",
       "\t\t<dd>59</dd>\n",
       "\t<dt>2%</dt>\n",
       "\t\t<dd>60</dd>\n",
       "\t<dt>3%</dt>\n",
       "\t\t<dd>60</dd>\n",
       "\t<dt>4%</dt>\n",
       "\t\t<dd>61</dd>\n",
       "\t<dt>5%</dt>\n",
       "\t\t<dd>62</dd>\n",
       "\t<dt>6%</dt>\n",
       "\t\t<dd>62</dd>\n",
       "\t<dt>7%</dt>\n",
       "\t\t<dd>62.2886929133858</dd>\n",
       "\t<dt>8%</dt>\n",
       "\t\t<dd>63</dd>\n",
       "\t<dt>9%</dt>\n",
       "\t\t<dd>63</dd>\n",
       "\t<dt>10%</dt>\n",
       "\t\t<dd>63</dd>\n",
       "\t<dt>11%</dt>\n",
       "\t\t<dd>63.7795275590551</dd>\n",
       "\t<dt>12%</dt>\n",
       "\t\t<dd>64</dd>\n",
       "\t<dt>13%</dt>\n",
       "\t\t<dd>64</dd>\n",
       "\t<dt>14%</dt>\n",
       "\t\t<dd>64</dd>\n",
       "\t<dt>15%</dt>\n",
       "\t\t<dd>64.1732099212598</dd>\n",
       "\t<dt>16%</dt>\n",
       "\t\t<dd>64.96</dd>\n",
       "\t<dt>17%</dt>\n",
       "\t\t<dd>65</dd>\n",
       "\t<dt>18%</dt>\n",
       "\t\t<dd>65</dd>\n",
       "\t<dt>19%</dt>\n",
       "\t\t<dd>65</dd>\n",
       "\t<dt>20%</dt>\n",
       "\t\t<dd>65</dd>\n",
       "\t<dt>21%</dt>\n",
       "\t\t<dd>65</dd>\n",
       "\t<dt>22%</dt>\n",
       "\t\t<dd>65.9445669291339</dd>\n",
       "\t<dt>23%</dt>\n",
       "\t\t<dd>66</dd>\n",
       "\t<dt>24%</dt>\n",
       "\t\t<dd>66</dd>\n",
       "\t<dt>25%</dt>\n",
       "\t\t<dd>66</dd>\n",
       "\t<dt>26%</dt>\n",
       "\t\t<dd>66</dd>\n",
       "\t<dt>27%</dt>\n",
       "\t\t<dd>66</dd>\n",
       "\t<dt>28%</dt>\n",
       "\t\t<dd>66</dd>\n",
       "\t<dt>29%</dt>\n",
       "\t\t<dd>66.5</dd>\n",
       "\t<dt>30%</dt>\n",
       "\t\t<dd>66.92</dd>\n",
       "\t<dt>31%</dt>\n",
       "\t\t<dd>66.9291338582677</dd>\n",
       "\t<dt>32%</dt>\n",
       "\t\t<dd>67</dd>\n",
       "\t<dt>33%</dt>\n",
       "\t\t<dd>67</dd>\n",
       "\t<dt>34%</dt>\n",
       "\t\t<dd>67</dd>\n",
       "\t<dt>35%</dt>\n",
       "\t\t<dd>67</dd>\n",
       "\t<dt>36%</dt>\n",
       "\t\t<dd>67</dd>\n",
       "\t<dt>37%</dt>\n",
       "\t\t<dd>67</dd>\n",
       "\t<dt>38%</dt>\n",
       "\t\t<dd>67</dd>\n",
       "\t<dt>39%</dt>\n",
       "\t\t<dd>67.322</dd>\n",
       "\t<dt>40%</dt>\n",
       "\t\t<dd>67.7165</dd>\n",
       "\t<dt>41%</dt>\n",
       "\t\t<dd>67.7254</dd>\n",
       "\t<dt>42%</dt>\n",
       "\t\t<dd>68</dd>\n",
       "\t<dt>43%</dt>\n",
       "\t\t<dd>68</dd>\n",
       "\t<dt>44%</dt>\n",
       "\t\t<dd>68</dd>\n",
       "\t<dt>45%</dt>\n",
       "\t\t<dd>68</dd>\n",
       "\t<dt>46%</dt>\n",
       "\t\t<dd>68</dd>\n",
       "\t<dt>47%</dt>\n",
       "\t\t<dd>68</dd>\n",
       "\t<dt>48%</dt>\n",
       "\t\t<dd>68</dd>\n",
       "\t<dt>49%</dt>\n",
       "\t\t<dd>68.1102362204724</dd>\n",
       "\t<dt>50%</dt>\n",
       "\t\t<dd>68.5</dd>\n",
       "\t<dt>51%</dt>\n",
       "\t\t<dd>68.89</dd>\n",
       "\t<dt>52%</dt>\n",
       "\t\t<dd>68.8976377975433</dd>\n",
       "\t<dt>53%</dt>\n",
       "\t\t<dd>69</dd>\n",
       "\t<dt>54%</dt>\n",
       "\t\t<dd>69</dd>\n",
       "\t<dt>55%</dt>\n",
       "\t\t<dd>69</dd>\n",
       "\t<dt>56%</dt>\n",
       "\t\t<dd>69</dd>\n",
       "\t<dt>57%</dt>\n",
       "\t\t<dd>69</dd>\n",
       "\t<dt>58%</dt>\n",
       "\t\t<dd>69</dd>\n",
       "\t<dt>59%</dt>\n",
       "\t\t<dd>69</dd>\n",
       "\t<dt>60%</dt>\n",
       "\t\t<dd>69</dd>\n",
       "\t<dt>61%</dt>\n",
       "\t\t<dd>69.6</dd>\n",
       "\t<dt>62%</dt>\n",
       "\t\t<dd>70</dd>\n",
       "\t<dt>63%</dt>\n",
       "\t\t<dd>70</dd>\n",
       "\t<dt>64%</dt>\n",
       "\t\t<dd>70</dd>\n",
       "\t<dt>65%</dt>\n",
       "\t\t<dd>70</dd>\n",
       "\t<dt>66%</dt>\n",
       "\t\t<dd>70</dd>\n",
       "\t<dt>67%</dt>\n",
       "\t\t<dd>70</dd>\n",
       "\t<dt>68%</dt>\n",
       "\t\t<dd>70</dd>\n",
       "\t<dt>69%</dt>\n",
       "\t\t<dd>70</dd>\n",
       "\t<dt>70%</dt>\n",
       "\t\t<dd>70.0787401574803</dd>\n",
       "\t<dt>71%</dt>\n",
       "\t\t<dd>70.737</dd>\n",
       "\t<dt>72%</dt>\n",
       "\t\t<dd>70.8661417322835</dd>\n",
       "\t<dt>73%</dt>\n",
       "\t\t<dd>71</dd>\n",
       "\t<dt>74%</dt>\n",
       "\t\t<dd>71</dd>\n",
       "\t<dt>75%</dt>\n",
       "\t\t<dd>71</dd>\n",
       "\t<dt>76%</dt>\n",
       "\t\t<dd>71</dd>\n",
       "\t<dt>77%</dt>\n",
       "\t\t<dd>71</dd>\n",
       "\t<dt>78%</dt>\n",
       "\t\t<dd>71.11</dd>\n",
       "\t<dt>79%</dt>\n",
       "\t\t<dd>72</dd>\n",
       "\t<dt>80%</dt>\n",
       "\t\t<dd>72</dd>\n",
       "\t<dt>81%</dt>\n",
       "\t\t<dd>72</dd>\n",
       "\t<dt>82%</dt>\n",
       "\t\t<dd>72</dd>\n",
       "\t<dt>83%</dt>\n",
       "\t\t<dd>72</dd>\n",
       "\t<dt>84%</dt>\n",
       "\t\t<dd>72</dd>\n",
       "\t<dt>85%</dt>\n",
       "\t\t<dd>72</dd>\n",
       "\t<dt>86%</dt>\n",
       "\t\t<dd>72</dd>\n",
       "\t<dt>87%</dt>\n",
       "\t\t<dd>72</dd>\n",
       "\t<dt>88%</dt>\n",
       "\t\t<dd>72.4401133858268</dd>\n",
       "\t<dt>89%</dt>\n",
       "\t\t<dd>72.8346456692913</dd>\n",
       "\t<dt>90%</dt>\n",
       "\t\t<dd>73</dd>\n",
       "\t<dt>91%</dt>\n",
       "\t\t<dd>73</dd>\n",
       "\t<dt>92%</dt>\n",
       "\t\t<dd>74</dd>\n",
       "\t<dt>93%</dt>\n",
       "\t\t<dd>74</dd>\n",
       "\t<dt>94%</dt>\n",
       "\t\t<dd>74</dd>\n",
       "\t<dt>95%</dt>\n",
       "\t\t<dd>74.8031496062992</dd>\n",
       "\t<dt>96%</dt>\n",
       "\t\t<dd>75</dd>\n",
       "\t<dt>97%</dt>\n",
       "\t\t<dd>75</dd>\n",
       "\t<dt>98%</dt>\n",
       "\t\t<dd>76</dd>\n",
       "\t<dt>99%</dt>\n",
       "\t\t<dd>78</dd>\n",
       "</dl>\n"
      ],
      "text/latex": [
       "\\begin{description*}\n",
       "\\item[1\\textbackslash{}\\%] 59\n",
       "\\item[2\\textbackslash{}\\%] 60\n",
       "\\item[3\\textbackslash{}\\%] 60\n",
       "\\item[4\\textbackslash{}\\%] 61\n",
       "\\item[5\\textbackslash{}\\%] 62\n",
       "\\item[6\\textbackslash{}\\%] 62\n",
       "\\item[7\\textbackslash{}\\%] 62.2886929133858\n",
       "\\item[8\\textbackslash{}\\%] 63\n",
       "\\item[9\\textbackslash{}\\%] 63\n",
       "\\item[10\\textbackslash{}\\%] 63\n",
       "\\item[11\\textbackslash{}\\%] 63.7795275590551\n",
       "\\item[12\\textbackslash{}\\%] 64\n",
       "\\item[13\\textbackslash{}\\%] 64\n",
       "\\item[14\\textbackslash{}\\%] 64\n",
       "\\item[15\\textbackslash{}\\%] 64.1732099212598\n",
       "\\item[16\\textbackslash{}\\%] 64.96\n",
       "\\item[17\\textbackslash{}\\%] 65\n",
       "\\item[18\\textbackslash{}\\%] 65\n",
       "\\item[19\\textbackslash{}\\%] 65\n",
       "\\item[20\\textbackslash{}\\%] 65\n",
       "\\item[21\\textbackslash{}\\%] 65\n",
       "\\item[22\\textbackslash{}\\%] 65.9445669291339\n",
       "\\item[23\\textbackslash{}\\%] 66\n",
       "\\item[24\\textbackslash{}\\%] 66\n",
       "\\item[25\\textbackslash{}\\%] 66\n",
       "\\item[26\\textbackslash{}\\%] 66\n",
       "\\item[27\\textbackslash{}\\%] 66\n",
       "\\item[28\\textbackslash{}\\%] 66\n",
       "\\item[29\\textbackslash{}\\%] 66.5\n",
       "\\item[30\\textbackslash{}\\%] 66.92\n",
       "\\item[31\\textbackslash{}\\%] 66.9291338582677\n",
       "\\item[32\\textbackslash{}\\%] 67\n",
       "\\item[33\\textbackslash{}\\%] 67\n",
       "\\item[34\\textbackslash{}\\%] 67\n",
       "\\item[35\\textbackslash{}\\%] 67\n",
       "\\item[36\\textbackslash{}\\%] 67\n",
       "\\item[37\\textbackslash{}\\%] 67\n",
       "\\item[38\\textbackslash{}\\%] 67\n",
       "\\item[39\\textbackslash{}\\%] 67.322\n",
       "\\item[40\\textbackslash{}\\%] 67.7165\n",
       "\\item[41\\textbackslash{}\\%] 67.7254\n",
       "\\item[42\\textbackslash{}\\%] 68\n",
       "\\item[43\\textbackslash{}\\%] 68\n",
       "\\item[44\\textbackslash{}\\%] 68\n",
       "\\item[45\\textbackslash{}\\%] 68\n",
       "\\item[46\\textbackslash{}\\%] 68\n",
       "\\item[47\\textbackslash{}\\%] 68\n",
       "\\item[48\\textbackslash{}\\%] 68\n",
       "\\item[49\\textbackslash{}\\%] 68.1102362204724\n",
       "\\item[50\\textbackslash{}\\%] 68.5\n",
       "\\item[51\\textbackslash{}\\%] 68.89\n",
       "\\item[52\\textbackslash{}\\%] 68.8976377975433\n",
       "\\item[53\\textbackslash{}\\%] 69\n",
       "\\item[54\\textbackslash{}\\%] 69\n",
       "\\item[55\\textbackslash{}\\%] 69\n",
       "\\item[56\\textbackslash{}\\%] 69\n",
       "\\item[57\\textbackslash{}\\%] 69\n",
       "\\item[58\\textbackslash{}\\%] 69\n",
       "\\item[59\\textbackslash{}\\%] 69\n",
       "\\item[60\\textbackslash{}\\%] 69\n",
       "\\item[61\\textbackslash{}\\%] 69.6\n",
       "\\item[62\\textbackslash{}\\%] 70\n",
       "\\item[63\\textbackslash{}\\%] 70\n",
       "\\item[64\\textbackslash{}\\%] 70\n",
       "\\item[65\\textbackslash{}\\%] 70\n",
       "\\item[66\\textbackslash{}\\%] 70\n",
       "\\item[67\\textbackslash{}\\%] 70\n",
       "\\item[68\\textbackslash{}\\%] 70\n",
       "\\item[69\\textbackslash{}\\%] 70\n",
       "\\item[70\\textbackslash{}\\%] 70.0787401574803\n",
       "\\item[71\\textbackslash{}\\%] 70.737\n",
       "\\item[72\\textbackslash{}\\%] 70.8661417322835\n",
       "\\item[73\\textbackslash{}\\%] 71\n",
       "\\item[74\\textbackslash{}\\%] 71\n",
       "\\item[75\\textbackslash{}\\%] 71\n",
       "\\item[76\\textbackslash{}\\%] 71\n",
       "\\item[77\\textbackslash{}\\%] 71\n",
       "\\item[78\\textbackslash{}\\%] 71.11\n",
       "\\item[79\\textbackslash{}\\%] 72\n",
       "\\item[80\\textbackslash{}\\%] 72\n",
       "\\item[81\\textbackslash{}\\%] 72\n",
       "\\item[82\\textbackslash{}\\%] 72\n",
       "\\item[83\\textbackslash{}\\%] 72\n",
       "\\item[84\\textbackslash{}\\%] 72\n",
       "\\item[85\\textbackslash{}\\%] 72\n",
       "\\item[86\\textbackslash{}\\%] 72\n",
       "\\item[87\\textbackslash{}\\%] 72\n",
       "\\item[88\\textbackslash{}\\%] 72.4401133858268\n",
       "\\item[89\\textbackslash{}\\%] 72.8346456692913\n",
       "\\item[90\\textbackslash{}\\%] 73\n",
       "\\item[91\\textbackslash{}\\%] 73\n",
       "\\item[92\\textbackslash{}\\%] 74\n",
       "\\item[93\\textbackslash{}\\%] 74\n",
       "\\item[94\\textbackslash{}\\%] 74\n",
       "\\item[95\\textbackslash{}\\%] 74.8031496062992\n",
       "\\item[96\\textbackslash{}\\%] 75\n",
       "\\item[97\\textbackslash{}\\%] 75\n",
       "\\item[98\\textbackslash{}\\%] 76\n",
       "\\item[99\\textbackslash{}\\%] 78\n",
       "\\end{description*}\n"
      ],
      "text/markdown": [
       "1%\n",
       ":   592%\n",
       ":   603%\n",
       ":   604%\n",
       ":   615%\n",
       ":   626%\n",
       ":   627%\n",
       ":   62.28869291338588%\n",
       ":   639%\n",
       ":   6310%\n",
       ":   6311%\n",
       ":   63.779527559055112%\n",
       ":   6413%\n",
       ":   6414%\n",
       ":   6415%\n",
       ":   64.173209921259816%\n",
       ":   64.9617%\n",
       ":   6518%\n",
       ":   6519%\n",
       ":   6520%\n",
       ":   6521%\n",
       ":   6522%\n",
       ":   65.944566929133923%\n",
       ":   6624%\n",
       ":   6625%\n",
       ":   6626%\n",
       ":   6627%\n",
       ":   6628%\n",
       ":   6629%\n",
       ":   66.530%\n",
       ":   66.9231%\n",
       ":   66.929133858267732%\n",
       ":   6733%\n",
       ":   6734%\n",
       ":   6735%\n",
       ":   6736%\n",
       ":   6737%\n",
       ":   6738%\n",
       ":   6739%\n",
       ":   67.32240%\n",
       ":   67.716541%\n",
       ":   67.725442%\n",
       ":   6843%\n",
       ":   6844%\n",
       ":   6845%\n",
       ":   6846%\n",
       ":   6847%\n",
       ":   6848%\n",
       ":   6849%\n",
       ":   68.110236220472450%\n",
       ":   68.551%\n",
       ":   68.8952%\n",
       ":   68.897637797543353%\n",
       ":   6954%\n",
       ":   6955%\n",
       ":   6956%\n",
       ":   6957%\n",
       ":   6958%\n",
       ":   6959%\n",
       ":   6960%\n",
       ":   6961%\n",
       ":   69.662%\n",
       ":   7063%\n",
       ":   7064%\n",
       ":   7065%\n",
       ":   7066%\n",
       ":   7067%\n",
       ":   7068%\n",
       ":   7069%\n",
       ":   7070%\n",
       ":   70.078740157480371%\n",
       ":   70.73772%\n",
       ":   70.866141732283573%\n",
       ":   7174%\n",
       ":   7175%\n",
       ":   7176%\n",
       ":   7177%\n",
       ":   7178%\n",
       ":   71.1179%\n",
       ":   7280%\n",
       ":   7281%\n",
       ":   7282%\n",
       ":   7283%\n",
       ":   7284%\n",
       ":   7285%\n",
       ":   7286%\n",
       ":   7287%\n",
       ":   7288%\n",
       ":   72.440113385826889%\n",
       ":   72.834645669291390%\n",
       ":   7391%\n",
       ":   7392%\n",
       ":   7493%\n",
       ":   7494%\n",
       ":   7495%\n",
       ":   74.803149606299296%\n",
       ":   7597%\n",
       ":   7598%\n",
       ":   7699%\n",
       ":   78\n",
       "\n"
      ],
      "text/plain": [
       "  1%   2%   3%   4%   5%   6%   7%   8%   9%  10%  11%  12%  13%  14%  15%  16% \n",
       "59.0 60.0 60.0 61.0 62.0 62.0 62.3 63.0 63.0 63.0 63.8 64.0 64.0 64.0 64.2 65.0 \n",
       " 17%  18%  19%  20%  21%  22%  23%  24%  25%  26%  27%  28%  29%  30%  31%  32% \n",
       "65.0 65.0 65.0 65.0 65.0 65.9 66.0 66.0 66.0 66.0 66.0 66.0 66.5 66.9 66.9 67.0 \n",
       " 33%  34%  35%  36%  37%  38%  39%  40%  41%  42%  43%  44%  45%  46%  47%  48% \n",
       "67.0 67.0 67.0 67.0 67.0 67.0 67.3 67.7 67.7 68.0 68.0 68.0 68.0 68.0 68.0 68.0 \n",
       " 49%  50%  51%  52%  53%  54%  55%  56%  57%  58%  59%  60%  61%  62%  63%  64% \n",
       "68.1 68.5 68.9 68.9 69.0 69.0 69.0 69.0 69.0 69.0 69.0 69.0 69.6 70.0 70.0 70.0 \n",
       " 65%  66%  67%  68%  69%  70%  71%  72%  73%  74%  75%  76%  77%  78%  79%  80% \n",
       "70.0 70.0 70.0 70.0 70.0 70.1 70.7 70.9 71.0 71.0 71.0 71.0 71.0 71.1 72.0 72.0 \n",
       " 81%  82%  83%  84%  85%  86%  87%  88%  89%  90%  91%  92%  93%  94%  95%  96% \n",
       "72.0 72.0 72.0 72.0 72.0 72.0 72.0 72.4 72.8 73.0 73.0 74.0 74.0 74.0 74.8 75.0 \n",
       " 97%  98%  99% \n",
       "75.0 76.0 78.0 "
      ]
     },
     "metadata": {},
     "output_type": "display_data"
    }
   ],
   "source": [
    "p <- seq(0.01, 0.99, 0.01)\n",
    "percentiles <- quantile(heights$height, p)\n",
    "percentiles"
   ]
  },
  {
   "cell_type": "code",
   "execution_count": 14,
   "metadata": {},
   "outputs": [
    {
     "data": {
      "text/html": [
       "<strong>25%:</strong> 66"
      ],
      "text/latex": [
       "\\textbf{25\\textbackslash{}\\%:} 66"
      ],
      "text/markdown": [
       "**25%:** 66"
      ],
      "text/plain": [
       "25% \n",
       " 66 "
      ]
     },
     "metadata": {},
     "output_type": "display_data"
    },
    {
     "data": {
      "text/html": [
       "<strong>75%:</strong> 71"
      ],
      "text/latex": [
       "\\textbf{75\\textbackslash{}\\%:} 71"
      ],
      "text/markdown": [
       "**75%:** 71"
      ],
      "text/plain": [
       "75% \n",
       " 71 "
      ]
     },
     "metadata": {},
     "output_type": "display_data"
    }
   ],
   "source": [
    "percentiles[names(percentiles) == \"25%\"]\n",
    "percentiles[names(percentiles) == \"75%\"]"
   ]
  },
  {
   "cell_type": "code",
   "execution_count": 27,
   "metadata": {},
   "outputs": [
    {
     "data": {
      "text/html": [
       "<dl class=dl-horizontal>\n",
       "\t<dt>0.000%</dt>\n",
       "\t\t<dd>50</dd>\n",
       "\t<dt>0.503%</dt>\n",
       "\t\t<dd>53.2089447236181</dd>\n",
       "\t<dt>1.005%</dt>\n",
       "\t\t<dd>59</dd>\n",
       "\t<dt>1.508%</dt>\n",
       "\t\t<dd>59.0448552763819</dd>\n",
       "\t<dt>2.010%</dt>\n",
       "\t\t<dd>60</dd>\n",
       "\t<dt>2.513%</dt>\n",
       "\t\t<dd>60</dd>\n",
       "\t<dt>3.015%</dt>\n",
       "\t\t<dd>60</dd>\n",
       "\t<dt>3.518%</dt>\n",
       "\t\t<dd>60.8994974874372</dd>\n",
       "\t<dt>4.020%</dt>\n",
       "\t\t<dd>61</dd>\n",
       "\t<dt>4.523%</dt>\n",
       "\t\t<dd>61</dd>\n",
       "\t<dt>5.025%</dt>\n",
       "\t\t<dd>62</dd>\n",
       "\t<dt>5.528%</dt>\n",
       "\t\t<dd>62</dd>\n",
       "\t<dt>6.030%</dt>\n",
       "\t\t<dd>62</dd>\n",
       "\t<dt>6.533%</dt>\n",
       "\t\t<dd>62</dd>\n",
       "\t<dt>7.035%</dt>\n",
       "\t\t<dd>62.3607486250148</dd>\n",
       "\t<dt>7.538%</dt>\n",
       "\t\t<dd>62.992125984252</dd>\n",
       "\t<dt>8.040%</dt>\n",
       "\t\t<dd>63</dd>\n",
       "\t<dt>8.543%</dt>\n",
       "\t\t<dd>63</dd>\n",
       "\t<dt>9.045%</dt>\n",
       "\t\t<dd>63</dd>\n",
       "\t<dt>9.548%</dt>\n",
       "\t\t<dd>63</dd>\n",
       "\t<dt>10.050%</dt>\n",
       "\t\t<dd>63</dd>\n",
       "\t<dt>10.553%</dt>\n",
       "\t\t<dd>63</dd>\n",
       "\t<dt>11.055%</dt>\n",
       "\t\t<dd>63.7795275590551</dd>\n",
       "\t<dt>11.558%</dt>\n",
       "\t\t<dd>64</dd>\n",
       "\t<dt>12.060%</dt>\n",
       "\t\t<dd>64</dd>\n",
       "\t<dt>12.563%</dt>\n",
       "\t\t<dd>64</dd>\n",
       "\t<dt>13.065%</dt>\n",
       "\t\t<dd>64</dd>\n",
       "\t<dt>13.568%</dt>\n",
       "\t\t<dd>64</dd>\n",
       "\t<dt>14.070%</dt>\n",
       "\t\t<dd>64</dd>\n",
       "\t<dt>14.573%</dt>\n",
       "\t\t<dd>64</dd>\n",
       "\t<dt>15.075%</dt>\n",
       "\t\t<dd>64.1769952122819</dd>\n",
       "\t<dt>15.578%</dt>\n",
       "\t\t<dd>64.5669291338583</dd>\n",
       "\t<dt>16.080%</dt>\n",
       "\t\t<dd>64.9604304989514</dd>\n",
       "\t<dt>16.583%</dt>\n",
       "\t\t<dd>64.9982361809045</dd>\n",
       "\t<dt>17.085%</dt>\n",
       "\t\t<dd>65</dd>\n",
       "\t<dt>17.588%</dt>\n",
       "\t\t<dd>65</dd>\n",
       "\t<dt>18.090%</dt>\n",
       "\t\t<dd>65</dd>\n",
       "\t<dt>18.593%</dt>\n",
       "\t\t<dd>65</dd>\n",
       "\t<dt>19.095%</dt>\n",
       "\t\t<dd>65</dd>\n",
       "\t<dt>19.598%</dt>\n",
       "\t\t<dd>65</dd>\n",
       "\t<dt>20.101%</dt>\n",
       "\t\t<dd>65</dd>\n",
       "\t<dt>20.603%</dt>\n",
       "\t\t<dd>65</dd>\n",
       "\t<dt>21.106%</dt>\n",
       "\t\t<dd>65</dd>\n",
       "\t<dt>21.608%</dt>\n",
       "\t\t<dd>65</dd>\n",
       "\t<dt>22.111%</dt>\n",
       "\t\t<dd>66</dd>\n",
       "\t<dt>22.613%</dt>\n",
       "\t\t<dd>66</dd>\n",
       "\t<dt>23.116%</dt>\n",
       "\t\t<dd>66</dd>\n",
       "\t<dt>23.618%</dt>\n",
       "\t\t<dd>66</dd>\n",
       "\t<dt>24.121%</dt>\n",
       "\t\t<dd>66</dd>\n",
       "\t<dt>24.623%</dt>\n",
       "\t\t<dd>66</dd>\n",
       "\t<dt>25.126%</dt>\n",
       "\t\t<dd>66</dd>\n",
       "\t<dt>25.628%</dt>\n",
       "\t\t<dd>66</dd>\n",
       "\t<dt>26.131%</dt>\n",
       "\t\t<dd>66</dd>\n",
       "\t<dt>26.633%</dt>\n",
       "\t\t<dd>66</dd>\n",
       "\t<dt>27.136%</dt>\n",
       "\t\t<dd>66</dd>\n",
       "\t<dt>27.638%</dt>\n",
       "\t\t<dd>66</dd>\n",
       "\t<dt>28.141%</dt>\n",
       "\t\t<dd>66.0274371859297</dd>\n",
       "\t<dt>28.643%</dt>\n",
       "\t\t<dd>66.1417322834646</dd>\n",
       "\t<dt>29.146%</dt>\n",
       "\t\t<dd>66.5</dd>\n",
       "\t<dt>29.648%</dt>\n",
       "\t\t<dd>66.7005025125628</dd>\n",
       "\t<dt>30.151%</dt>\n",
       "\t\t<dd>66.9291</dd>\n",
       "\t<dt>30.653%</dt>\n",
       "\t\t<dd>66.9291338582677</dd>\n",
       "\t<dt>31.156%</dt>\n",
       "\t\t<dd>66.9291338582677</dd>\n",
       "\t<dt>31.658%</dt>\n",
       "\t\t<dd>67</dd>\n",
       "\t<dt>32.161%</dt>\n",
       "\t\t<dd>67</dd>\n",
       "\t<dt>32.663%</dt>\n",
       "\t\t<dd>67</dd>\n",
       "\t<dt>33.166%</dt>\n",
       "\t\t<dd>67</dd>\n",
       "\t<dt>33.668%</dt>\n",
       "\t\t<dd>67</dd>\n",
       "\t<dt>34.171%</dt>\n",
       "\t\t<dd>67</dd>\n",
       "\t<dt>34.673%</dt>\n",
       "\t\t<dd>67</dd>\n",
       "\t<dt>35.176%</dt>\n",
       "\t\t<dd>67</dd>\n",
       "\t<dt>35.678%</dt>\n",
       "\t\t<dd>67</dd>\n",
       "\t<dt>36.181%</dt>\n",
       "\t\t<dd>67</dd>\n",
       "\t<dt>36.683%</dt>\n",
       "\t\t<dd>67</dd>\n",
       "\t<dt>37.186%</dt>\n",
       "\t\t<dd>67</dd>\n",
       "\t<dt>37.688%</dt>\n",
       "\t\t<dd>67</dd>\n",
       "\t<dt>38.191%</dt>\n",
       "\t\t<dd>67</dd>\n",
       "\t<dt>38.693%</dt>\n",
       "\t\t<dd>67</dd>\n",
       "\t<dt>39.196%</dt>\n",
       "\t\t<dd>67.5</dd>\n",
       "\t<dt>39.698%</dt>\n",
       "\t\t<dd>67.7043718592965</dd>\n",
       "\t<dt>40.201%</dt>\n",
       "\t\t<dd>67.7165354330709</dd>\n",
       "\t<dt>40.704%</dt>\n",
       "\t\t<dd>67.7165354330709</dd>\n",
       "\t<dt>41.206%</dt>\n",
       "\t\t<dd>68</dd>\n",
       "\t<dt>41.709%</dt>\n",
       "\t\t<dd>68</dd>\n",
       "\t<dt>42.211%</dt>\n",
       "\t\t<dd>68</dd>\n",
       "\t<dt>42.714%</dt>\n",
       "\t\t<dd>68</dd>\n",
       "\t<dt>43.216%</dt>\n",
       "\t\t<dd>68</dd>\n",
       "\t<dt>43.719%</dt>\n",
       "\t\t<dd>68</dd>\n",
       "\t<dt>44.221%</dt>\n",
       "\t\t<dd>68</dd>\n",
       "\t<dt>44.724%</dt>\n",
       "\t\t<dd>68</dd>\n",
       "\t<dt>45.226%</dt>\n",
       "\t\t<dd>68</dd>\n",
       "\t<dt>45.729%</dt>\n",
       "\t\t<dd>68</dd>\n",
       "\t<dt>46.231%</dt>\n",
       "\t\t<dd>68</dd>\n",
       "\t<dt>46.734%</dt>\n",
       "\t\t<dd>68</dd>\n",
       "\t<dt>47.236%</dt>\n",
       "\t\t<dd>68</dd>\n",
       "\t<dt>47.739%</dt>\n",
       "\t\t<dd>68</dd>\n",
       "\t<dt>48.241%</dt>\n",
       "\t\t<dd>68</dd>\n",
       "\t<dt>48.744%</dt>\n",
       "\t\t<dd>68.11</dd>\n",
       "\t<dt>49.246%</dt>\n",
       "\t\t<dd>68.1102384615993</dd>\n",
       "\t<dt>49.749%</dt>\n",
       "\t\t<dd>68.5</dd>\n",
       "\t<dt>50.251%</dt>\n",
       "\t\t<dd>68.5</dd>\n",
       "\t<dt>50.754%</dt>\n",
       "\t\t<dd>68.6244450599454</dd>\n",
       "\t<dt>51.256%</dt>\n",
       "\t\t<dd>68.8951557788945</dd>\n",
       "\t<dt>51.759%</dt>\n",
       "\t\t<dd>68.8976377952756</dd>\n",
       "\t<dt>52.261%</dt>\n",
       "\t\t<dd>68.9</dd>\n",
       "\t<dt>52.764%</dt>\n",
       "\t\t<dd>69</dd>\n",
       "\t<dt>53.266%</dt>\n",
       "\t\t<dd>69</dd>\n",
       "\t<dt>53.769%</dt>\n",
       "\t\t<dd>69</dd>\n",
       "\t<dt>54.271%</dt>\n",
       "\t\t<dd>69</dd>\n",
       "\t<dt>54.774%</dt>\n",
       "\t\t<dd>69</dd>\n",
       "\t<dt>55.276%</dt>\n",
       "\t\t<dd>69</dd>\n",
       "\t<dt>55.779%</dt>\n",
       "\t\t<dd>69</dd>\n",
       "\t<dt>56.281%</dt>\n",
       "\t\t<dd>69</dd>\n",
       "\t<dt>56.784%</dt>\n",
       "\t\t<dd>69</dd>\n",
       "\t<dt>57.286%</dt>\n",
       "\t\t<dd>69</dd>\n",
       "\t<dt>57.789%</dt>\n",
       "\t\t<dd>69</dd>\n",
       "\t<dt>58.291%</dt>\n",
       "\t\t<dd>69</dd>\n",
       "\t<dt>58.794%</dt>\n",
       "\t\t<dd>69</dd>\n",
       "\t<dt>59.296%</dt>\n",
       "\t\t<dd>69</dd>\n",
       "\t<dt>59.799%</dt>\n",
       "\t\t<dd>69</dd>\n",
       "\t<dt>60.302%</dt>\n",
       "\t\t<dd>69.163216080402</dd>\n",
       "\t<dt>60.804%</dt>\n",
       "\t\t<dd>69.3</dd>\n",
       "\t<dt>61.307%</dt>\n",
       "\t\t<dd>70</dd>\n",
       "\t<dt>61.809%</dt>\n",
       "\t\t<dd>70</dd>\n",
       "\t<dt>62.312%</dt>\n",
       "\t\t<dd>70</dd>\n",
       "\t<dt>62.814%</dt>\n",
       "\t\t<dd>70</dd>\n",
       "\t<dt>63.317%</dt>\n",
       "\t\t<dd>70</dd>\n",
       "\t<dt>63.819%</dt>\n",
       "\t\t<dd>70</dd>\n",
       "\t<dt>64.322%</dt>\n",
       "\t\t<dd>70</dd>\n",
       "\t<dt>64.824%</dt>\n",
       "\t\t<dd>70</dd>\n",
       "\t<dt>65.327%</dt>\n",
       "\t\t<dd>70</dd>\n",
       "\t<dt>65.829%</dt>\n",
       "\t\t<dd>70</dd>\n",
       "\t<dt>66.332%</dt>\n",
       "\t\t<dd>70</dd>\n",
       "\t<dt>66.834%</dt>\n",
       "\t\t<dd>70</dd>\n",
       "\t<dt>67.337%</dt>\n",
       "\t\t<dd>70</dd>\n",
       "\t<dt>67.839%</dt>\n",
       "\t\t<dd>70</dd>\n",
       "\t<dt>68.342%</dt>\n",
       "\t\t<dd>70</dd>\n",
       "\t<dt>68.844%</dt>\n",
       "\t\t<dd>70</dd>\n",
       "\t<dt>69.347%</dt>\n",
       "\t\t<dd>70</dd>\n",
       "\t<dt>69.849%</dt>\n",
       "\t\t<dd>70</dd>\n",
       "\t<dt>70.352%</dt>\n",
       "\t\t<dd>70.0787401574803</dd>\n",
       "\t<dt>70.854%</dt>\n",
       "\t\t<dd>70.5</dd>\n",
       "\t<dt>71.357%</dt>\n",
       "\t\t<dd>70.8660532663317</dd>\n",
       "\t<dt>71.859%</dt>\n",
       "\t\t<dd>70.8661417322835</dd>\n",
       "\t<dt>72.362%</dt>\n",
       "\t\t<dd>70.8797989949749</dd>\n",
       "\t<dt>72.864%</dt>\n",
       "\t\t<dd>71</dd>\n",
       "\t<dt>73.367%</dt>\n",
       "\t\t<dd>71</dd>\n",
       "\t<dt>73.869%</dt>\n",
       "\t\t<dd>71</dd>\n",
       "\t<dt>74.372%</dt>\n",
       "\t\t<dd>71</dd>\n",
       "\t<dt>74.874%</dt>\n",
       "\t\t<dd>71</dd>\n",
       "\t<dt>75.377%</dt>\n",
       "\t\t<dd>71</dd>\n",
       "\t<dt>75.879%</dt>\n",
       "\t\t<dd>71</dd>\n",
       "\t<dt>76.382%</dt>\n",
       "\t\t<dd>71</dd>\n",
       "\t<dt>76.884%</dt>\n",
       "\t\t<dd>71</dd>\n",
       "\t<dt>77.387%</dt>\n",
       "\t\t<dd>71</dd>\n",
       "\t<dt>77.889%</dt>\n",
       "\t\t<dd>71</dd>\n",
       "\t<dt>78.392%</dt>\n",
       "\t\t<dd>71.5497487437186</dd>\n",
       "\t<dt>78.894%</dt>\n",
       "\t\t<dd>72</dd>\n",
       "\t<dt>79.397%</dt>\n",
       "\t\t<dd>72</dd>\n",
       "\t<dt>79.899%</dt>\n",
       "\t\t<dd>72</dd>\n",
       "\t<dt>80.402%</dt>\n",
       "\t\t<dd>72</dd>\n",
       "\t<dt>80.905%</dt>\n",
       "\t\t<dd>72</dd>\n",
       "\t<dt>81.407%</dt>\n",
       "\t\t<dd>72</dd>\n",
       "\t<dt>81.910%</dt>\n",
       "\t\t<dd>72</dd>\n",
       "\t<dt>82.412%</dt>\n",
       "\t\t<dd>72</dd>\n",
       "\t<dt>82.915%</dt>\n",
       "\t\t<dd>72</dd>\n",
       "\t<dt>83.417%</dt>\n",
       "\t\t<dd>72</dd>\n",
       "\t<dt>83.920%</dt>\n",
       "\t\t<dd>72</dd>\n",
       "\t<dt>84.422%</dt>\n",
       "\t\t<dd>72</dd>\n",
       "\t<dt>84.925%</dt>\n",
       "\t\t<dd>72</dd>\n",
       "\t<dt>85.427%</dt>\n",
       "\t\t<dd>72</dd>\n",
       "\t<dt>85.930%</dt>\n",
       "\t\t<dd>72</dd>\n",
       "\t<dt>86.432%</dt>\n",
       "\t\t<dd>72</dd>\n",
       "\t<dt>86.935%</dt>\n",
       "\t\t<dd>72</dd>\n",
       "\t<dt>87.437%</dt>\n",
       "\t\t<dd>72.05</dd>\n",
       "\t<dt>87.940%</dt>\n",
       "\t\t<dd>72.44</dd>\n",
       "\t<dt>88.442%</dt>\n",
       "\t\t<dd>72.4879396984925</dd>\n",
       "\t<dt>88.945%</dt>\n",
       "\t\t<dd>72.8346456692913</dd>\n",
       "\t<dt>89.447%</dt>\n",
       "\t\t<dd>73</dd>\n",
       "\t<dt>89.950%</dt>\n",
       "\t\t<dd>73</dd>\n",
       "\t<dt>90.452%</dt>\n",
       "\t\t<dd>73</dd>\n",
       "\t<dt>90.955%</dt>\n",
       "\t\t<dd>73</dd>\n",
       "\t<dt>91.457%</dt>\n",
       "\t\t<dd>73.2077386934673</dd>\n",
       "\t<dt>91.960%</dt>\n",
       "\t\t<dd>74</dd>\n",
       "\t<dt>92.462%</dt>\n",
       "\t\t<dd>74</dd>\n",
       "\t<dt>92.965%</dt>\n",
       "\t\t<dd>74</dd>\n",
       "\t<dt>93.467%</dt>\n",
       "\t\t<dd>74</dd>\n",
       "\t<dt>93.970%</dt>\n",
       "\t\t<dd>74</dd>\n",
       "\t<dt>94.472%</dt>\n",
       "\t\t<dd>74</dd>\n",
       "\t<dt>94.975%</dt>\n",
       "\t\t<dd>74.8031496062992</dd>\n",
       "\t<dt>95.477%</dt>\n",
       "\t\t<dd>75</dd>\n",
       "\t<dt>95.980%</dt>\n",
       "\t\t<dd>75</dd>\n",
       "\t<dt>96.482%</dt>\n",
       "\t\t<dd>75</dd>\n",
       "\t<dt>96.985%</dt>\n",
       "\t\t<dd>75</dd>\n",
       "\t<dt>97.487%</dt>\n",
       "\t\t<dd>75.8444221105528</dd>\n",
       "\t<dt>97.990%</dt>\n",
       "\t\t<dd>76</dd>\n",
       "\t<dt>98.492%</dt>\n",
       "\t\t<dd>77</dd>\n",
       "\t<dt>98.995%</dt>\n",
       "\t\t<dd>78</dd>\n",
       "\t<dt>99.497%</dt>\n",
       "\t\t<dd>79</dd>\n",
       "\t<dt>100.000%</dt>\n",
       "\t\t<dd>82.6771653543307</dd>\n",
       "</dl>\n"
      ],
      "text/latex": [
       "\\begin{description*}\n",
       "\\item[0.000\\textbackslash{}\\%] 50\n",
       "\\item[0.503\\textbackslash{}\\%] 53.2089447236181\n",
       "\\item[1.005\\textbackslash{}\\%] 59\n",
       "\\item[1.508\\textbackslash{}\\%] 59.0448552763819\n",
       "\\item[2.010\\textbackslash{}\\%] 60\n",
       "\\item[2.513\\textbackslash{}\\%] 60\n",
       "\\item[3.015\\textbackslash{}\\%] 60\n",
       "\\item[3.518\\textbackslash{}\\%] 60.8994974874372\n",
       "\\item[4.020\\textbackslash{}\\%] 61\n",
       "\\item[4.523\\textbackslash{}\\%] 61\n",
       "\\item[5.025\\textbackslash{}\\%] 62\n",
       "\\item[5.528\\textbackslash{}\\%] 62\n",
       "\\item[6.030\\textbackslash{}\\%] 62\n",
       "\\item[6.533\\textbackslash{}\\%] 62\n",
       "\\item[7.035\\textbackslash{}\\%] 62.3607486250148\n",
       "\\item[7.538\\textbackslash{}\\%] 62.992125984252\n",
       "\\item[8.040\\textbackslash{}\\%] 63\n",
       "\\item[8.543\\textbackslash{}\\%] 63\n",
       "\\item[9.045\\textbackslash{}\\%] 63\n",
       "\\item[9.548\\textbackslash{}\\%] 63\n",
       "\\item[10.050\\textbackslash{}\\%] 63\n",
       "\\item[10.553\\textbackslash{}\\%] 63\n",
       "\\item[11.055\\textbackslash{}\\%] 63.7795275590551\n",
       "\\item[11.558\\textbackslash{}\\%] 64\n",
       "\\item[12.060\\textbackslash{}\\%] 64\n",
       "\\item[12.563\\textbackslash{}\\%] 64\n",
       "\\item[13.065\\textbackslash{}\\%] 64\n",
       "\\item[13.568\\textbackslash{}\\%] 64\n",
       "\\item[14.070\\textbackslash{}\\%] 64\n",
       "\\item[14.573\\textbackslash{}\\%] 64\n",
       "\\item[15.075\\textbackslash{}\\%] 64.1769952122819\n",
       "\\item[15.578\\textbackslash{}\\%] 64.5669291338583\n",
       "\\item[16.080\\textbackslash{}\\%] 64.9604304989514\n",
       "\\item[16.583\\textbackslash{}\\%] 64.9982361809045\n",
       "\\item[17.085\\textbackslash{}\\%] 65\n",
       "\\item[17.588\\textbackslash{}\\%] 65\n",
       "\\item[18.090\\textbackslash{}\\%] 65\n",
       "\\item[18.593\\textbackslash{}\\%] 65\n",
       "\\item[19.095\\textbackslash{}\\%] 65\n",
       "\\item[19.598\\textbackslash{}\\%] 65\n",
       "\\item[20.101\\textbackslash{}\\%] 65\n",
       "\\item[20.603\\textbackslash{}\\%] 65\n",
       "\\item[21.106\\textbackslash{}\\%] 65\n",
       "\\item[21.608\\textbackslash{}\\%] 65\n",
       "\\item[22.111\\textbackslash{}\\%] 66\n",
       "\\item[22.613\\textbackslash{}\\%] 66\n",
       "\\item[23.116\\textbackslash{}\\%] 66\n",
       "\\item[23.618\\textbackslash{}\\%] 66\n",
       "\\item[24.121\\textbackslash{}\\%] 66\n",
       "\\item[24.623\\textbackslash{}\\%] 66\n",
       "\\item[25.126\\textbackslash{}\\%] 66\n",
       "\\item[25.628\\textbackslash{}\\%] 66\n",
       "\\item[26.131\\textbackslash{}\\%] 66\n",
       "\\item[26.633\\textbackslash{}\\%] 66\n",
       "\\item[27.136\\textbackslash{}\\%] 66\n",
       "\\item[27.638\\textbackslash{}\\%] 66\n",
       "\\item[28.141\\textbackslash{}\\%] 66.0274371859297\n",
       "\\item[28.643\\textbackslash{}\\%] 66.1417322834646\n",
       "\\item[29.146\\textbackslash{}\\%] 66.5\n",
       "\\item[29.648\\textbackslash{}\\%] 66.7005025125628\n",
       "\\item[30.151\\textbackslash{}\\%] 66.9291\n",
       "\\item[30.653\\textbackslash{}\\%] 66.9291338582677\n",
       "\\item[31.156\\textbackslash{}\\%] 66.9291338582677\n",
       "\\item[31.658\\textbackslash{}\\%] 67\n",
       "\\item[32.161\\textbackslash{}\\%] 67\n",
       "\\item[32.663\\textbackslash{}\\%] 67\n",
       "\\item[33.166\\textbackslash{}\\%] 67\n",
       "\\item[33.668\\textbackslash{}\\%] 67\n",
       "\\item[34.171\\textbackslash{}\\%] 67\n",
       "\\item[34.673\\textbackslash{}\\%] 67\n",
       "\\item[35.176\\textbackslash{}\\%] 67\n",
       "\\item[35.678\\textbackslash{}\\%] 67\n",
       "\\item[36.181\\textbackslash{}\\%] 67\n",
       "\\item[36.683\\textbackslash{}\\%] 67\n",
       "\\item[37.186\\textbackslash{}\\%] 67\n",
       "\\item[37.688\\textbackslash{}\\%] 67\n",
       "\\item[38.191\\textbackslash{}\\%] 67\n",
       "\\item[38.693\\textbackslash{}\\%] 67\n",
       "\\item[39.196\\textbackslash{}\\%] 67.5\n",
       "\\item[39.698\\textbackslash{}\\%] 67.7043718592965\n",
       "\\item[40.201\\textbackslash{}\\%] 67.7165354330709\n",
       "\\item[40.704\\textbackslash{}\\%] 67.7165354330709\n",
       "\\item[41.206\\textbackslash{}\\%] 68\n",
       "\\item[41.709\\textbackslash{}\\%] 68\n",
       "\\item[42.211\\textbackslash{}\\%] 68\n",
       "\\item[42.714\\textbackslash{}\\%] 68\n",
       "\\item[43.216\\textbackslash{}\\%] 68\n",
       "\\item[43.719\\textbackslash{}\\%] 68\n",
       "\\item[44.221\\textbackslash{}\\%] 68\n",
       "\\item[44.724\\textbackslash{}\\%] 68\n",
       "\\item[45.226\\textbackslash{}\\%] 68\n",
       "\\item[45.729\\textbackslash{}\\%] 68\n",
       "\\item[46.231\\textbackslash{}\\%] 68\n",
       "\\item[46.734\\textbackslash{}\\%] 68\n",
       "\\item[47.236\\textbackslash{}\\%] 68\n",
       "\\item[47.739\\textbackslash{}\\%] 68\n",
       "\\item[48.241\\textbackslash{}\\%] 68\n",
       "\\item[48.744\\textbackslash{}\\%] 68.11\n",
       "\\item[49.246\\textbackslash{}\\%] 68.1102384615993\n",
       "\\item[49.749\\textbackslash{}\\%] 68.5\n",
       "\\item[50.251\\textbackslash{}\\%] 68.5\n",
       "\\item[50.754\\textbackslash{}\\%] 68.6244450599454\n",
       "\\item[51.256\\textbackslash{}\\%] 68.8951557788945\n",
       "\\item[51.759\\textbackslash{}\\%] 68.8976377952756\n",
       "\\item[52.261\\textbackslash{}\\%] 68.9\n",
       "\\item[52.764\\textbackslash{}\\%] 69\n",
       "\\item[53.266\\textbackslash{}\\%] 69\n",
       "\\item[53.769\\textbackslash{}\\%] 69\n",
       "\\item[54.271\\textbackslash{}\\%] 69\n",
       "\\item[54.774\\textbackslash{}\\%] 69\n",
       "\\item[55.276\\textbackslash{}\\%] 69\n",
       "\\item[55.779\\textbackslash{}\\%] 69\n",
       "\\item[56.281\\textbackslash{}\\%] 69\n",
       "\\item[56.784\\textbackslash{}\\%] 69\n",
       "\\item[57.286\\textbackslash{}\\%] 69\n",
       "\\item[57.789\\textbackslash{}\\%] 69\n",
       "\\item[58.291\\textbackslash{}\\%] 69\n",
       "\\item[58.794\\textbackslash{}\\%] 69\n",
       "\\item[59.296\\textbackslash{}\\%] 69\n",
       "\\item[59.799\\textbackslash{}\\%] 69\n",
       "\\item[60.302\\textbackslash{}\\%] 69.163216080402\n",
       "\\item[60.804\\textbackslash{}\\%] 69.3\n",
       "\\item[61.307\\textbackslash{}\\%] 70\n",
       "\\item[61.809\\textbackslash{}\\%] 70\n",
       "\\item[62.312\\textbackslash{}\\%] 70\n",
       "\\item[62.814\\textbackslash{}\\%] 70\n",
       "\\item[63.317\\textbackslash{}\\%] 70\n",
       "\\item[63.819\\textbackslash{}\\%] 70\n",
       "\\item[64.322\\textbackslash{}\\%] 70\n",
       "\\item[64.824\\textbackslash{}\\%] 70\n",
       "\\item[65.327\\textbackslash{}\\%] 70\n",
       "\\item[65.829\\textbackslash{}\\%] 70\n",
       "\\item[66.332\\textbackslash{}\\%] 70\n",
       "\\item[66.834\\textbackslash{}\\%] 70\n",
       "\\item[67.337\\textbackslash{}\\%] 70\n",
       "\\item[67.839\\textbackslash{}\\%] 70\n",
       "\\item[68.342\\textbackslash{}\\%] 70\n",
       "\\item[68.844\\textbackslash{}\\%] 70\n",
       "\\item[69.347\\textbackslash{}\\%] 70\n",
       "\\item[69.849\\textbackslash{}\\%] 70\n",
       "\\item[70.352\\textbackslash{}\\%] 70.0787401574803\n",
       "\\item[70.854\\textbackslash{}\\%] 70.5\n",
       "\\item[71.357\\textbackslash{}\\%] 70.8660532663317\n",
       "\\item[71.859\\textbackslash{}\\%] 70.8661417322835\n",
       "\\item[72.362\\textbackslash{}\\%] 70.8797989949749\n",
       "\\item[72.864\\textbackslash{}\\%] 71\n",
       "\\item[73.367\\textbackslash{}\\%] 71\n",
       "\\item[73.869\\textbackslash{}\\%] 71\n",
       "\\item[74.372\\textbackslash{}\\%] 71\n",
       "\\item[74.874\\textbackslash{}\\%] 71\n",
       "\\item[75.377\\textbackslash{}\\%] 71\n",
       "\\item[75.879\\textbackslash{}\\%] 71\n",
       "\\item[76.382\\textbackslash{}\\%] 71\n",
       "\\item[76.884\\textbackslash{}\\%] 71\n",
       "\\item[77.387\\textbackslash{}\\%] 71\n",
       "\\item[77.889\\textbackslash{}\\%] 71\n",
       "\\item[78.392\\textbackslash{}\\%] 71.5497487437186\n",
       "\\item[78.894\\textbackslash{}\\%] 72\n",
       "\\item[79.397\\textbackslash{}\\%] 72\n",
       "\\item[79.899\\textbackslash{}\\%] 72\n",
       "\\item[80.402\\textbackslash{}\\%] 72\n",
       "\\item[80.905\\textbackslash{}\\%] 72\n",
       "\\item[81.407\\textbackslash{}\\%] 72\n",
       "\\item[81.910\\textbackslash{}\\%] 72\n",
       "\\item[82.412\\textbackslash{}\\%] 72\n",
       "\\item[82.915\\textbackslash{}\\%] 72\n",
       "\\item[83.417\\textbackslash{}\\%] 72\n",
       "\\item[83.920\\textbackslash{}\\%] 72\n",
       "\\item[84.422\\textbackslash{}\\%] 72\n",
       "\\item[84.925\\textbackslash{}\\%] 72\n",
       "\\item[85.427\\textbackslash{}\\%] 72\n",
       "\\item[85.930\\textbackslash{}\\%] 72\n",
       "\\item[86.432\\textbackslash{}\\%] 72\n",
       "\\item[86.935\\textbackslash{}\\%] 72\n",
       "\\item[87.437\\textbackslash{}\\%] 72.05\n",
       "\\item[87.940\\textbackslash{}\\%] 72.44\n",
       "\\item[88.442\\textbackslash{}\\%] 72.4879396984925\n",
       "\\item[88.945\\textbackslash{}\\%] 72.8346456692913\n",
       "\\item[89.447\\textbackslash{}\\%] 73\n",
       "\\item[89.950\\textbackslash{}\\%] 73\n",
       "\\item[90.452\\textbackslash{}\\%] 73\n",
       "\\item[90.955\\textbackslash{}\\%] 73\n",
       "\\item[91.457\\textbackslash{}\\%] 73.2077386934673\n",
       "\\item[91.960\\textbackslash{}\\%] 74\n",
       "\\item[92.462\\textbackslash{}\\%] 74\n",
       "\\item[92.965\\textbackslash{}\\%] 74\n",
       "\\item[93.467\\textbackslash{}\\%] 74\n",
       "\\item[93.970\\textbackslash{}\\%] 74\n",
       "\\item[94.472\\textbackslash{}\\%] 74\n",
       "\\item[94.975\\textbackslash{}\\%] 74.8031496062992\n",
       "\\item[95.477\\textbackslash{}\\%] 75\n",
       "\\item[95.980\\textbackslash{}\\%] 75\n",
       "\\item[96.482\\textbackslash{}\\%] 75\n",
       "\\item[96.985\\textbackslash{}\\%] 75\n",
       "\\item[97.487\\textbackslash{}\\%] 75.8444221105528\n",
       "\\item[97.990\\textbackslash{}\\%] 76\n",
       "\\item[98.492\\textbackslash{}\\%] 77\n",
       "\\item[98.995\\textbackslash{}\\%] 78\n",
       "\\item[99.497\\textbackslash{}\\%] 79\n",
       "\\item[100.000\\textbackslash{}\\%] 82.6771653543307\n",
       "\\end{description*}\n"
      ],
      "text/markdown": [
       "0.000%\n",
       ":   500.503%\n",
       ":   53.20894472361811.005%\n",
       ":   591.508%\n",
       ":   59.04485527638192.010%\n",
       ":   602.513%\n",
       ":   603.015%\n",
       ":   603.518%\n",
       ":   60.89949748743724.020%\n",
       ":   614.523%\n",
       ":   615.025%\n",
       ":   625.528%\n",
       ":   626.030%\n",
       ":   626.533%\n",
       ":   627.035%\n",
       ":   62.36074862501487.538%\n",
       ":   62.9921259842528.040%\n",
       ":   638.543%\n",
       ":   639.045%\n",
       ":   639.548%\n",
       ":   6310.050%\n",
       ":   6310.553%\n",
       ":   6311.055%\n",
       ":   63.779527559055111.558%\n",
       ":   6412.060%\n",
       ":   6412.563%\n",
       ":   6413.065%\n",
       ":   6413.568%\n",
       ":   6414.070%\n",
       ":   6414.573%\n",
       ":   6415.075%\n",
       ":   64.176995212281915.578%\n",
       ":   64.566929133858316.080%\n",
       ":   64.960430498951416.583%\n",
       ":   64.998236180904517.085%\n",
       ":   6517.588%\n",
       ":   6518.090%\n",
       ":   6518.593%\n",
       ":   6519.095%\n",
       ":   6519.598%\n",
       ":   6520.101%\n",
       ":   6520.603%\n",
       ":   6521.106%\n",
       ":   6521.608%\n",
       ":   6522.111%\n",
       ":   6622.613%\n",
       ":   6623.116%\n",
       ":   6623.618%\n",
       ":   6624.121%\n",
       ":   6624.623%\n",
       ":   6625.126%\n",
       ":   6625.628%\n",
       ":   6626.131%\n",
       ":   6626.633%\n",
       ":   6627.136%\n",
       ":   6627.638%\n",
       ":   6628.141%\n",
       ":   66.027437185929728.643%\n",
       ":   66.141732283464629.146%\n",
       ":   66.529.648%\n",
       ":   66.700502512562830.151%\n",
       ":   66.929130.653%\n",
       ":   66.929133858267731.156%\n",
       ":   66.929133858267731.658%\n",
       ":   6732.161%\n",
       ":   6732.663%\n",
       ":   6733.166%\n",
       ":   6733.668%\n",
       ":   6734.171%\n",
       ":   6734.673%\n",
       ":   6735.176%\n",
       ":   6735.678%\n",
       ":   6736.181%\n",
       ":   6736.683%\n",
       ":   6737.186%\n",
       ":   6737.688%\n",
       ":   6738.191%\n",
       ":   6738.693%\n",
       ":   6739.196%\n",
       ":   67.539.698%\n",
       ":   67.704371859296540.201%\n",
       ":   67.716535433070940.704%\n",
       ":   67.716535433070941.206%\n",
       ":   6841.709%\n",
       ":   6842.211%\n",
       ":   6842.714%\n",
       ":   6843.216%\n",
       ":   6843.719%\n",
       ":   6844.221%\n",
       ":   6844.724%\n",
       ":   6845.226%\n",
       ":   6845.729%\n",
       ":   6846.231%\n",
       ":   6846.734%\n",
       ":   6847.236%\n",
       ":   6847.739%\n",
       ":   6848.241%\n",
       ":   6848.744%\n",
       ":   68.1149.246%\n",
       ":   68.110238461599349.749%\n",
       ":   68.550.251%\n",
       ":   68.550.754%\n",
       ":   68.624445059945451.256%\n",
       ":   68.895155778894551.759%\n",
       ":   68.897637795275652.261%\n",
       ":   68.952.764%\n",
       ":   6953.266%\n",
       ":   6953.769%\n",
       ":   6954.271%\n",
       ":   6954.774%\n",
       ":   6955.276%\n",
       ":   6955.779%\n",
       ":   6956.281%\n",
       ":   6956.784%\n",
       ":   6957.286%\n",
       ":   6957.789%\n",
       ":   6958.291%\n",
       ":   6958.794%\n",
       ":   6959.296%\n",
       ":   6959.799%\n",
       ":   6960.302%\n",
       ":   69.16321608040260.804%\n",
       ":   69.361.307%\n",
       ":   7061.809%\n",
       ":   7062.312%\n",
       ":   7062.814%\n",
       ":   7063.317%\n",
       ":   7063.819%\n",
       ":   7064.322%\n",
       ":   7064.824%\n",
       ":   7065.327%\n",
       ":   7065.829%\n",
       ":   7066.332%\n",
       ":   7066.834%\n",
       ":   7067.337%\n",
       ":   7067.839%\n",
       ":   7068.342%\n",
       ":   7068.844%\n",
       ":   7069.347%\n",
       ":   7069.849%\n",
       ":   7070.352%\n",
       ":   70.078740157480370.854%\n",
       ":   70.571.357%\n",
       ":   70.866053266331771.859%\n",
       ":   70.866141732283572.362%\n",
       ":   70.879798994974972.864%\n",
       ":   7173.367%\n",
       ":   7173.869%\n",
       ":   7174.372%\n",
       ":   7174.874%\n",
       ":   7175.377%\n",
       ":   7175.879%\n",
       ":   7176.382%\n",
       ":   7176.884%\n",
       ":   7177.387%\n",
       ":   7177.889%\n",
       ":   7178.392%\n",
       ":   71.549748743718678.894%\n",
       ":   7279.397%\n",
       ":   7279.899%\n",
       ":   7280.402%\n",
       ":   7280.905%\n",
       ":   7281.407%\n",
       ":   7281.910%\n",
       ":   7282.412%\n",
       ":   7282.915%\n",
       ":   7283.417%\n",
       ":   7283.920%\n",
       ":   7284.422%\n",
       ":   7284.925%\n",
       ":   7285.427%\n",
       ":   7285.930%\n",
       ":   7286.432%\n",
       ":   7286.935%\n",
       ":   7287.437%\n",
       ":   72.0587.940%\n",
       ":   72.4488.442%\n",
       ":   72.487939698492588.945%\n",
       ":   72.834645669291389.447%\n",
       ":   7389.950%\n",
       ":   7390.452%\n",
       ":   7390.955%\n",
       ":   7391.457%\n",
       ":   73.207738693467391.960%\n",
       ":   7492.462%\n",
       ":   7492.965%\n",
       ":   7493.467%\n",
       ":   7493.970%\n",
       ":   7494.472%\n",
       ":   7494.975%\n",
       ":   74.803149606299295.477%\n",
       ":   7595.980%\n",
       ":   7596.482%\n",
       ":   7596.985%\n",
       ":   7597.487%\n",
       ":   75.844422110552897.990%\n",
       ":   7698.492%\n",
       ":   7798.995%\n",
       ":   7899.497%\n",
       ":   79100.000%\n",
       ":   82.6771653543307\n",
       "\n"
      ],
      "text/plain": [
       "  0.000%   0.503%   1.005%   1.508%   2.010%   2.513%   3.015%   3.518% \n",
       "    50.0     53.2     59.0     59.0     60.0     60.0     60.0     60.9 \n",
       "  4.020%   4.523%   5.025%   5.528%   6.030%   6.533%   7.035%   7.538% \n",
       "    61.0     61.0     62.0     62.0     62.0     62.0     62.4     63.0 \n",
       "  8.040%   8.543%   9.045%   9.548%  10.050%  10.553%  11.055%  11.558% \n",
       "    63.0     63.0     63.0     63.0     63.0     63.0     63.8     64.0 \n",
       " 12.060%  12.563%  13.065%  13.568%  14.070%  14.573%  15.075%  15.578% \n",
       "    64.0     64.0     64.0     64.0     64.0     64.0     64.2     64.6 \n",
       " 16.080%  16.583%  17.085%  17.588%  18.090%  18.593%  19.095%  19.598% \n",
       "    65.0     65.0     65.0     65.0     65.0     65.0     65.0     65.0 \n",
       " 20.101%  20.603%  21.106%  21.608%  22.111%  22.613%  23.116%  23.618% \n",
       "    65.0     65.0     65.0     65.0     66.0     66.0     66.0     66.0 \n",
       " 24.121%  24.623%  25.126%  25.628%  26.131%  26.633%  27.136%  27.638% \n",
       "    66.0     66.0     66.0     66.0     66.0     66.0     66.0     66.0 \n",
       " 28.141%  28.643%  29.146%  29.648%  30.151%  30.653%  31.156%  31.658% \n",
       "    66.0     66.1     66.5     66.7     66.9     66.9     66.9     67.0 \n",
       " 32.161%  32.663%  33.166%  33.668%  34.171%  34.673%  35.176%  35.678% \n",
       "    67.0     67.0     67.0     67.0     67.0     67.0     67.0     67.0 \n",
       " 36.181%  36.683%  37.186%  37.688%  38.191%  38.693%  39.196%  39.698% \n",
       "    67.0     67.0     67.0     67.0     67.0     67.0     67.5     67.7 \n",
       " 40.201%  40.704%  41.206%  41.709%  42.211%  42.714%  43.216%  43.719% \n",
       "    67.7     67.7     68.0     68.0     68.0     68.0     68.0     68.0 \n",
       " 44.221%  44.724%  45.226%  45.729%  46.231%  46.734%  47.236%  47.739% \n",
       "    68.0     68.0     68.0     68.0     68.0     68.0     68.0     68.0 \n",
       " 48.241%  48.744%  49.246%  49.749%  50.251%  50.754%  51.256%  51.759% \n",
       "    68.0     68.1     68.1     68.5     68.5     68.6     68.9     68.9 \n",
       " 52.261%  52.764%  53.266%  53.769%  54.271%  54.774%  55.276%  55.779% \n",
       "    68.9     69.0     69.0     69.0     69.0     69.0     69.0     69.0 \n",
       " 56.281%  56.784%  57.286%  57.789%  58.291%  58.794%  59.296%  59.799% \n",
       "    69.0     69.0     69.0     69.0     69.0     69.0     69.0     69.0 \n",
       " 60.302%  60.804%  61.307%  61.809%  62.312%  62.814%  63.317%  63.819% \n",
       "    69.2     69.3     70.0     70.0     70.0     70.0     70.0     70.0 \n",
       " 64.322%  64.824%  65.327%  65.829%  66.332%  66.834%  67.337%  67.839% \n",
       "    70.0     70.0     70.0     70.0     70.0     70.0     70.0     70.0 \n",
       " 68.342%  68.844%  69.347%  69.849%  70.352%  70.854%  71.357%  71.859% \n",
       "    70.0     70.0     70.0     70.0     70.1     70.5     70.9     70.9 \n",
       " 72.362%  72.864%  73.367%  73.869%  74.372%  74.874%  75.377%  75.879% \n",
       "    70.9     71.0     71.0     71.0     71.0     71.0     71.0     71.0 \n",
       " 76.382%  76.884%  77.387%  77.889%  78.392%  78.894%  79.397%  79.899% \n",
       "    71.0     71.0     71.0     71.0     71.5     72.0     72.0     72.0 \n",
       " 80.402%  80.905%  81.407%  81.910%  82.412%  82.915%  83.417%  83.920% \n",
       "    72.0     72.0     72.0     72.0     72.0     72.0     72.0     72.0 \n",
       " 84.422%  84.925%  85.427%  85.930%  86.432%  86.935%  87.437%  87.940% \n",
       "    72.0     72.0     72.0     72.0     72.0     72.0     72.0     72.4 \n",
       " 88.442%  88.945%  89.447%  89.950%  90.452%  90.955%  91.457%  91.960% \n",
       "    72.5     72.8     73.0     73.0     73.0     73.0     73.2     74.0 \n",
       " 92.462%  92.965%  93.467%  93.970%  94.472%  94.975%  95.477%  95.980% \n",
       "    74.0     74.0     74.0     74.0     74.0     74.8     75.0     75.0 \n",
       " 96.482%  96.985%  97.487%  97.990%  98.492%  98.995%  99.497% 100.000% \n",
       "    75.0     75.0     75.8     76.0     77.0     78.0     79.0     82.7 "
      ]
     },
     "metadata": {},
     "output_type": "display_data"
    }
   ],
   "source": [
    "q <- seq(0 , 1, length.out = 200)\n",
    "quantile(heights$height,q)"
   ]
  },
  {
   "cell_type": "code",
   "execution_count": 28,
   "metadata": {},
   "outputs": [
    {
     "data": {
      "text/html": [
       "<ol class=list-inline>\n",
       "\t<li>0.503989356314632</li>\n",
       "\t<li>0.507978313716902</li>\n",
       "\t<li>0.511966473414113</li>\n",
       "\t<li>0.515953436852831</li>\n",
       "\t<li>0.519938805838372</li>\n",
       "\t<li>0.523922182654107</li>\n",
       "\t<li>0.527903170180521</li>\n",
       "\t<li>0.531881372013987</li>\n",
       "\t<li>0.535856392585172</li>\n",
       "\t<li>0.539827837277029</li>\n",
       "\t<li>0.543795312542317</li>\n",
       "\t<li>0.547758426020584</li>\n",
       "\t<li>0.551716786654561</li>\n",
       "\t<li>0.555670004805906</li>\n",
       "\t<li>0.559617692370243</li>\n",
       "\t<li>0.563559462891433</li>\n",
       "\t<li>0.567494931675038</li>\n",
       "\t<li>0.571423715900901</li>\n",
       "\t<li>0.575345434734795</li>\n",
       "\t<li>0.579259709439103</li>\n",
       "\t<li>0.583166163482442</li>\n",
       "\t<li>0.587064422648215</li>\n",
       "\t<li>0.590954115142006</li>\n",
       "\t<li>0.594834871697796</li>\n",
       "\t<li>0.598706325682924</li>\n",
       "\t<li>0.602568113201761</li>\n",
       "\t<li>0.606419873198039</li>\n",
       "\t<li>0.610261247555797</li>\n",
       "\t<li>0.614091881198877</li>\n",
       "\t<li>0.617911422188953</li>\n",
       "\t<li>0.621719521822019</li>\n",
       "\t<li>0.62551583472332</li>\n",
       "\t<li>0.629300018940653</li>\n",
       "\t<li>0.633071736036028</li>\n",
       "\t<li>0.636830651175619</li>\n",
       "\t<li>0.640576433217991</li>\n",
       "\t<li>0.644308754800547</li>\n",
       "\t<li>0.648027292424163</li>\n",
       "\t<li>0.651731726535982</li>\n",
       "\t<li>0.655421741610324</li>\n",
       "\t<li>0.659097026227677</li>\n",
       "\t<li>0.66275727315175</li>\n",
       "\t<li>0.666402179404542</li>\n",
       "\t<li>0.670031446339406</li>\n",
       "\t<li>0.67364477971208</li>\n",
       "\t<li>0.677241889749652</li>\n",
       "\t<li>0.680822491217444</li>\n",
       "\t<li>0.684386303483777</li>\n",
       "\t<li>0.687933050582609</li>\n",
       "\t<li>0.691462461274013</li>\n",
       "\t<li>0.694974269102481</li>\n",
       "\t<li>0.698468212453034</li>\n",
       "\t<li>0.701944034605124</li>\n",
       "\t<li>0.705401483784302</li>\n",
       "\t<li>0.708840313211654</li>\n",
       "\t<li>0.712260281150973</li>\n",
       "\t<li>0.715661150953676</li>\n",
       "\t<li>0.719042691101436</li>\n",
       "\t<li>0.722404675246535</li>\n",
       "\t<li>0.725746882249926</li>\n",
       "\t<li>0.729069096216994</li>\n",
       "\t<li>0.732371106531017</li>\n",
       "\t<li>0.735652707884322</li>\n",
       "\t<li>0.738913700307138</li>\n",
       "\t<li>0.742153889194135</li>\n",
       "\t<li>0.745373085328664</li>\n",
       "\t<li>0.74857110490469</li>\n",
       "\t<li>0.751747769546429</li>\n",
       "\t<li>0.754902906325691</li>\n",
       "\t<li>0.758036347776927</li>\n",
       "\t<li>0.761147931910013</li>\n",
       "\t<li>0.764237502220749</li>\n",
       "\t<li>0.767304907699103</li>\n",
       "\t<li>0.770350002835209</li>\n",
       "\t<li>0.773372647623132</li>\n",
       "\t<li>0.776372707562401</li>\n",
       "\t<li>0.77935005365735</li>\n",
       "\t<li>0.782304562414267</li>\n",
       "\t<li>0.785236115836363</li>\n",
       "\t<li>0.788144601416603</li>\n",
       "\t<li>0.791029912128398</li>\n",
       "\t<li>0.793891946414187</li>\n",
       "\t<li>0.796730608171932</li>\n",
       "\t<li>0.79954580673955</li>\n",
       "\t<li>0.802337456877308</li>\n",
       "\t<li>0.805105478748192</li>\n",
       "\t<li>0.807849797896304</li>\n",
       "\t<li>0.810570345223288</li>\n",
       "\t<li>0.813267056962827</li>\n",
       "\t<li>0.81593987465324</li>\n",
       "\t<li>0.818588745108203</li>\n",
       "\t<li>0.821213620385628</li>\n",
       "\t<li>0.823814457754742</li>\n",
       "\t<li>0.826391219661375</li>\n",
       "\t<li>0.828943873691518</li>\n",
       "\t<li>0.831472392533162</li>\n",
       "\t<li>0.83397675393647</li>\n",
       "\t<li>0.836456940672308</li>\n",
       "\t<li>0.838912940489169</li>\n",
       "</ol>\n"
      ],
      "text/latex": [
       "\\begin{enumerate*}\n",
       "\\item 0.503989356314632\n",
       "\\item 0.507978313716902\n",
       "\\item 0.511966473414113\n",
       "\\item 0.515953436852831\n",
       "\\item 0.519938805838372\n",
       "\\item 0.523922182654107\n",
       "\\item 0.527903170180521\n",
       "\\item 0.531881372013987\n",
       "\\item 0.535856392585172\n",
       "\\item 0.539827837277029\n",
       "\\item 0.543795312542317\n",
       "\\item 0.547758426020584\n",
       "\\item 0.551716786654561\n",
       "\\item 0.555670004805906\n",
       "\\item 0.559617692370243\n",
       "\\item 0.563559462891433\n",
       "\\item 0.567494931675038\n",
       "\\item 0.571423715900901\n",
       "\\item 0.575345434734795\n",
       "\\item 0.579259709439103\n",
       "\\item 0.583166163482442\n",
       "\\item 0.587064422648215\n",
       "\\item 0.590954115142006\n",
       "\\item 0.594834871697796\n",
       "\\item 0.598706325682924\n",
       "\\item 0.602568113201761\n",
       "\\item 0.606419873198039\n",
       "\\item 0.610261247555797\n",
       "\\item 0.614091881198877\n",
       "\\item 0.617911422188953\n",
       "\\item 0.621719521822019\n",
       "\\item 0.62551583472332\n",
       "\\item 0.629300018940653\n",
       "\\item 0.633071736036028\n",
       "\\item 0.636830651175619\n",
       "\\item 0.640576433217991\n",
       "\\item 0.644308754800547\n",
       "\\item 0.648027292424163\n",
       "\\item 0.651731726535982\n",
       "\\item 0.655421741610324\n",
       "\\item 0.659097026227677\n",
       "\\item 0.66275727315175\n",
       "\\item 0.666402179404542\n",
       "\\item 0.670031446339406\n",
       "\\item 0.67364477971208\n",
       "\\item 0.677241889749652\n",
       "\\item 0.680822491217444\n",
       "\\item 0.684386303483777\n",
       "\\item 0.687933050582609\n",
       "\\item 0.691462461274013\n",
       "\\item 0.694974269102481\n",
       "\\item 0.698468212453034\n",
       "\\item 0.701944034605124\n",
       "\\item 0.705401483784302\n",
       "\\item 0.708840313211654\n",
       "\\item 0.712260281150973\n",
       "\\item 0.715661150953676\n",
       "\\item 0.719042691101436\n",
       "\\item 0.722404675246535\n",
       "\\item 0.725746882249926\n",
       "\\item 0.729069096216994\n",
       "\\item 0.732371106531017\n",
       "\\item 0.735652707884322\n",
       "\\item 0.738913700307138\n",
       "\\item 0.742153889194135\n",
       "\\item 0.745373085328664\n",
       "\\item 0.74857110490469\n",
       "\\item 0.751747769546429\n",
       "\\item 0.754902906325691\n",
       "\\item 0.758036347776927\n",
       "\\item 0.761147931910013\n",
       "\\item 0.764237502220749\n",
       "\\item 0.767304907699103\n",
       "\\item 0.770350002835209\n",
       "\\item 0.773372647623132\n",
       "\\item 0.776372707562401\n",
       "\\item 0.77935005365735\n",
       "\\item 0.782304562414267\n",
       "\\item 0.785236115836363\n",
       "\\item 0.788144601416603\n",
       "\\item 0.791029912128398\n",
       "\\item 0.793891946414187\n",
       "\\item 0.796730608171932\n",
       "\\item 0.79954580673955\n",
       "\\item 0.802337456877308\n",
       "\\item 0.805105478748192\n",
       "\\item 0.807849797896304\n",
       "\\item 0.810570345223288\n",
       "\\item 0.813267056962827\n",
       "\\item 0.81593987465324\n",
       "\\item 0.818588745108203\n",
       "\\item 0.821213620385628\n",
       "\\item 0.823814457754742\n",
       "\\item 0.826391219661375\n",
       "\\item 0.828943873691518\n",
       "\\item 0.831472392533162\n",
       "\\item 0.83397675393647\n",
       "\\item 0.836456940672308\n",
       "\\item 0.838912940489169\n",
       "\\end{enumerate*}\n"
      ],
      "text/markdown": [
       "1. 0.503989356314632\n",
       "2. 0.507978313716902\n",
       "3. 0.511966473414113\n",
       "4. 0.515953436852831\n",
       "5. 0.519938805838372\n",
       "6. 0.523922182654107\n",
       "7. 0.527903170180521\n",
       "8. 0.531881372013987\n",
       "9. 0.535856392585172\n",
       "10. 0.539827837277029\n",
       "11. 0.543795312542317\n",
       "12. 0.547758426020584\n",
       "13. 0.551716786654561\n",
       "14. 0.555670004805906\n",
       "15. 0.559617692370243\n",
       "16. 0.563559462891433\n",
       "17. 0.567494931675038\n",
       "18. 0.571423715900901\n",
       "19. 0.575345434734795\n",
       "20. 0.579259709439103\n",
       "21. 0.583166163482442\n",
       "22. 0.587064422648215\n",
       "23. 0.590954115142006\n",
       "24. 0.594834871697796\n",
       "25. 0.598706325682924\n",
       "26. 0.602568113201761\n",
       "27. 0.606419873198039\n",
       "28. 0.610261247555797\n",
       "29. 0.614091881198877\n",
       "30. 0.617911422188953\n",
       "31. 0.621719521822019\n",
       "32. 0.62551583472332\n",
       "33. 0.629300018940653\n",
       "34. 0.633071736036028\n",
       "35. 0.636830651175619\n",
       "36. 0.640576433217991\n",
       "37. 0.644308754800547\n",
       "38. 0.648027292424163\n",
       "39. 0.651731726535982\n",
       "40. 0.655421741610324\n",
       "41. 0.659097026227677\n",
       "42. 0.66275727315175\n",
       "43. 0.666402179404542\n",
       "44. 0.670031446339406\n",
       "45. 0.67364477971208\n",
       "46. 0.677241889749652\n",
       "47. 0.680822491217444\n",
       "48. 0.684386303483777\n",
       "49. 0.687933050582609\n",
       "50. 0.691462461274013\n",
       "51. 0.694974269102481\n",
       "52. 0.698468212453034\n",
       "53. 0.701944034605124\n",
       "54. 0.705401483784302\n",
       "55. 0.708840313211654\n",
       "56. 0.712260281150973\n",
       "57. 0.715661150953676\n",
       "58. 0.719042691101436\n",
       "59. 0.722404675246535\n",
       "60. 0.725746882249926\n",
       "61. 0.729069096216994\n",
       "62. 0.732371106531017\n",
       "63. 0.735652707884322\n",
       "64. 0.738913700307138\n",
       "65. 0.742153889194135\n",
       "66. 0.745373085328664\n",
       "67. 0.74857110490469\n",
       "68. 0.751747769546429\n",
       "69. 0.754902906325691\n",
       "70. 0.758036347776927\n",
       "71. 0.761147931910013\n",
       "72. 0.764237502220749\n",
       "73. 0.767304907699103\n",
       "74. 0.770350002835209\n",
       "75. 0.773372647623132\n",
       "76. 0.776372707562401\n",
       "77. 0.77935005365735\n",
       "78. 0.782304562414267\n",
       "79. 0.785236115836363\n",
       "80. 0.788144601416603\n",
       "81. 0.791029912128398\n",
       "82. 0.793891946414187\n",
       "83. 0.796730608171932\n",
       "84. 0.79954580673955\n",
       "85. 0.802337456877308\n",
       "86. 0.805105478748192\n",
       "87. 0.807849797896304\n",
       "88. 0.810570345223288\n",
       "89. 0.813267056962827\n",
       "90. 0.81593987465324\n",
       "91. 0.818588745108203\n",
       "92. 0.821213620385628\n",
       "93. 0.823814457754742\n",
       "94. 0.826391219661375\n",
       "95. 0.828943873691518\n",
       "96. 0.831472392533162\n",
       "97. 0.83397675393647\n",
       "98. 0.836456940672308\n",
       "99. 0.838912940489169\n",
       "\n",
       "\n"
      ],
      "text/plain": [
       " [1] 0.504 0.508 0.512 0.516 0.520 0.524 0.528 0.532 0.536 0.540 0.544 0.548\n",
       "[13] 0.552 0.556 0.560 0.564 0.567 0.571 0.575 0.579 0.583 0.587 0.591 0.595\n",
       "[25] 0.599 0.603 0.606 0.610 0.614 0.618 0.622 0.626 0.629 0.633 0.637 0.641\n",
       "[37] 0.644 0.648 0.652 0.655 0.659 0.663 0.666 0.670 0.674 0.677 0.681 0.684\n",
       "[49] 0.688 0.691 0.695 0.698 0.702 0.705 0.709 0.712 0.716 0.719 0.722 0.726\n",
       "[61] 0.729 0.732 0.736 0.739 0.742 0.745 0.749 0.752 0.755 0.758 0.761 0.764\n",
       "[73] 0.767 0.770 0.773 0.776 0.779 0.782 0.785 0.788 0.791 0.794 0.797 0.800\n",
       "[85] 0.802 0.805 0.808 0.811 0.813 0.816 0.819 0.821 0.824 0.826 0.829 0.831\n",
       "[97] 0.834 0.836 0.839"
      ]
     },
     "metadata": {},
     "output_type": "display_data"
    }
   ],
   "source": [
    "pnorm(p)"
   ]
  },
  {
   "cell_type": "code",
   "execution_count": 30,
   "metadata": {},
   "outputs": [
    {
     "data": {
      "text/html": [
       "99"
      ],
      "text/latex": [
       "99"
      ],
      "text/markdown": [
       "99"
      ],
      "text/plain": [
       "[1] 99"
      ]
     },
     "metadata": {},
     "output_type": "display_data"
    }
   ],
   "source": [
    "length(qnorm(p))"
   ]
  },
  {
   "cell_type": "code",
   "execution_count": 31,
   "metadata": {},
   "outputs": [
    {
     "name": "stderr",
     "output_type": "stream",
     "text": [
      "Registered S3 method overwritten by 'rvest':\n",
      "  method            from\n",
      "  read_xml.response xml2\n",
      "── Attaching packages ─────────────────────────────────────── tidyverse 1.2.1 ──\n",
      "✔ ggplot2 3.3.0     ✔ purrr   0.3.2\n",
      "✔ tibble  2.1.1     ✔ dplyr   0.8.5\n",
      "✔ tidyr   0.8.3     ✔ stringr 1.4.0\n",
      "✔ readr   1.3.1     ✔ forcats 0.4.0\n",
      "── Conflicts ────────────────────────────────────────── tidyverse_conflicts() ──\n",
      "✖ dplyr::filter()  masks stats::filter()\n",
      "✖ purrr::flatten() masks jsonlite::flatten()\n",
      "✖ dplyr::lag()     masks stats::lag()\n"
     ]
    },
    {
     "data": {
      "text/html": [
       "0.514778325123153"
      ],
      "text/latex": [
       "0.514778325123153"
      ],
      "text/markdown": [
       "0.514778325123153"
      ],
      "text/plain": [
       "[1] 0.515"
      ]
     },
     "metadata": {},
     "output_type": "display_data"
    },
    {
     "data": {
      "image/png": "[encoded data removed]",
      "text/plain": [
       "plot without title"
      ]
     },
     "metadata": {},
     "output_type": "display_data"
    },
    {
     "data": {
      "image/png": "[encoded data removed]",
      "text/plain": [
       "plot without title"
      ]
     },
     "metadata": {},
     "output_type": "display_data"
    }
   ],
   "source": [
    "# define x and z\n",
    "library(tidyverse)\n",
    "library(dslabs)\n",
    "data(heights)\n",
    "index <- heights$sex==\"Male\"\n",
    "x <- heights$height[index]\n",
    "z <- scale(x)\n",
    "\n",
    "# proportion of data below 69.5\n",
    "mean(x <= 69.5)\n",
    "\n",
    "# calculate observed and theoretical quantiles\n",
    "p <- seq(0.05, 0.95, 0.05)\n",
    "observed_quantiles <- quantile(x, p)\n",
    "theoretical_quantiles <- qnorm(p, mean = mean(x), sd = sd(x))\n",
    "\n",
    "# make QQ-plot\n",
    "plot(theoretical_quantiles, observed_quantiles)\n",
    "abline(0,1)\n",
    "\n",
    "# make QQ-plot with scaled values\n",
    "observed_quantiles <- quantile(z, p)\n",
    "theoretical_quantiles <- qnorm(p)\n",
    "plot(theoretical_quantiles, observed_quantiles)\n",
    "abline(0,1)"
   ]
  },
  {
   "cell_type": "code",
   "execution_count": 2,
   "metadata": {
    "scrolled": false
   },
   "outputs": [
    {
     "name": "stderr",
     "output_type": "stream",
     "text": [
      "`stat_bin()` using `bins = 30`. Pick better value with `binwidth`.\n"
     ]
    },
    {
     "data": {
      "image/png": "[encoded data removed]",
      "text/plain": [
       "plot without title"
      ]
     },
     "metadata": {},
     "output_type": "display_data"
    },
    {
     "data": {
      "image/png": "[encoded data removed]",
      "text/plain": [
       "plot without title"
      ]
     },
     "metadata": {},
     "output_type": "display_data"
    },
    {
     "data": {
      "image/png": "[encoded data removed]",
      "text/plain": [
       "plot without title"
      ]
     },
     "metadata": {},
     "output_type": "display_data"
    },
    {
     "data": {
      "image/png": "[encoded data removed]",
      "text/plain": [
       "plot without title"
      ]
     },
     "metadata": {},
     "output_type": "display_data"
    },
    {
     "data": {
      "image/png": "[encoded data removed]",
      "text/plain": [
       "plot without title"
      ]
     },
     "metadata": {},
     "output_type": "display_data"
    },
    {
     "data": {
      "image/png": "[encoded data removed]",
      "text/plain": [
       "plot without title"
      ]
     },
     "metadata": {},
     "output_type": "display_data"
    },
    {
     "data": {
      "image/png": "[encoded data removed]",
      "text/plain": [
       "plot without title"
      ]
     },
     "metadata": {},
     "output_type": "display_data"
    },
    {
     "ename": "ERROR",
     "evalue": "Error in library(gridExtra): there is no package called ‘gridExtra’\n",
     "output_type": "error",
     "traceback": [
      "Error in library(gridExtra): there is no package called ‘gridExtra’\nTraceback:\n",
      "1. library(gridExtra)"
     ]
    },
    {
     "data": {
      "image/png": "[encoded data removed]",
      "text/plain": [
       "plot without title"
      ]
     },
     "metadata": {},
     "output_type": "display_data"
    }
   ],
   "source": [
    "# Code: Histograms in ggplot2\n",
    "# load heights data\n",
    "library(tidyverse)\n",
    "library(dslabs)\n",
    "data(heights)\n",
    "\n",
    "# define p\n",
    "p <- heights %>%\n",
    "    filter(sex == \"Male\") %>%\n",
    "    ggplot(aes(x = height))\n",
    "    \n",
    "# basic histograms\n",
    "p + geom_histogram()\n",
    "p + geom_histogram(binwidth = 1)\n",
    "\n",
    "# histogram with blue fill, black outline, labels and title\n",
    "p + geom_histogram(binwidth = 1, fill = \"blue\", col = \"black\") +\n",
    "    xlab(\"Male heights in inches\") +\n",
    "    ggtitle(\"Histogram\")\n",
    "# Code: Smooth density plots in ggplot2\n",
    "p + geom_density()\n",
    "p + geom_density(fill = \"blue\")\n",
    "# Code: Quantile-quantile plots in ggplot2\n",
    "# basic QQ-plot\n",
    "p <- heights %>% filter(sex == \"Male\") %>%\n",
    "    ggplot(aes(sample = height))\n",
    "p + geom_qq()\n",
    "\n",
    "# QQ-plot against a normal distribution with same mean/sd as data\n",
    "params <- heights %>%\n",
    "    filter(sex == \"Male\") %>%\n",
    "    summarize(mean = mean(height), sd = sd(height))\n",
    "    p + geom_qq(dparams = params) +\n",
    "    geom_abline()\n",
    "    \n",
    "# QQ-plot of scaled data against the standard normal distribution\n",
    "heights %>%\n",
    "    ggplot(aes(sample = scale(height))) +\n",
    "    geom_qq() +\n",
    "    geom_abline()\n",
    "# Code: Grids of plots with the gridExtra package\n",
    "# define plots p1, p2, p3\n",
    "p <- heights %>% filter(sex == \"Male\") %>% ggplot(aes(x = height))\n",
    "p1 <- p + geom_histogram(binwidth = 1, fill = \"blue\", col = \"black\")\n",
    "p2 <- p + geom_histogram(binwidth = 2, fill = \"blue\", col = \"black\")\n",
    "p3 <- p + geom_histogram(binwidth = 3, fill = \"blue\", col = \"black\")\n",
    "\n",
    "# arrange plots next to each other in 1 row, 3 columns\n",
    "library(gridExtra)\n",
    "grid.arrange(p1, p2, p3, ncol = 3)"
   ]
  },
  {
   "cell_type": "code",
   "execution_count": null,
   "metadata": {},
   "outputs": [],
   "source": []
  }
 ],
 "metadata": {
  "kernelspec": {
   "display_name": "R",
   "language": "R",
   "name": "ir"
  },
  "language_info": {
   "codemirror_mode": "r",
   "file_extension": ".r",
   "mimetype": "text/x-r-source",
   "name": "R",
   "pygments_lexer": "r",
   "version": "3.6.1"
  },
  "toc": {
   "base_numbering": 1,
   "nav_menu": {},
   "number_sections": true,
   "sideBar": true,
   "skip_h1_title": false,
   "title_cell": "Table of Contents",
   "title_sidebar": "Contents",
   "toc_cell": false,
   "toc_position": {},
   "toc_section_display": true,
   "toc_window_display": false
  },
  "varInspector": {
   "cols": {
    "lenName": 16,
    "lenType": 16,
    "lenVar": 40
   },
   "kernels_config": {
    "python": {
     "delete_cmd_postfix": "",
     "delete_cmd_prefix": "del ",
     "library": "var_list.py",
     "varRefreshCmd": "print(var_dic_list())"
    },
    "r": {
     "delete_cmd_postfix": ") ",
     "delete_cmd_prefix": "rm(",
     "library": "var_list.r",
     "varRefreshCmd": "cat(var_dic_list()) "
    }
   },
   "types_to_exclude": [
    "module",
    "function",
    "builtin_function_or_method",
    "instance",
    "_Feature"
   ],
   "window_display": false
  }
 },
 "nbformat": 4,
 "nbformat_minor": 4
}
