{
 "cells": [
  {
   "cell_type": "code",
   "execution_count": 6,
   "metadata": {},
   "outputs": [
    {
     "data": {
      "text/html": [
       "<table>\n",
       "<thead><tr><th scope=col>mean</th><th scope=col>sd</th></tr></thead>\n",
       "<tbody>\n",
       "\t<tr><td>69.31475</td><td>3.611024</td></tr>\n",
       "</tbody>\n",
       "</table>\n"
      ],
      "text/latex": [
       "\\begin{tabular}{r|ll}\n",
       " mean & sd\\\\\n",
       "\\hline\n",
       "\t 69.31475 & 3.611024\\\\\n",
       "\\end{tabular}\n"
      ],
      "text/markdown": [
       "\n",
       "| mean | sd |\n",
       "|---|---|\n",
       "| 69.31475 | 3.611024 |\n",
       "\n"
      ],
      "text/plain": [
       "  mean     sd      \n",
       "1 69.31475 3.611024"
      ]
     },
     "metadata": {},
     "output_type": "display_data"
    }
   ],
   "source": [
    "library(tidyverse)\n",
    "library(dslabs)\n",
    "data(heights)\n",
    "\n",
    "s <- heights %>% filter(sex ==  \"Male\") %>% summarize(mean = mean(height), sd = sd(height))\n",
    "s"
   ]
  },
  {
   "cell_type": "code",
   "execution_count": 7,
   "metadata": {},
   "outputs": [
    {
     "data": {
      "text/html": [
       "'data.frame'"
      ],
      "text/latex": [
       "'data.frame'"
      ],
      "text/markdown": [
       "'data.frame'"
      ],
      "text/plain": [
       "[1] \"data.frame\""
      ]
     },
     "metadata": {},
     "output_type": "display_data"
    }
   ],
   "source": [
    "class(s)"
   ]
  },
  {
   "cell_type": "code",
   "execution_count": 8,
   "metadata": {},
   "outputs": [
    {
     "data": {
      "text/html": [
       "<table>\n",
       "<thead><tr><th scope=col>mean</th><th scope=col>sd</th><th scope=col>median</th><th scope=col>max</th><th scope=col>min</th></tr></thead>\n",
       "<tbody>\n",
       "\t<tr><td>69.31475</td><td>3.611024</td><td>69      </td><td>82.67717</td><td>50      </td></tr>\n",
       "</tbody>\n",
       "</table>\n"
      ],
      "text/latex": [
       "\\begin{tabular}{r|lllll}\n",
       " mean & sd & median & max & min\\\\\n",
       "\\hline\n",
       "\t 69.31475 & 3.611024 & 69       & 82.67717 & 50      \\\\\n",
       "\\end{tabular}\n"
      ],
      "text/markdown": [
       "\n",
       "| mean | sd | median | max | min |\n",
       "|---|---|---|---|---|\n",
       "| 69.31475 | 3.611024 | 69       | 82.67717 | 50       |\n",
       "\n"
      ],
      "text/plain": [
       "  mean     sd       median max      min\n",
       "1 69.31475 3.611024 69     82.67717 50 "
      ]
     },
     "metadata": {},
     "output_type": "display_data"
    }
   ],
   "source": [
    "s1 <- heights %>% filter(sex ==  \"Male\") %>% summarize(mean = mean(height), sd = sd(height), median = median(height), max = max(height), min = min(height))\n",
    "s1"
   ]
  },
  {
   "cell_type": "code",
   "execution_count": 9,
   "metadata": {},
   "outputs": [
    {
     "data": {
      "text/html": [
       "<dl class=dl-horizontal>\n",
       "\t<dt>0%</dt>\n",
       "\t\t<dd>50</dd>\n",
       "\t<dt>5%</dt>\n",
       "\t\t<dd>62</dd>\n",
       "\t<dt>100%</dt>\n",
       "\t\t<dd>82.6771653543307</dd>\n",
       "</dl>\n"
      ],
      "text/latex": [
       "\\begin{description*}\n",
       "\\item[0\\textbackslash{}\\%] 50\n",
       "\\item[5\\textbackslash{}\\%] 62\n",
       "\\item[100\\textbackslash{}\\%] 82.6771653543307\n",
       "\\end{description*}\n"
      ],
      "text/markdown": [
       "0%\n",
       ":   505%\n",
       ":   62100%\n",
       ":   82.6771653543307\n",
       "\n"
      ],
      "text/plain": [
       "      0%       5%     100% \n",
       "50.00000 62.00000 82.67717 "
      ]
     },
     "metadata": {},
     "output_type": "display_data"
    }
   ],
   "source": [
    "quantile(heights$height, c(0.0, 0.05, 1.0))"
   ]
  },
  {
   "cell_type": "code",
   "execution_count": 10,
   "metadata": {},
   "outputs": [
    {
     "ename": "ERROR",
     "evalue": "Error: Column `range` must be length 1 (a summary value), not 3\n",
     "output_type": "error",
     "traceback": [
      "Error: Column `range` must be length 1 (a summary value), not 3\nTraceback:\n",
      "1. heights %>% filter(sex == \"Male\") %>% summarize(range = quantile(height, \n .     c(0, 0.5, 1)))",
      "2. withVisible(eval(quote(`_fseq`(`_lhs`)), env, env))",
      "3. eval(quote(`_fseq`(`_lhs`)), env, env)",
      "4. eval(quote(`_fseq`(`_lhs`)), env, env)",
      "5. `_fseq`(`_lhs`)",
      "6. freduce(value, `_function_list`)",
      "7. withVisible(function_list[[k]](value))",
      "8. function_list[[k]](value)",
      "9. summarize(., range = quantile(height, c(0, 0.5, 1)))",
      "10. summarise.data.frame(., range = quantile(height, c(0, 0.5, 1)))",
      "11. as.data.frame(summarise(tbl_df(.data), ...))",
      "12. summarise(tbl_df(.data), ...)",
      "13. summarise.tbl_df(tbl_df(.data), ...)",
      "14. summarise_impl(.data, dots, environment(), caller_env())"
     ]
    }
   ],
   "source": [
    "# This code generates error because summarize accept only those function which return single values\n",
    "heights %>% filter(sex == \"Male\") %>% summarize(range = quantile(height, c(0.0, 0.5, 1.0)))"
   ]
  },
  {
   "cell_type": "markdown",
   "metadata": {},
   "source": [
    "# Dot Placeholder"
   ]
  },
  {
   "cell_type": "markdown",
   "metadata": {},
   "source": [
    "### Pull() and dot behaves in the same way"
   ]
  },
  {
   "cell_type": "code",
   "execution_count": 11,
   "metadata": {},
   "outputs": [
    {
     "data": {
      "text/html": [
       "<table>\n",
       "<thead><tr><th scope=col>mean</th></tr></thead>\n",
       "<tbody>\n",
       "\t<tr><td>2.779125</td></tr>\n",
       "</tbody>\n",
       "</table>\n"
      ],
      "text/latex": [
       "\\begin{tabular}{r|l}\n",
       " mean\\\\\n",
       "\\hline\n",
       "\t 2.779125\\\\\n",
       "\\end{tabular}\n"
      ],
      "text/markdown": [
       "\n",
       "| mean |\n",
       "|---|\n",
       "| 2.779125 |\n",
       "\n"
      ],
      "text/plain": [
       "  mean    \n",
       "1 2.779125"
      ]
     },
     "metadata": {},
     "output_type": "display_data"
    },
    {
     "data": {
      "text/html": [
       "'numeric'"
      ],
      "text/latex": [
       "'numeric'"
      ],
      "text/markdown": [
       "'numeric'"
      ],
      "text/plain": [
       "[1] \"numeric\""
      ]
     },
     "metadata": {},
     "output_type": "display_data"
    },
    {
     "data": {
      "text/html": [
       "3.03455486317059"
      ],
      "text/latex": [
       "3.03455486317059"
      ],
      "text/markdown": [
       "3.03455486317059"
      ],
      "text/plain": [
       "[1] 3.034555"
      ]
     },
     "metadata": {},
     "output_type": "display_data"
    },
    {
     "data": {
      "text/html": [
       "'numeric'"
      ],
      "text/latex": [
       "'numeric'"
      ],
      "text/markdown": [
       "'numeric'"
      ],
      "text/plain": [
       "[1] \"numeric\""
      ]
     },
     "metadata": {},
     "output_type": "display_data"
    }
   ],
   "source": [
    "library(tidyverse)\n",
    "library(dslabs)\n",
    "data(murders)\n",
    "\n",
    "murders <- murders %>% mutate(murder_rate = (total/population) * 100000) \n",
    "summarize(murders, mean = mean(murder_rate))\n",
    "\n",
    "us_murder_rate <- murders %>% summarize(rate = sum(total)/ sum(population) *100000)\n",
    "r <- us_murder_rate %>% .$rate\n",
    "class(r)\n",
    "r\n",
    "class(us_murder_rate$rate)"
   ]
  },
  {
   "cell_type": "code",
   "execution_count": 13,
   "metadata": {},
   "outputs": [
    {
     "data": {
      "text/html": [
       "3.03455486317059"
      ],
      "text/latex": [
       "3.03455486317059"
      ],
      "text/markdown": [
       "3.03455486317059"
      ],
      "text/plain": [
       "[1] 3.034555"
      ]
     },
     "metadata": {},
     "output_type": "display_data"
    }
   ],
   "source": [
    "us_murder_rate <- murders %>%\n",
    "    summarize(rate = sum(total) / sum(population) * 100000) %>%\n",
    "    .$rate\n",
    "us_murder_rate"
   ]
  },
  {
   "cell_type": "code",
   "execution_count": 14,
   "metadata": {},
   "outputs": [
    {
     "data": {
      "text/html": [
       "<table>\n",
       "<thead><tr><th scope=col>sex</th><th scope=col>mean</th><th scope=col>sd</th></tr></thead>\n",
       "<tbody>\n",
       "\t<tr><td>Female  </td><td>64.93942</td><td>3.760656</td></tr>\n",
       "\t<tr><td>Male    </td><td>69.31475</td><td>3.611024</td></tr>\n",
       "</tbody>\n",
       "</table>\n"
      ],
      "text/latex": [
       "\\begin{tabular}{r|lll}\n",
       " sex & mean & sd\\\\\n",
       "\\hline\n",
       "\t Female   & 64.93942 & 3.760656\\\\\n",
       "\t Male     & 69.31475 & 3.611024\\\\\n",
       "\\end{tabular}\n"
      ],
      "text/markdown": [
       "\n",
       "| sex | mean | sd |\n",
       "|---|---|---|\n",
       "| Female   | 64.93942 | 3.760656 |\n",
       "| Male     | 69.31475 | 3.611024 |\n",
       "\n"
      ],
      "text/plain": [
       "  sex    mean     sd      \n",
       "1 Female 64.93942 3.760656\n",
       "2 Male   69.31475 3.611024"
      ]
     },
     "metadata": {},
     "output_type": "display_data"
    },
    {
     "data": {
      "text/html": [
       "<table>\n",
       "<thead><tr><th scope=col>region</th><th scope=col>mean</th><th scope=col>sd</th></tr></thead>\n",
       "<tbody>\n",
       "\t<tr><td>Northeast    </td><td>1.847500     </td><td>1.174086     </td></tr>\n",
       "\t<tr><td>South        </td><td>4.417012     </td><td>3.372884     </td></tr>\n",
       "\t<tr><td>North Central</td><td>2.182040     </td><td>1.438655     </td></tr>\n",
       "\t<tr><td>West         </td><td>1.833401     </td><td>1.172158     </td></tr>\n",
       "</tbody>\n",
       "</table>\n"
      ],
      "text/latex": [
       "\\begin{tabular}{r|lll}\n",
       " region & mean & sd\\\\\n",
       "\\hline\n",
       "\t Northeast     & 1.847500      & 1.174086     \\\\\n",
       "\t South         & 4.417012      & 3.372884     \\\\\n",
       "\t North Central & 2.182040      & 1.438655     \\\\\n",
       "\t West          & 1.833401      & 1.172158     \\\\\n",
       "\\end{tabular}\n"
      ],
      "text/markdown": [
       "\n",
       "| region | mean | sd |\n",
       "|---|---|---|\n",
       "| Northeast     | 1.847500      | 1.174086      |\n",
       "| South         | 4.417012      | 3.372884      |\n",
       "| North Central | 2.182040      | 1.438655      |\n",
       "| West          | 1.833401      | 1.172158      |\n",
       "\n"
      ],
      "text/plain": [
       "  region        mean     sd      \n",
       "1 Northeast     1.847500 1.174086\n",
       "2 South         4.417012 3.372884\n",
       "3 North Central 2.182040 1.438655\n",
       "4 West          1.833401 1.172158"
      ]
     },
     "metadata": {},
     "output_type": "display_data"
    }
   ],
   "source": [
    "heights %>% group_by(sex) %>% summarize(mean = mean(height), sd = sd(height))\n",
    "murders %>% mutate(murder_rate = total/population * 100000) %>% group_by(region) %>% summarize(mean = mean(murder_rate), sd = sd(murder_rate))"
   ]
  },
  {
   "cell_type": "code",
   "execution_count": 24,
   "metadata": {},
   "outputs": [
    {
     "data": {
      "text/html": [
       "<table>\n",
       "<thead><tr><th scope=col>state</th><th scope=col>abb</th><th scope=col>region</th><th scope=col>population</th><th scope=col>total</th><th scope=col>murder_rate</th></tr></thead>\n",
       "<tbody>\n",
       "\t<tr><td>District of Columbia</td><td>DC                  </td><td>South               </td><td> 601723             </td><td> 99                 </td><td>16.452753           </td></tr>\n",
       "\t<tr><td>Louisiana           </td><td>LA                  </td><td>South               </td><td>4533372             </td><td>351                 </td><td> 7.742581           </td></tr>\n",
       "\t<tr><td>Missouri            </td><td>MO                  </td><td>North Central       </td><td>5988927             </td><td>321                 </td><td> 5.359892           </td></tr>\n",
       "\t<tr><td>Maryland            </td><td>MD                  </td><td>South               </td><td>5773552             </td><td>293                 </td><td> 5.074866           </td></tr>\n",
       "\t<tr><td>South Carolina      </td><td>SC                  </td><td>South               </td><td>4625364             </td><td>207                 </td><td> 4.475323           </td></tr>\n",
       "\t<tr><td>Delaware            </td><td>DE                  </td><td>South               </td><td> 897934             </td><td> 38                 </td><td> 4.231937           </td></tr>\n",
       "\t<tr><td>Michigan            </td><td>MI                  </td><td>North Central       </td><td>9883640             </td><td>413                 </td><td> 4.178622           </td></tr>\n",
       "\t<tr><td>Mississippi         </td><td>MS                  </td><td>South               </td><td>2967297             </td><td>120                 </td><td> 4.044085           </td></tr>\n",
       "\t<tr><td>Georgia             </td><td>GA                  </td><td>South               </td><td>9920000             </td><td>376                 </td><td> 3.790323           </td></tr>\n",
       "\t<tr><td>Arizona             </td><td>AZ                  </td><td>West                </td><td>6392017             </td><td>232                 </td><td> 3.629527           </td></tr>\n",
       "</tbody>\n",
       "</table>\n"
      ],
      "text/latex": [
       "\\begin{tabular}{r|llllll}\n",
       " state & abb & region & population & total & murder\\_rate\\\\\n",
       "\\hline\n",
       "\t District of Columbia & DC                   & South                &  601723              &  99                  & 16.452753           \\\\\n",
       "\t Louisiana            & LA                   & South                & 4533372              & 351                  &  7.742581           \\\\\n",
       "\t Missouri             & MO                   & North Central        & 5988927              & 321                  &  5.359892           \\\\\n",
       "\t Maryland             & MD                   & South                & 5773552              & 293                  &  5.074866           \\\\\n",
       "\t South Carolina       & SC                   & South                & 4625364              & 207                  &  4.475323           \\\\\n",
       "\t Delaware             & DE                   & South                &  897934              &  38                  &  4.231937           \\\\\n",
       "\t Michigan             & MI                   & North Central        & 9883640              & 413                  &  4.178622           \\\\\n",
       "\t Mississippi          & MS                   & South                & 2967297              & 120                  &  4.044085           \\\\\n",
       "\t Georgia              & GA                   & South                & 9920000              & 376                  &  3.790323           \\\\\n",
       "\t Arizona              & AZ                   & West                 & 6392017              & 232                  &  3.629527           \\\\\n",
       "\\end{tabular}\n"
      ],
      "text/markdown": [
       "\n",
       "| state | abb | region | population | total | murder_rate |\n",
       "|---|---|---|---|---|---|\n",
       "| District of Columbia | DC                   | South                |  601723              |  99                  | 16.452753            |\n",
       "| Louisiana            | LA                   | South                | 4533372              | 351                  |  7.742581            |\n",
       "| Missouri             | MO                   | North Central        | 5988927              | 321                  |  5.359892            |\n",
       "| Maryland             | MD                   | South                | 5773552              | 293                  |  5.074866            |\n",
       "| South Carolina       | SC                   | South                | 4625364              | 207                  |  4.475323            |\n",
       "| Delaware             | DE                   | South                |  897934              |  38                  |  4.231937            |\n",
       "| Michigan             | MI                   | North Central        | 9883640              | 413                  |  4.178622            |\n",
       "| Mississippi          | MS                   | South                | 2967297              | 120                  |  4.044085            |\n",
       "| Georgia              | GA                   | South                | 9920000              | 376                  |  3.790323            |\n",
       "| Arizona              | AZ                   | West                 | 6392017              | 232                  |  3.629527            |\n",
       "\n"
      ],
      "text/plain": [
       "   state                abb region        population total murder_rate\n",
       "1  District of Columbia DC  South          601723     99   16.452753  \n",
       "2  Louisiana            LA  South         4533372    351    7.742581  \n",
       "3  Missouri             MO  North Central 5988927    321    5.359892  \n",
       "4  Maryland             MD  South         5773552    293    5.074866  \n",
       "5  South Carolina       SC  South         4625364    207    4.475323  \n",
       "6  Delaware             DE  South          897934     38    4.231937  \n",
       "7  Michigan             MI  North Central 9883640    413    4.178622  \n",
       "8  Mississippi          MS  South         2967297    120    4.044085  \n",
       "9  Georgia              GA  South         9920000    376    3.790323  \n",
       "10 Arizona              AZ  West          6392017    232    3.629527  "
      ]
     },
     "metadata": {},
     "output_type": "display_data"
    }
   ],
   "source": [
    "murders %>% mutate(murder_rate = total/population * 100000) %>% arrange(desc(murder_rate)) %>% top_n(10, murder_rate)"
   ]
  },
  {
   "cell_type": "code",
   "execution_count": 20,
   "metadata": {},
   "outputs": [
    {
     "data": {
      "text/html": [
       "<table>\n",
       "<thead><tr><th scope=col>state</th><th scope=col>abb</th><th scope=col>region</th><th scope=col>population</th><th scope=col>total</th><th scope=col>murder_rate</th></tr></thead>\n",
       "<tbody>\n",
       "\t<tr><td>Wyoming             </td><td>WY                  </td><td>West                </td><td>563626              </td><td> 5                  </td><td> 0.8871131          </td></tr>\n",
       "\t<tr><td>District of Columbia</td><td>DC                  </td><td>South               </td><td>601723              </td><td>99                  </td><td>16.4527532          </td></tr>\n",
       "\t<tr><td>Vermont             </td><td>VT                  </td><td>Northeast           </td><td>625741              </td><td> 2                  </td><td> 0.3196211          </td></tr>\n",
       "\t<tr><td>North Dakota        </td><td>ND                  </td><td>North Central       </td><td>672591              </td><td> 4                  </td><td> 0.5947151          </td></tr>\n",
       "\t<tr><td>Alaska              </td><td>AK                  </td><td>West                </td><td>710231              </td><td>19                  </td><td> 2.6751860          </td></tr>\n",
       "\t<tr><td>South Dakota        </td><td>SD                  </td><td>North Central       </td><td>814180              </td><td> 8                  </td><td> 0.9825837          </td></tr>\n",
       "</tbody>\n",
       "</table>\n"
      ],
      "text/latex": [
       "\\begin{tabular}{r|llllll}\n",
       " state & abb & region & population & total & murder\\_rate\\\\\n",
       "\\hline\n",
       "\t Wyoming              & WY                   & West                 & 563626               &  5                   &  0.8871131          \\\\\n",
       "\t District of Columbia & DC                   & South                & 601723               & 99                   & 16.4527532          \\\\\n",
       "\t Vermont              & VT                   & Northeast            & 625741               &  2                   &  0.3196211          \\\\\n",
       "\t North Dakota         & ND                   & North Central        & 672591               &  4                   &  0.5947151          \\\\\n",
       "\t Alaska               & AK                   & West                 & 710231               & 19                   &  2.6751860          \\\\\n",
       "\t South Dakota         & SD                   & North Central        & 814180               &  8                   &  0.9825837          \\\\\n",
       "\\end{tabular}\n"
      ],
      "text/markdown": [
       "\n",
       "| state | abb | region | population | total | murder_rate |\n",
       "|---|---|---|---|---|---|\n",
       "| Wyoming              | WY                   | West                 | 563626               |  5                   |  0.8871131           |\n",
       "| District of Columbia | DC                   | South                | 601723               | 99                   | 16.4527532           |\n",
       "| Vermont              | VT                   | Northeast            | 625741               |  2                   |  0.3196211           |\n",
       "| North Dakota         | ND                   | North Central        | 672591               |  4                   |  0.5947151           |\n",
       "| Alaska               | AK                   | West                 | 710231               | 19                   |  2.6751860           |\n",
       "| South Dakota         | SD                   | North Central        | 814180               |  8                   |  0.9825837           |\n",
       "\n"
      ],
      "text/plain": [
       "  state                abb region        population total murder_rate\n",
       "1 Wyoming              WY  West          563626      5     0.8871131 \n",
       "2 District of Columbia DC  South         601723     99    16.4527532 \n",
       "3 Vermont              VT  Northeast     625741      2     0.3196211 \n",
       "4 North Dakota         ND  North Central 672591      4     0.5947151 \n",
       "5 Alaska               AK  West          710231     19     2.6751860 \n",
       "6 South Dakota         SD  North Central 814180      8     0.9825837 "
      ]
     },
     "metadata": {},
     "output_type": "display_data"
    }
   ],
   "source": [
    "murders %>% arrange(population) %>% head()"
   ]
  },
  {
   "cell_type": "code",
   "execution_count": 21,
   "metadata": {},
   "outputs": [
    {
     "data": {
      "text/html": [
       "<table>\n",
       "<thead><tr><th scope=col>state</th><th scope=col>abb</th><th scope=col>region</th><th scope=col>population</th><th scope=col>total</th><th scope=col>murder_rate</th></tr></thead>\n",
       "<tbody>\n",
       "\t<tr><td>California   </td><td>CA           </td><td>West         </td><td>37253956     </td><td>1257         </td><td>3.374138     </td></tr>\n",
       "\t<tr><td>Texas        </td><td>TX           </td><td>South        </td><td>25145561     </td><td> 805         </td><td>3.201360     </td></tr>\n",
       "\t<tr><td>Florida      </td><td>FL           </td><td>South        </td><td>19687653     </td><td> 669         </td><td>3.398069     </td></tr>\n",
       "\t<tr><td>New York     </td><td>NY           </td><td>Northeast    </td><td>19378102     </td><td> 517         </td><td>2.667960     </td></tr>\n",
       "\t<tr><td>Illinois     </td><td>IL           </td><td>North Central</td><td>12830632     </td><td> 364         </td><td>2.836961     </td></tr>\n",
       "\t<tr><td>Pennsylvania </td><td>PA           </td><td>Northeast    </td><td>12702379     </td><td> 457         </td><td>3.597751     </td></tr>\n",
       "</tbody>\n",
       "</table>\n"
      ],
      "text/latex": [
       "\\begin{tabular}{r|llllll}\n",
       " state & abb & region & population & total & murder\\_rate\\\\\n",
       "\\hline\n",
       "\t California    & CA            & West          & 37253956      & 1257          & 3.374138     \\\\\n",
       "\t Texas         & TX            & South         & 25145561      &  805          & 3.201360     \\\\\n",
       "\t Florida       & FL            & South         & 19687653      &  669          & 3.398069     \\\\\n",
       "\t New York      & NY            & Northeast     & 19378102      &  517          & 2.667960     \\\\\n",
       "\t Illinois      & IL            & North Central & 12830632      &  364          & 2.836961     \\\\\n",
       "\t Pennsylvania  & PA            & Northeast     & 12702379      &  457          & 3.597751     \\\\\n",
       "\\end{tabular}\n"
      ],
      "text/markdown": [
       "\n",
       "| state | abb | region | population | total | murder_rate |\n",
       "|---|---|---|---|---|---|\n",
       "| California    | CA            | West          | 37253956      | 1257          | 3.374138      |\n",
       "| Texas         | TX            | South         | 25145561      |  805          | 3.201360      |\n",
       "| Florida       | FL            | South         | 19687653      |  669          | 3.398069      |\n",
       "| New York      | NY            | Northeast     | 19378102      |  517          | 2.667960      |\n",
       "| Illinois      | IL            | North Central | 12830632      |  364          | 2.836961      |\n",
       "| Pennsylvania  | PA            | Northeast     | 12702379      |  457          | 3.597751      |\n",
       "\n"
      ],
      "text/plain": [
       "  state        abb region        population total murder_rate\n",
       "1 California   CA  West          37253956   1257  3.374138   \n",
       "2 Texas        TX  South         25145561    805  3.201360   \n",
       "3 Florida      FL  South         19687653    669  3.398069   \n",
       "4 New York     NY  Northeast     19378102    517  2.667960   \n",
       "5 Illinois     IL  North Central 12830632    364  2.836961   \n",
       "6 Pennsylvania PA  Northeast     12702379    457  3.597751   "
      ]
     },
     "metadata": {},
     "output_type": "display_data"
    }
   ],
   "source": [
    "murders %>% arrange(desc(population)) %>% head()"
   ]
  },
  {
   "cell_type": "code",
   "execution_count": 22,
   "metadata": {},
   "outputs": [
    {
     "data": {
      "text/html": [
       "<table>\n",
       "<thead><tr><th scope=col>state</th><th scope=col>abb</th><th scope=col>region</th><th scope=col>population</th><th scope=col>total</th><th scope=col>murder_rate</th></tr></thead>\n",
       "<tbody>\n",
       "\t<tr><td>Vermont      </td><td>VT           </td><td>Northeast    </td><td> 625741      </td><td>  2          </td><td>0.3196211    </td></tr>\n",
       "\t<tr><td>Rhode Island </td><td>RI           </td><td>Northeast    </td><td>1052567      </td><td> 16          </td><td>1.5200933    </td></tr>\n",
       "\t<tr><td>New Hampshire</td><td>NH           </td><td>Northeast    </td><td>1316470      </td><td>  5          </td><td>0.3798036    </td></tr>\n",
       "\t<tr><td>Maine        </td><td>ME           </td><td>Northeast    </td><td>1328361      </td><td> 11          </td><td>0.8280881    </td></tr>\n",
       "\t<tr><td>Connecticut  </td><td>CT           </td><td>Northeast    </td><td>3574097      </td><td> 97          </td><td>2.7139722    </td></tr>\n",
       "\t<tr><td>Massachusetts</td><td>MA           </td><td>Northeast    </td><td>6547629      </td><td>118          </td><td>1.8021791    </td></tr>\n",
       "</tbody>\n",
       "</table>\n"
      ],
      "text/latex": [
       "\\begin{tabular}{r|llllll}\n",
       " state & abb & region & population & total & murder\\_rate\\\\\n",
       "\\hline\n",
       "\t Vermont       & VT            & Northeast     &  625741       &   2           & 0.3196211    \\\\\n",
       "\t Rhode Island  & RI            & Northeast     & 1052567       &  16           & 1.5200933    \\\\\n",
       "\t New Hampshire & NH            & Northeast     & 1316470       &   5           & 0.3798036    \\\\\n",
       "\t Maine         & ME            & Northeast     & 1328361       &  11           & 0.8280881    \\\\\n",
       "\t Connecticut   & CT            & Northeast     & 3574097       &  97           & 2.7139722    \\\\\n",
       "\t Massachusetts & MA            & Northeast     & 6547629       & 118           & 1.8021791    \\\\\n",
       "\\end{tabular}\n"
      ],
      "text/markdown": [
       "\n",
       "| state | abb | region | population | total | murder_rate |\n",
       "|---|---|---|---|---|---|\n",
       "| Vermont       | VT            | Northeast     |  625741       |   2           | 0.3196211     |\n",
       "| Rhode Island  | RI            | Northeast     | 1052567       |  16           | 1.5200933     |\n",
       "| New Hampshire | NH            | Northeast     | 1316470       |   5           | 0.3798036     |\n",
       "| Maine         | ME            | Northeast     | 1328361       |  11           | 0.8280881     |\n",
       "| Connecticut   | CT            | Northeast     | 3574097       |  97           | 2.7139722     |\n",
       "| Massachusetts | MA            | Northeast     | 6547629       | 118           | 1.8021791     |\n",
       "\n"
      ],
      "text/plain": [
       "  state         abb region    population total murder_rate\n",
       "1 Vermont       VT  Northeast  625741      2   0.3196211  \n",
       "2 Rhode Island  RI  Northeast 1052567     16   1.5200933  \n",
       "3 New Hampshire NH  Northeast 1316470      5   0.3798036  \n",
       "4 Maine         ME  Northeast 1328361     11   0.8280881  \n",
       "5 Connecticut   CT  Northeast 3574097     97   2.7139722  \n",
       "6 Massachusetts MA  Northeast 6547629    118   1.8021791  "
      ]
     },
     "metadata": {},
     "output_type": "display_data"
    }
   ],
   "source": [
    "murders %>% arrange(region, population) %>% head()"
   ]
  },
  {
   "cell_type": "code",
   "execution_count": 23,
   "metadata": {},
   "outputs": [
    {
     "data": {
      "text/html": [
       "<table>\n",
       "<thead><tr><th scope=col>state</th><th scope=col>abb</th><th scope=col>region</th><th scope=col>population</th><th scope=col>total</th><th scope=col>murder_rate</th></tr></thead>\n",
       "<tbody>\n",
       "\t<tr><td>Arizona             </td><td>AZ                  </td><td>West                </td><td>6392017             </td><td>232                 </td><td> 3.629527           </td></tr>\n",
       "\t<tr><td>Delaware            </td><td>DE                  </td><td>South               </td><td> 897934             </td><td> 38                 </td><td> 4.231937           </td></tr>\n",
       "\t<tr><td>District of Columbia</td><td>DC                  </td><td>South               </td><td> 601723             </td><td> 99                 </td><td>16.452753           </td></tr>\n",
       "\t<tr><td>Georgia             </td><td>GA                  </td><td>South               </td><td>9920000             </td><td>376                 </td><td> 3.790323           </td></tr>\n",
       "\t<tr><td>Louisiana           </td><td>LA                  </td><td>South               </td><td>4533372             </td><td>351                 </td><td> 7.742581           </td></tr>\n",
       "\t<tr><td>Maryland            </td><td>MD                  </td><td>South               </td><td>5773552             </td><td>293                 </td><td> 5.074866           </td></tr>\n",
       "\t<tr><td>Michigan            </td><td>MI                  </td><td>North Central       </td><td>9883640             </td><td>413                 </td><td> 4.178622           </td></tr>\n",
       "\t<tr><td>Mississippi         </td><td>MS                  </td><td>South               </td><td>2967297             </td><td>120                 </td><td> 4.044085           </td></tr>\n",
       "\t<tr><td>Missouri            </td><td>MO                  </td><td>North Central       </td><td>5988927             </td><td>321                 </td><td> 5.359892           </td></tr>\n",
       "\t<tr><td>South Carolina      </td><td>SC                  </td><td>South               </td><td>4625364             </td><td>207                 </td><td> 4.475323           </td></tr>\n",
       "</tbody>\n",
       "</table>\n"
      ],
      "text/latex": [
       "\\begin{tabular}{r|llllll}\n",
       " state & abb & region & population & total & murder\\_rate\\\\\n",
       "\\hline\n",
       "\t Arizona              & AZ                   & West                 & 6392017              & 232                  &  3.629527           \\\\\n",
       "\t Delaware             & DE                   & South                &  897934              &  38                  &  4.231937           \\\\\n",
       "\t District of Columbia & DC                   & South                &  601723              &  99                  & 16.452753           \\\\\n",
       "\t Georgia              & GA                   & South                & 9920000              & 376                  &  3.790323           \\\\\n",
       "\t Louisiana            & LA                   & South                & 4533372              & 351                  &  7.742581           \\\\\n",
       "\t Maryland             & MD                   & South                & 5773552              & 293                  &  5.074866           \\\\\n",
       "\t Michigan             & MI                   & North Central        & 9883640              & 413                  &  4.178622           \\\\\n",
       "\t Mississippi          & MS                   & South                & 2967297              & 120                  &  4.044085           \\\\\n",
       "\t Missouri             & MO                   & North Central        & 5988927              & 321                  &  5.359892           \\\\\n",
       "\t South Carolina       & SC                   & South                & 4625364              & 207                  &  4.475323           \\\\\n",
       "\\end{tabular}\n"
      ],
      "text/markdown": [
       "\n",
       "| state | abb | region | population | total | murder_rate |\n",
       "|---|---|---|---|---|---|\n",
       "| Arizona              | AZ                   | West                 | 6392017              | 232                  |  3.629527            |\n",
       "| Delaware             | DE                   | South                |  897934              |  38                  |  4.231937            |\n",
       "| District of Columbia | DC                   | South                |  601723              |  99                  | 16.452753            |\n",
       "| Georgia              | GA                   | South                | 9920000              | 376                  |  3.790323            |\n",
       "| Louisiana            | LA                   | South                | 4533372              | 351                  |  7.742581            |\n",
       "| Maryland             | MD                   | South                | 5773552              | 293                  |  5.074866            |\n",
       "| Michigan             | MI                   | North Central        | 9883640              | 413                  |  4.178622            |\n",
       "| Mississippi          | MS                   | South                | 2967297              | 120                  |  4.044085            |\n",
       "| Missouri             | MO                   | North Central        | 5988927              | 321                  |  5.359892            |\n",
       "| South Carolina       | SC                   | South                | 4625364              | 207                  |  4.475323            |\n",
       "\n"
      ],
      "text/plain": [
       "   state                abb region        population total murder_rate\n",
       "1  Arizona              AZ  West          6392017    232    3.629527  \n",
       "2  Delaware             DE  South          897934     38    4.231937  \n",
       "3  District of Columbia DC  South          601723     99   16.452753  \n",
       "4  Georgia              GA  South         9920000    376    3.790323  \n",
       "5  Louisiana            LA  South         4533372    351    7.742581  \n",
       "6  Maryland             MD  South         5773552    293    5.074866  \n",
       "7  Michigan             MI  North Central 9883640    413    4.178622  \n",
       "8  Mississippi          MS  South         2967297    120    4.044085  \n",
       "9  Missouri             MO  North Central 5988927    321    5.359892  \n",
       "10 South Carolina       SC  South         4625364    207    4.475323  "
      ]
     },
     "metadata": {},
     "output_type": "display_data"
    }
   ],
   "source": [
    "murders %>% top_n(10, murder_rate)"
   ]
  },
  {
   "cell_type": "code",
   "execution_count": null,
   "metadata": {},
   "outputs": [],
   "source": []
  }
 ],
 "metadata": {
  "kernelspec": {
   "display_name": "R",
   "language": "R",
   "name": "ir"
  },
  "language_info": {
   "codemirror_mode": "r",
   "file_extension": ".r",
   "mimetype": "text/x-r-source",
   "name": "R",
   "pygments_lexer": "r",
   "version": "3.6.1"
  },
  "toc": {
   "base_numbering": 1,
   "nav_menu": {},
   "number_sections": true,
   "sideBar": true,
   "skip_h1_title": false,
   "title_cell": "Table of Contents",
   "title_sidebar": "Contents",
   "toc_cell": false,
   "toc_position": {},
   "toc_section_display": true,
   "toc_window_display": false
  },
  "varInspector": {
   "cols": {
    "lenName": 16,
    "lenType": 16,
    "lenVar": 40
   },
   "kernels_config": {
    "python": {
     "delete_cmd_postfix": "",
     "delete_cmd_prefix": "del ",
     "library": "var_list.py",
     "varRefreshCmd": "print(var_dic_list())"
    },
    "r": {
     "delete_cmd_postfix": ") ",
     "delete_cmd_prefix": "rm(",
     "library": "var_list.r",
     "varRefreshCmd": "cat(var_dic_list()) "
    }
   },
   "types_to_exclude": [
    "module",
    "function",
    "builtin_function_or_method",
    "instance",
    "_Feature"
   ],
   "window_display": false
  }
 },
 "nbformat": 4,
 "nbformat_minor": 4
}
