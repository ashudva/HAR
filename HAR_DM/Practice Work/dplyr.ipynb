{
 "cells": [
  {
   "cell_type": "code",
   "execution_count": 1,
   "metadata": {},
   "outputs": [
    {
     "name": "stderr",
     "output_type": "stream",
     "text": [
      "\n",
      "Attaching package: ‘dplyr’\n",
      "\n",
      "The following objects are masked from ‘package:stats’:\n",
      "\n",
      "    filter, lag\n",
      "\n",
      "The following objects are masked from ‘package:base’:\n",
      "\n",
      "    intersect, setdiff, setequal, union\n",
      "\n"
     ]
    },
    {
     "data": {
      "text/html": [
       "<table>\n",
       "<thead><tr><th scope=col>state</th><th scope=col>abb</th><th scope=col>region</th><th scope=col>population</th><th scope=col>total</th><th scope=col>rate</th></tr></thead>\n",
       "<tbody>\n",
       "\t<tr><td>Hawaii       </td><td>HI           </td><td>West         </td><td>1360301      </td><td> 7           </td><td>0.5145920    </td></tr>\n",
       "\t<tr><td>Iowa         </td><td>IA           </td><td>North Central</td><td>3046355      </td><td>21           </td><td>0.6893484    </td></tr>\n",
       "\t<tr><td>New Hampshire</td><td>NH           </td><td>Northeast    </td><td>1316470      </td><td> 5           </td><td>0.3798036    </td></tr>\n",
       "\t<tr><td>North Dakota </td><td>ND           </td><td>North Central</td><td> 672591      </td><td> 4           </td><td>0.5947151    </td></tr>\n",
       "\t<tr><td>Vermont      </td><td>VT           </td><td>Northeast    </td><td> 625741      </td><td> 2           </td><td>0.3196211    </td></tr>\n",
       "</tbody>\n",
       "</table>\n"
      ],
      "text/latex": [
       "\\begin{tabular}{r|llllll}\n",
       " state & abb & region & population & total & rate\\\\\n",
       "\\hline\n",
       "\t Hawaii        & HI            & West          & 1360301       &  7            & 0.5145920    \\\\\n",
       "\t Iowa          & IA            & North Central & 3046355       & 21            & 0.6893484    \\\\\n",
       "\t New Hampshire & NH            & Northeast     & 1316470       &  5            & 0.3798036    \\\\\n",
       "\t North Dakota  & ND            & North Central &  672591       &  4            & 0.5947151    \\\\\n",
       "\t Vermont       & VT            & Northeast     &  625741       &  2            & 0.3196211    \\\\\n",
       "\\end{tabular}\n"
      ],
      "text/markdown": [
       "\n",
       "| state | abb | region | population | total | rate |\n",
       "|---|---|---|---|---|---|\n",
       "| Hawaii        | HI            | West          | 1360301       |  7            | 0.5145920     |\n",
       "| Iowa          | IA            | North Central | 3046355       | 21            | 0.6893484     |\n",
       "| New Hampshire | NH            | Northeast     | 1316470       |  5            | 0.3798036     |\n",
       "| North Dakota  | ND            | North Central |  672591       |  4            | 0.5947151     |\n",
       "| Vermont       | VT            | Northeast     |  625741       |  2            | 0.3196211     |\n",
       "\n"
      ],
      "text/plain": [
       "  state         abb region        population total rate     \n",
       "1 Hawaii        HI  West          1360301     7    0.5145920\n",
       "2 Iowa          IA  North Central 3046355    21    0.6893484\n",
       "3 New Hampshire NH  Northeast     1316470     5    0.3798036\n",
       "4 North Dakota  ND  North Central  672591     4    0.5947151\n",
       "5 Vermont       VT  Northeast      625741     2    0.3196211"
      ]
     },
     "metadata": {},
     "output_type": "display_data"
    },
    {
     "data": {
      "text/html": [
       "<table>\n",
       "<thead><tr><th scope=col>state</th><th scope=col>region</th><th scope=col>rate</th></tr></thead>\n",
       "<tbody>\n",
       "\t<tr><td>Hawaii       </td><td>West         </td><td>0.5145920    </td></tr>\n",
       "\t<tr><td>Iowa         </td><td>North Central</td><td>0.6893484    </td></tr>\n",
       "\t<tr><td>New Hampshire</td><td>Northeast    </td><td>0.3798036    </td></tr>\n",
       "\t<tr><td>North Dakota </td><td>North Central</td><td>0.5947151    </td></tr>\n",
       "\t<tr><td>Vermont      </td><td>Northeast    </td><td>0.3196211    </td></tr>\n",
       "</tbody>\n",
       "</table>\n"
      ],
      "text/latex": [
       "\\begin{tabular}{r|lll}\n",
       " state & region & rate\\\\\n",
       "\\hline\n",
       "\t Hawaii        & West          & 0.5145920    \\\\\n",
       "\t Iowa          & North Central & 0.6893484    \\\\\n",
       "\t New Hampshire & Northeast     & 0.3798036    \\\\\n",
       "\t North Dakota  & North Central & 0.5947151    \\\\\n",
       "\t Vermont       & Northeast     & 0.3196211    \\\\\n",
       "\\end{tabular}\n"
      ],
      "text/markdown": [
       "\n",
       "| state | region | rate |\n",
       "|---|---|---|\n",
       "| Hawaii        | West          | 0.5145920     |\n",
       "| Iowa          | North Central | 0.6893484     |\n",
       "| New Hampshire | Northeast     | 0.3798036     |\n",
       "| North Dakota  | North Central | 0.5947151     |\n",
       "| Vermont       | Northeast     | 0.3196211     |\n",
       "\n"
      ],
      "text/plain": [
       "  state         region        rate     \n",
       "1 Hawaii        West          0.5145920\n",
       "2 Iowa          North Central 0.6893484\n",
       "3 New Hampshire Northeast     0.3798036\n",
       "4 North Dakota  North Central 0.5947151\n",
       "5 Vermont       Northeast     0.3196211"
      ]
     },
     "metadata": {},
     "output_type": "display_data"
    }
   ],
   "source": [
    "# installing and loading the dplyr package\n",
    "# install.packages(\"dplyr\")\n",
    "library(dplyr)\n",
    "\n",
    "# adding a column with mutate\n",
    "library(dslabs)\n",
    "data(\"murders\")\n",
    "murders <- mutate(murders, rate = total / population * 100000)\n",
    "\n",
    "# subsetting with filter\n",
    "filter(murders, rate <= 0.71)\n",
    "\n",
    "# selecting columns with select\n",
    "new_table <- select(murders, state, region, rate)\n",
    "\n",
    "# using the pipe\n",
    "murders %>% select(state, region, rate) %>% filter(rate <= 0.71)"
   ]
  },
  {
   "cell_type": "code",
   "execution_count": 3,
   "metadata": {},
   "outputs": [
    {
     "data": {
      "text/html": [
       "<table>\n",
       "<thead><tr><th scope=col>state</th><th scope=col>abb</th><th scope=col>region</th><th scope=col>population</th><th scope=col>total</th><th scope=col>population_in_millions</th></tr></thead>\n",
       "<tbody>\n",
       "\t<tr><td>Alabama   </td><td>AL        </td><td>South     </td><td> 4779736  </td><td> 135      </td><td> 4.779736 </td></tr>\n",
       "\t<tr><td>Alaska    </td><td>AK        </td><td>West      </td><td>  710231  </td><td>  19      </td><td> 0.710231 </td></tr>\n",
       "\t<tr><td>Arizona   </td><td>AZ        </td><td>West      </td><td> 6392017  </td><td> 232      </td><td> 6.392017 </td></tr>\n",
       "\t<tr><td>Arkansas  </td><td>AR        </td><td>South     </td><td> 2915918  </td><td>  93      </td><td> 2.915918 </td></tr>\n",
       "\t<tr><td>California</td><td>CA        </td><td>West      </td><td>37253956  </td><td>1257      </td><td>37.253956 </td></tr>\n",
       "\t<tr><td>Colorado  </td><td>CO        </td><td>West      </td><td> 5029196  </td><td>  65      </td><td> 5.029196 </td></tr>\n",
       "</tbody>\n",
       "</table>\n"
      ],
      "text/latex": [
       "\\begin{tabular}{r|llllll}\n",
       " state & abb & region & population & total & population\\_in\\_millions\\\\\n",
       "\\hline\n",
       "\t Alabama    & AL         & South      &  4779736   &  135       &  4.779736 \\\\\n",
       "\t Alaska     & AK         & West       &   710231   &   19       &  0.710231 \\\\\n",
       "\t Arizona    & AZ         & West       &  6392017   &  232       &  6.392017 \\\\\n",
       "\t Arkansas   & AR         & South      &  2915918   &   93       &  2.915918 \\\\\n",
       "\t California & CA         & West       & 37253956   & 1257       & 37.253956 \\\\\n",
       "\t Colorado   & CO         & West       &  5029196   &   65       &  5.029196 \\\\\n",
       "\\end{tabular}\n"
      ],
      "text/markdown": [
       "\n",
       "| state | abb | region | population | total | population_in_millions |\n",
       "|---|---|---|---|---|---|\n",
       "| Alabama    | AL         | South      |  4779736   |  135       |  4.779736  |\n",
       "| Alaska     | AK         | West       |   710231   |   19       |  0.710231  |\n",
       "| Arizona    | AZ         | West       |  6392017   |  232       |  6.392017  |\n",
       "| Arkansas   | AR         | South      |  2915918   |   93       |  2.915918  |\n",
       "| California | CA         | West       | 37253956   | 1257       | 37.253956  |\n",
       "| Colorado   | CO         | West       |  5029196   |   65       |  5.029196  |\n",
       "\n"
      ],
      "text/plain": [
       "  state      abb region population total population_in_millions\n",
       "1 Alabama    AL  South   4779736    135   4.779736             \n",
       "2 Alaska     AK  West     710231     19   0.710231             \n",
       "3 Arizona    AZ  West    6392017    232   6.392017             \n",
       "4 Arkansas   AR  South   2915918     93   2.915918             \n",
       "5 California CA  West   37253956   1257  37.253956             \n",
       "6 Colorado   CO  West    5029196     65   5.029196             "
      ]
     },
     "metadata": {},
     "output_type": "display_data"
    }
   ],
   "source": [
    "# Load the dplyr package and the murders dataset.\n",
    "\n",
    "library(dplyr)\n",
    "library(dslabs)\n",
    "data(murders)\n",
    "# You can add columns using the dplyr function mutate.\n",
    "# This function is aware of the column names and inside the function you can call them unquoted. Like this:\n",
    "\n",
    "murders <- mutate(murders, population_in_millions = population / 10^6)\n",
    "# Note that we can write population rather than murders$population.\n",
    "# The function mutate knows we are grabing columns from murders.\n",
    "head(murders)"
   ]
  },
  {
   "cell_type": "code",
   "execution_count": 4,
   "metadata": {},
   "outputs": [],
   "source": [
    "# Note that if rank(x) gives you the ranks of x from lowest to highest,\n",
    "# rank(-x) gives you the ranks from highest to lowest."
   ]
  },
  {
   "cell_type": "code",
   "execution_count": 5,
   "metadata": {},
   "outputs": [
    {
     "data": {
      "text/html": [
       "<table>\n",
       "<thead><tr><th scope=col>state</th><th scope=col>abb</th><th scope=col>region</th><th scope=col>population</th><th scope=col>total</th><th scope=col>population_in_millions</th><th scope=col>rate</th><th scope=col>rank</th></tr></thead>\n",
       "<tbody>\n",
       "\t<tr><td>District of Columbia</td><td>DC                  </td><td>South               </td><td> 601723             </td><td> 99                 </td><td>0.601723            </td><td>16.452753           </td><td>1                   </td></tr>\n",
       "\t<tr><td>Louisiana           </td><td>LA                  </td><td>South               </td><td>4533372             </td><td>351                 </td><td>4.533372            </td><td> 7.742581           </td><td>2                   </td></tr>\n",
       "\t<tr><td>Maryland            </td><td>MD                  </td><td>South               </td><td>5773552             </td><td>293                 </td><td>5.773552            </td><td> 5.074866           </td><td>4                   </td></tr>\n",
       "\t<tr><td>Missouri            </td><td>MO                  </td><td>North Central       </td><td>5988927             </td><td>321                 </td><td>5.988927            </td><td> 5.359892           </td><td>3                   </td></tr>\n",
       "\t<tr><td>South Carolina      </td><td>SC                  </td><td>South               </td><td>4625364             </td><td>207                 </td><td>4.625364            </td><td> 4.475323           </td><td>5                   </td></tr>\n",
       "</tbody>\n",
       "</table>\n"
      ],
      "text/latex": [
       "\\begin{tabular}{r|llllllll}\n",
       " state & abb & region & population & total & population\\_in\\_millions & rate & rank\\\\\n",
       "\\hline\n",
       "\t District of Columbia & DC                   & South                &  601723              &  99                  & 0.601723             & 16.452753            & 1                   \\\\\n",
       "\t Louisiana            & LA                   & South                & 4533372              & 351                  & 4.533372             &  7.742581            & 2                   \\\\\n",
       "\t Maryland             & MD                   & South                & 5773552              & 293                  & 5.773552             &  5.074866            & 4                   \\\\\n",
       "\t Missouri             & MO                   & North Central        & 5988927              & 321                  & 5.988927             &  5.359892            & 3                   \\\\\n",
       "\t South Carolina       & SC                   & South                & 4625364              & 207                  & 4.625364             &  4.475323            & 5                   \\\\\n",
       "\\end{tabular}\n"
      ],
      "text/markdown": [
       "\n",
       "| state | abb | region | population | total | population_in_millions | rate | rank |\n",
       "|---|---|---|---|---|---|---|---|\n",
       "| District of Columbia | DC                   | South                |  601723              |  99                  | 0.601723             | 16.452753            | 1                    |\n",
       "| Louisiana            | LA                   | South                | 4533372              | 351                  | 4.533372             |  7.742581            | 2                    |\n",
       "| Maryland             | MD                   | South                | 5773552              | 293                  | 5.773552             |  5.074866            | 4                    |\n",
       "| Missouri             | MO                   | North Central        | 5988927              | 321                  | 5.988927             |  5.359892            | 3                    |\n",
       "| South Carolina       | SC                   | South                | 4625364              | 207                  | 4.625364             |  4.475323            | 5                    |\n",
       "\n"
      ],
      "text/plain": [
       "  state                abb region        population total\n",
       "1 District of Columbia DC  South          601723     99  \n",
       "2 Louisiana            LA  South         4533372    351  \n",
       "3 Maryland             MD  South         5773552    293  \n",
       "4 Missouri             MO  North Central 5988927    321  \n",
       "5 South Carolina       SC  South         4625364    207  \n",
       "  population_in_millions rate      rank\n",
       "1 0.601723               16.452753 1   \n",
       "2 4.533372                7.742581 2   \n",
       "3 5.773552                5.074866 4   \n",
       "4 5.988927                5.359892 3   \n",
       "5 4.625364                4.475323 5   "
      ]
     },
     "metadata": {},
     "output_type": "display_data"
    }
   ],
   "source": [
    "# Add the necessary columns\n",
    "murders <- mutate(murders, rate = total/population * 100000, rank = rank(-rate))\n",
    "\n",
    "# Filter to show the top 5 states with the highest murder rates\n",
    "filter(murders, rank < 6)"
   ]
  },
  {
   "cell_type": "code",
   "execution_count": 9,
   "metadata": {},
   "outputs": [
    {
     "data": {
      "text/html": [
       "<table>\n",
       "<thead><tr><th scope=col>state</th><th scope=col>rate</th><th scope=col>rank</th></tr></thead>\n",
       "<tbody>\n",
       "\t<tr><td>Hawaii       </td><td>0.5145920    </td><td>49           </td></tr>\n",
       "\t<tr><td>Idaho        </td><td>0.7655102    </td><td>46           </td></tr>\n",
       "\t<tr><td>Maine        </td><td>0.8280881    </td><td>44           </td></tr>\n",
       "\t<tr><td>New Hampshire</td><td>0.3798036    </td><td>50           </td></tr>\n",
       "\t<tr><td>Oregon       </td><td>0.9396843    </td><td>42           </td></tr>\n",
       "\t<tr><td>Utah         </td><td>0.7959810    </td><td>45           </td></tr>\n",
       "\t<tr><td>Vermont      </td><td>0.3196211    </td><td>51           </td></tr>\n",
       "\t<tr><td>Wyoming      </td><td>0.8871131    </td><td>43           </td></tr>\n",
       "</tbody>\n",
       "</table>\n"
      ],
      "text/latex": [
       "\\begin{tabular}{r|lll}\n",
       " state & rate & rank\\\\\n",
       "\\hline\n",
       "\t Hawaii        & 0.5145920     & 49           \\\\\n",
       "\t Idaho         & 0.7655102     & 46           \\\\\n",
       "\t Maine         & 0.8280881     & 44           \\\\\n",
       "\t New Hampshire & 0.3798036     & 50           \\\\\n",
       "\t Oregon        & 0.9396843     & 42           \\\\\n",
       "\t Utah          & 0.7959810     & 45           \\\\\n",
       "\t Vermont       & 0.3196211     & 51           \\\\\n",
       "\t Wyoming       & 0.8871131     & 43           \\\\\n",
       "\\end{tabular}\n"
      ],
      "text/markdown": [
       "\n",
       "| state | rate | rank |\n",
       "|---|---|---|\n",
       "| Hawaii        | 0.5145920     | 49            |\n",
       "| Idaho         | 0.7655102     | 46            |\n",
       "| Maine         | 0.8280881     | 44            |\n",
       "| New Hampshire | 0.3798036     | 50            |\n",
       "| Oregon        | 0.9396843     | 42            |\n",
       "| Utah          | 0.7959810     | 45            |\n",
       "| Vermont       | 0.3196211     | 51            |\n",
       "| Wyoming       | 0.8871131     | 43            |\n",
       "\n"
      ],
      "text/plain": [
       "  state         rate      rank\n",
       "1 Hawaii        0.5145920 49  \n",
       "2 Idaho         0.7655102 46  \n",
       "3 Maine         0.8280881 44  \n",
       "4 New Hampshire 0.3798036 50  \n",
       "5 Oregon        0.9396843 42  \n",
       "6 Utah          0.7959810 45  \n",
       "7 Vermont       0.3196211 51  \n",
       "8 Wyoming       0.8871131 43  "
      ]
     },
     "metadata": {},
     "output_type": "display_data"
    },
    {
     "data": {
      "text/html": [
       "<table>\n",
       "<thead><tr><th scope=col>state</th><th scope=col>rate</th><th scope=col>rank</th></tr></thead>\n",
       "<tbody>\n",
       "\t<tr><td>Hawaii       </td><td>0.5145920    </td><td>49           </td></tr>\n",
       "\t<tr><td>Idaho        </td><td>0.7655102    </td><td>46           </td></tr>\n",
       "\t<tr><td>Maine        </td><td>0.8280881    </td><td>44           </td></tr>\n",
       "\t<tr><td>New Hampshire</td><td>0.3798036    </td><td>50           </td></tr>\n",
       "\t<tr><td>Oregon       </td><td>0.9396843    </td><td>42           </td></tr>\n",
       "\t<tr><td>Utah         </td><td>0.7959810    </td><td>45           </td></tr>\n",
       "\t<tr><td>Vermont      </td><td>0.3196211    </td><td>51           </td></tr>\n",
       "\t<tr><td>Wyoming      </td><td>0.8871131    </td><td>43           </td></tr>\n",
       "</tbody>\n",
       "</table>\n"
      ],
      "text/latex": [
       "\\begin{tabular}{r|lll}\n",
       " state & rate & rank\\\\\n",
       "\\hline\n",
       "\t Hawaii        & 0.5145920     & 49           \\\\\n",
       "\t Idaho         & 0.7655102     & 46           \\\\\n",
       "\t Maine         & 0.8280881     & 44           \\\\\n",
       "\t New Hampshire & 0.3798036     & 50           \\\\\n",
       "\t Oregon        & 0.9396843     & 42           \\\\\n",
       "\t Utah          & 0.7959810     & 45           \\\\\n",
       "\t Vermont       & 0.3196211     & 51           \\\\\n",
       "\t Wyoming       & 0.8871131     & 43           \\\\\n",
       "\\end{tabular}\n"
      ],
      "text/markdown": [
       "\n",
       "| state | rate | rank |\n",
       "|---|---|---|\n",
       "| Hawaii        | 0.5145920     | 49            |\n",
       "| Idaho         | 0.7655102     | 46            |\n",
       "| Maine         | 0.8280881     | 44            |\n",
       "| New Hampshire | 0.3798036     | 50            |\n",
       "| Oregon        | 0.9396843     | 42            |\n",
       "| Utah          | 0.7959810     | 45            |\n",
       "| Vermont       | 0.3196211     | 51            |\n",
       "| Wyoming       | 0.8871131     | 43            |\n",
       "\n"
      ],
      "text/plain": [
       "  state         rate      rank\n",
       "1 Hawaii        0.5145920 49  \n",
       "2 Idaho         0.7655102 46  \n",
       "3 Maine         0.8280881 44  \n",
       "4 New Hampshire 0.3798036 50  \n",
       "5 Oregon        0.9396843 42  \n",
       "6 Utah          0.7959810 45  \n",
       "7 Vermont       0.3196211 51  \n",
       "8 Wyoming       0.8871131 43  "
      ]
     },
     "metadata": {},
     "output_type": "display_data"
    }
   ],
   "source": [
    "# Using the pipe %>%\n",
    "# The pipe %>% can be used to perform operations sequentially without having to define intermediate objects.\n",
    "# After redefining murder to include rate and rank.\n",
    "\n",
    "library(dplyr)\n",
    "murders <- mutate(murders, rate =  total / population * 100000, rank = rank(-rate))\n",
    "# in the solution to the previous exercise we did the following:\n",
    "\n",
    "# Created a table \n",
    "my_states <- filter(murders, region %in% c(\"Northeast\", \"West\") & rate < 1)\n",
    "\n",
    "# Used select to show only the state name, the murder rate and the rank\n",
    "select(my_states, state, rate, rank)\n",
    "\n",
    "# The pipe %>% permits us to perform both operation sequentially\n",
    "# and without having to define an intermediate variable my_states\n",
    "\n",
    "\n",
    "## Define the rate column\n",
    "murders <- mutate(murders, rate =  total / population * 100000, rank = rank(-rate))\n",
    "\n",
    "# show the result and only include the state, rate, and rank columns, all in one line\n",
    "filter(murders, region %in% c(\"Northeast\", \"West\") & rate < 1) %>% select(state, rate, rank)\n",
    "\n",
    "# Note that select no longer has a data frame as the first argument.\n",
    "# The first argument is assumed to be the result of the operation conducted right before the %>%"
   ]
  },
  {
   "cell_type": "code",
   "execution_count": null,
   "metadata": {},
   "outputs": [],
   "source": []
  }
 ],
 "metadata": {
  "kernelspec": {
   "display_name": "R",
   "language": "R",
   "name": "ir"
  },
  "language_info": {
   "codemirror_mode": "r",
   "file_extension": ".r",
   "mimetype": "text/x-r-source",
   "name": "R",
   "pygments_lexer": "r",
   "version": "3.6.1"
  },
  "toc": {
   "base_numbering": 1,
   "nav_menu": {},
   "number_sections": true,
   "sideBar": true,
   "skip_h1_title": false,
   "title_cell": "Table of Contents",
   "title_sidebar": "Contents",
   "toc_cell": false,
   "toc_position": {},
   "toc_section_display": true,
   "toc_window_display": false
  },
  "varInspector": {
   "cols": {
    "lenName": 16,
    "lenType": 16,
    "lenVar": 40
   },
   "kernels_config": {
    "python": {
     "delete_cmd_postfix": "",
     "delete_cmd_prefix": "del ",
     "library": "var_list.py",
     "varRefreshCmd": "print(var_dic_list())"
    },
    "r": {
     "delete_cmd_postfix": ") ",
     "delete_cmd_prefix": "rm(",
     "library": "var_list.r",
     "varRefreshCmd": "cat(var_dic_list()) "
    }
   },
   "types_to_exclude": [
    "module",
    "function",
    "builtin_function_or_method",
    "instance",
    "_Feature"
   ],
   "window_display": false
  }
 },
 "nbformat": 4,
 "nbformat_minor": 4
}
